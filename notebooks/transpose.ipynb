{
 "cells": [
  {
   "cell_type": "code",
   "execution_count": 22,
   "id": "72010bab",
   "metadata": {
    "scrolled": true
   },
   "outputs": [],
   "source": [
    "from fold import *"
   ]
  },
  {
   "cell_type": "code",
   "execution_count": 23,
   "id": "00575adb",
   "metadata": {
    "scrolled": false
   },
   "outputs": [],
   "source": [
    "from functools import reduce\n",
    "from operator import mul\n",
    "\n",
    "from fold import *\n",
    "\n",
    "def product(seq):\n",
    "    return reduce(mul, seq, 1)\n",
    "\n",
    "# check rectangular shapes against PT\n",
    "def check_rect(shape, x, y):\n",
    "    a = arange(*shape)\n",
    "    at = a.transpose(x, y)\n",
    "    print(f\"{a.shape}.transpose({x}, {y}) -> {at.shape}\")\n",
    "    t = torch.arange(product(shape)).reshape(*shape)\n",
    "    tt = t.transpose(x, y)\n",
    "    assert tt.equal(torch.tensor(at.tolist()))\n",
    "    \n",
    "# for now, check others by eye\n",
    "def check(shape, x, y):\n",
    "    a = arange(*shape)\n",
    "    print(f\"shape (unpacked): {a.shape.unpack()}\")\n",
    "    print(a)\n",
    "    print('->')\n",
    "    t = a.transpose(x, y)\n",
    "    print(f\"shape (unpacked): {t.shape.unpack()}\")\n",
    "    print(t)"
   ]
  },
  {
   "cell_type": "markdown",
   "id": "dd991086",
   "metadata": {},
   "source": [
    "### all rectangular dims"
   ]
  },
  {
   "cell_type": "code",
   "execution_count": 24,
   "id": "17654626",
   "metadata": {
    "scrolled": false
   },
   "outputs": [
    {
     "name": "stdout",
     "output_type": "stream",
     "text": [
      "(2, 4, 3, 2).transpose(0, 1) -> (4, 2, 3, 2)\n",
      "(2, 4, 3, 2).transpose(1, 2) -> (2, 3, 4, 2)\n",
      "(2, 4, 3, 2).transpose(2, 3) -> (2, 4, 2, 3)\n",
      "(2, 4, 3, 2).transpose(0, 2) -> (3, 4, 2, 2)\n",
      "(2, 4, 3, 2).transpose(1, 3) -> (2, 2, 3, 4)\n",
      "(1, 2, 3, 4).transpose(0, 3) -> (4, 2, 3, 1)\n"
     ]
    }
   ],
   "source": [
    "check_rect((2, 4, 3, 2), 0, 1)\n",
    "check_rect((2, 4, 3, 2), 1, 2)\n",
    "check_rect((2, 4, 3, 2), 2, 3)\n",
    "check_rect((2, 4, 3, 2), 0, 2)\n",
    "check_rect((2, 4, 3, 2), 1, 3)\n",
    "check_rect((1, 2, 3, 4), 0, 3)\n"
   ]
  },
  {
   "cell_type": "markdown",
   "id": "42538a20",
   "metadata": {},
   "source": [
    "### adjacent"
   ]
  },
  {
   "cell_type": "code",
   "execution_count": 25,
   "id": "ca2d2c29",
   "metadata": {
    "scrolled": false
   },
   "outputs": [
    {
     "name": "stdout",
     "output_type": "stream",
     "text": [
      "shape (unpacked): ([2], [4, 4], [1, 2, 3, 4, 1, 2, 3, 4])\n",
      "[[[ 0],\n",
      "  [ 1,  2],\n",
      "  [ 3,  4,  5],\n",
      "  [ 6,  7,  8,  9]],\n",
      "\n",
      " [[10],\n",
      "  [11, 12],\n",
      "  [13, 14, 15],\n",
      "  [16, 17, 18, 19]]]\n",
      "->\n",
      "shape (unpacked): ([4], [2, 2, 2, 2], [1, 1, 2, 2, 3, 3, 4, 4])\n",
      "[[[ 0],\n",
      "  [10]],\n",
      "\n",
      " [[ 1,  2],\n",
      "  [11, 12]],\n",
      "\n",
      " [[ 3,  4,  5],\n",
      "  [13, 14, 15]],\n",
      "\n",
      " [[ 6,  7,  8,  9],\n",
      "  [16, 17, 18, 19]]]\n"
     ]
    }
   ],
   "source": [
    "# rect/rect, ragged tail\n",
    "# (Ed's second example here: https://github.com/pytorch/pytorch/pull/118405#discussion_r1501562977)\n",
    "check((2, 4, [1, 2, 3, 4]), 0, 1)"
   ]
  },
  {
   "cell_type": "code",
   "execution_count": 26,
   "id": "62927291",
   "metadata": {
    "scrolled": false
   },
   "outputs": [
    {
     "name": "stdout",
     "output_type": "stream",
     "text": [
      "shape (unpacked): ([2], [3, 3], [1, 2, 3, 4, 5, 6])\n",
      "[[[ 0],\n",
      "  [ 1,  2],\n",
      "  [ 3,  4,  5]],\n",
      "\n",
      " [[ 6,  7,  8,  9],\n",
      "  [10, 11, 12, 13, 14],\n",
      "  [15, 16, 17, 18, 19, 20]]]\n",
      "->\n",
      "shape (unpacked): ([3], [2, 2, 2], [1, 4, 2, 5, 3, 6])\n",
      "[[[ 0],\n",
      "  [ 6,  7,  8,  9]],\n",
      "\n",
      " [[ 1,  2],\n",
      "  [10, 11, 12, 13, 14]],\n",
      "\n",
      " [[ 3,  4,  5],\n",
      "  [15, 16, 17, 18, 19, 20]]]\n"
     ]
    }
   ],
   "source": [
    "# rect/rect, non-nested ragged tail\n",
    "check((2, 3, [1, 2, 3, 4, 5, 6]), 0, 1)"
   ]
  },
  {
   "cell_type": "code",
   "execution_count": 27,
   "id": "e1cfef23",
   "metadata": {
    "scrolled": false
   },
   "outputs": [
    {
     "name": "stdout",
     "output_type": "stream",
     "text": [
      "shape (unpacked): ([3], [1, 2, 3], [2, 2, 2, 2, 2, 2])\n",
      "[[[ 0,  1]],\n",
      "\n",
      " [[ 2,  3],\n",
      "  [ 4,  5]],\n",
      "\n",
      " [[ 6,  7],\n",
      "  [ 8,  9],\n",
      "  [10, 11]]]\n",
      "->\n",
      "shape (unpacked): ([3], [2, 2, 2], [1, 1, 2, 2, 3, 3])\n",
      "[[[ 0],\n",
      "  [ 1]],\n",
      "\n",
      " [[ 2,  4],\n",
      "  [ 3,  5]],\n",
      "\n",
      " [[ 6,  8, 10],\n",
      "  [ 7,  9, 11]]]\n"
     ]
    }
   ],
   "source": [
    "# ragged/rect, no tail\n",
    "check((3, [1, 2, 3], 2), 1, 2)"
   ]
  },
  {
   "cell_type": "code",
   "execution_count": 28,
   "id": "6f95217b",
   "metadata": {
    "scrolled": false
   },
   "outputs": [
    {
     "name": "stdout",
     "output_type": "stream",
     "text": [
      "shape (unpacked): ([3], [1, 2, 3], [2, 2, 2, 2, 2, 2], [3, 3, 3, 3, 3, 3, 3, 3, 3, 3, 3, 3])\n",
      "[[[[ 0,  1,  2],\n",
      "   [ 3,  4,  5]]],\n",
      "\n",
      "\n",
      " [[[ 6,  7,  8],\n",
      "   [ 9, 10, 11]],\n",
      "\n",
      "  [[12, 13, 14],\n",
      "   [15, 16, 17]]],\n",
      "\n",
      "\n",
      " [[[18, 19, 20],\n",
      "   [21, 22, 23]],\n",
      "\n",
      "  [[24, 25, 26],\n",
      "   [27, 28, 29]],\n",
      "\n",
      "  [[30, 31, 32],\n",
      "   [33, 34, 35]]]]\n",
      "->\n",
      "shape (unpacked): ([3], [2, 2, 2], [1, 1, 2, 2, 3, 3], [3, 3, 3, 3, 3, 3, 3, 3, 3, 3, 3, 3])\n",
      "[[[[ 0,  1,  2]],\n",
      "\n",
      "  [[ 3,  4,  5]]],\n",
      "\n",
      "\n",
      " [[[ 6,  7,  8],\n",
      "   [12, 13, 14]],\n",
      "\n",
      "  [[ 9, 10, 11],\n",
      "   [15, 16, 17]]],\n",
      "\n",
      "\n",
      " [[[18, 19, 20],\n",
      "   [24, 25, 26],\n",
      "   [30, 31, 32]],\n",
      "\n",
      "  [[21, 22, 23],\n",
      "   [27, 28, 29],\n",
      "   [33, 34, 35]]]]\n"
     ]
    }
   ],
   "source": [
    "# ragged/rect, rect tail (sdpa)\n",
    "B, S, H, D = 3, [1, 2, 3], 2, 3\n",
    "check((B, S, H, D), 1, 2)"
   ]
  },
  {
   "cell_type": "code",
   "execution_count": 29,
   "id": "d38f070c",
   "metadata": {
    "scrolled": false
   },
   "outputs": [
    {
     "name": "stdout",
     "output_type": "stream",
     "text": [
      "shape (unpacked): ([2], [3, 2], [2, 2, 2, 2, 2], [8, 8, 8, 8, 8, 8, 8, 8, 8, 8])\n",
      "[[[[ 0,  1,  2,  3,  4,  5,  6,  7],\n",
      "   [ 8,  9, 10, 11, 12, 13, 14, 15]],\n",
      "\n",
      "  [[16, 17, 18, 19, 20, 21, 22, 23],\n",
      "   [24, 25, 26, 27, 28, 29, 30, 31]],\n",
      "\n",
      "  [[32, 33, 34, 35, 36, 37, 38, 39],\n",
      "   [40, 41, 42, 43, 44, 45, 46, 47]]],\n",
      "\n",
      "\n",
      " [[[48, 49, 50, 51, 52, 53, 54, 55],\n",
      "   [56, 57, 58, 59, 60, 61, 62, 63]],\n",
      "\n",
      "  [[64, 65, 66, 67, 68, 69, 70, 71],\n",
      "   [72, 73, 74, 75, 76, 77, 78, 79]]]]\n",
      "->\n",
      "shape (unpacked): ([2], [2, 2], [3, 3, 2, 2], [8, 8, 8, 8, 8, 8, 8, 8, 8, 8])\n",
      "[[[[ 0,  1,  2,  3,  4,  5,  6,  7],\n",
      "   [16, 17, 18, 19, 20, 21, 22, 23],\n",
      "   [32, 33, 34, 35, 36, 37, 38, 39]],\n",
      "\n",
      "  [[ 8,  9, 10, 11, 12, 13, 14, 15],\n",
      "   [24, 25, 26, 27, 28, 29, 30, 31],\n",
      "   [40, 41, 42, 43, 44, 45, 46, 47]]],\n",
      "\n",
      "\n",
      " [[[48, 49, 50, 51, 52, 53, 54, 55],\n",
      "   [64, 65, 66, 67, 68, 69, 70, 71]],\n",
      "\n",
      "  [[56, 57, 58, 59, 60, 61, 62, 63],\n",
      "   [72, 73, 74, 75, 76, 77, 78, 79]]]]\n"
     ]
    }
   ],
   "source": [
    "# another sdpa\n",
    "B, S, H, D = 2, [3, 2], 2, 8\n",
    "check((B, S, H, D), 1, 2)"
   ]
  },
  {
   "cell_type": "code",
   "execution_count": 30,
   "id": "09491ecb",
   "metadata": {
    "scrolled": false
   },
   "outputs": [
    {
     "name": "stdout",
     "output_type": "stream",
     "text": [
      "shape (unpacked): ([3], [1, 2, 3], [2, 2, 2, 2, 2, 2], [1, 2, 1, 2, 1, 2, 1, 2, 1, 2, 1, 2])\n",
      "[[[[ 0],\n",
      "   [ 1,  2]]],\n",
      "\n",
      "\n",
      " [[[ 3],\n",
      "   [ 4,  5]],\n",
      "\n",
      "  [[ 6],\n",
      "   [ 7,  8]]],\n",
      "\n",
      "\n",
      " [[[ 9],\n",
      "   [10, 11]],\n",
      "\n",
      "  [[12],\n",
      "   [13, 14]],\n",
      "\n",
      "  [[15],\n",
      "   [16, 17]]]]\n",
      "->\n",
      "shape (unpacked): ([3], [2, 2, 2], [1, 1, 2, 2, 3, 3], [1, 2, 1, 1, 2, 2, 1, 1, 1, 2, 2, 2])\n",
      "[[[[ 0]],\n",
      "\n",
      "  [[ 1,  2]]],\n",
      "\n",
      "\n",
      " [[[ 3],\n",
      "   [ 6]],\n",
      "\n",
      "  [[ 4,  5],\n",
      "   [ 7,  8]]],\n",
      "\n",
      "\n",
      " [[[ 9],\n",
      "   [12],\n",
      "   [15]],\n",
      "\n",
      "  [[10, 11],\n",
      "   [13, 14],\n",
      "   [16, 17]]]]\n"
     ]
    }
   ],
   "source": [
    "# ragged/rect, ragged tail\n",
    "check((3, [1, 2, 3], 2, [1, 2]), 1, 2)"
   ]
  },
  {
   "cell_type": "code",
   "execution_count": 31,
   "id": "603927e2",
   "metadata": {
    "scrolled": false
   },
   "outputs": [
    {
     "name": "stdout",
     "output_type": "stream",
     "text": [
      "shape (unpacked): ([3], [1, 2, 3], [2, 2, 2, 2, 2, 2], [1, 2, 3, 4, 5, 6, 7, 8, 9, 10, 11, 12])\n",
      "[[[[ 0],\n",
      "   [ 1,  2]]],\n",
      "\n",
      "\n",
      " [[[ 3,  4,  5],\n",
      "   [ 6,  7,  8,  9]],\n",
      "\n",
      "  [[10, 11, 12, 13, 14],\n",
      "   [15, 16, 17, 18, 19, 20]]],\n",
      "\n",
      "\n",
      " [[[21, 22, 23, 24, 25, 26, 27],\n",
      "   [28, 29, 30, 31, 32, 33, 34, 35]],\n",
      "\n",
      "  [[36, 37, 38, 39, 40, 41, 42, 43, 44],\n",
      "   [45, 46, 47, 48, 49, 50, 51, 52, 53, 54]],\n",
      "\n",
      "  [[55, 56, 57, 58, 59, 60, 61, 62, 63, 64, 65],\n",
      "   [66, 67, 68, 69, 70, 71, 72, 73, 74, 75, 76, 77]]]]\n",
      "->\n",
      "shape (unpacked): ([3], [2, 2, 2], [1, 1, 2, 2, 3, 3], [1, 2, 3, 5, 4, 6, 7, 9, 11, 8, 10, 12])\n",
      "[[[[ 0]],\n",
      "\n",
      "  [[ 1,  2]]],\n",
      "\n",
      "\n",
      " [[[ 3,  4,  5],\n",
      "   [10, 11, 12, 13, 14]],\n",
      "\n",
      "  [[ 6,  7,  8,  9],\n",
      "   [15, 16, 17, 18, 19, 20]]],\n",
      "\n",
      "\n",
      " [[[21, 22, 23, 24, 25, 26, 27],\n",
      "   [36, 37, 38, 39, 40, 41, 42, 43, 44],\n",
      "   [55, 56, 57, 58, 59, 60, 61, 62, 63, 64, 65]],\n",
      "\n",
      "  [[28, 29, 30, 31, 32, 33, 34, 35],\n",
      "   [45, 46, 47, 48, 49, 50, 51, 52, 53, 54],\n",
      "   [66, 67, 68, 69, 70, 71, 72, 73, 74, 75, 76, 77]]]]\n"
     ]
    }
   ],
   "source": [
    "# ragged/rect, non-nested ragged tail\n",
    "check((3, [1, 2, 3], 2, Affine(1, 12, 1)), 1, 2)"
   ]
  },
  {
   "cell_type": "markdown",
   "id": "69bce575",
   "metadata": {},
   "source": [
    "### non-adjacent"
   ]
  },
  {
   "cell_type": "code",
   "execution_count": 32,
   "id": "0f61a783",
   "metadata": {
    "scrolled": false
   },
   "outputs": [
    {
     "name": "stdout",
     "output_type": "stream",
     "text": [
      "shape (unpacked): ([2], [3, 3], [3, 3, 3, 3, 3, 3], [1, 2, 3, 1, 2, 3, 1, 2, 3, 1, 2, 3, 1, 2, 3, 1, 2, 3])\n",
      "[[[[ 0],\n",
      "   [ 1,  2],\n",
      "   [ 3,  4,  5]],\n",
      "\n",
      "  [[ 6],\n",
      "   [ 7,  8],\n",
      "   [ 9, 10, 11]],\n",
      "\n",
      "  [[12],\n",
      "   [13, 14],\n",
      "   [15, 16, 17]]],\n",
      "\n",
      "\n",
      " [[[18],\n",
      "   [19, 20],\n",
      "   [21, 22, 23]],\n",
      "\n",
      "  [[24],\n",
      "   [25, 26],\n",
      "   [27, 28, 29]],\n",
      "\n",
      "  [[30],\n",
      "   [31, 32],\n",
      "   [33, 34, 35]]]]\n",
      "->\n",
      "shape (unpacked): ([3], [3, 3, 3], [2, 2, 2, 2, 2, 2, 2, 2, 2], [1, 1, 1, 1, 1, 1, 2, 2, 2, 2, 2, 2, 3, 3, 3, 3, 3, 3])\n",
      "[[[[ 0],\n",
      "   [18]],\n",
      "\n",
      "  [[ 6],\n",
      "   [24]],\n",
      "\n",
      "  [[12],\n",
      "   [30]]],\n",
      "\n",
      "\n",
      " [[[ 1,  2],\n",
      "   [19, 20]],\n",
      "\n",
      "  [[ 7,  8],\n",
      "   [25, 26]],\n",
      "\n",
      "  [[13, 14],\n",
      "   [31, 32]]],\n",
      "\n",
      "\n",
      " [[[ 3,  4,  5],\n",
      "   [21, 22, 23]],\n",
      "\n",
      "  [[ 9, 10, 11],\n",
      "   [27, 28, 29]],\n",
      "\n",
      "  [[15, 16, 17],\n",
      "   [33, 34, 35]]]]\n"
     ]
    }
   ],
   "source": [
    "# rect/.../rect, ragged tail\n",
    "check((2, 3, 3, [1, 2, 3]), 0, 2)"
   ]
  },
  {
   "cell_type": "code",
   "execution_count": 33,
   "id": "cb62c68b",
   "metadata": {
    "scrolled": false
   },
   "outputs": [
    {
     "name": "stdout",
     "output_type": "stream",
     "text": [
      "shape (unpacked): ([2], [2, 2], [2, 2, 2, 2], [1, 2, 3, 4, 5, 6, 7, 8])\n",
      "[[[[ 0],\n",
      "   [ 1,  2]],\n",
      "\n",
      "  [[ 3,  4,  5],\n",
      "   [ 6,  7,  8,  9]]],\n",
      "\n",
      "\n",
      " [[[10, 11, 12, 13, 14],\n",
      "   [15, 16, 17, 18, 19, 20]],\n",
      "\n",
      "  [[21, 22, 23, 24, 25, 26, 27],\n",
      "   [28, 29, 30, 31, 32, 33, 34, 35]]]]\n",
      "->\n",
      "shape (unpacked): ([2], [2, 2], [2, 2, 2, 2], [1, 5, 3, 7, 2, 6, 4, 8])\n",
      "[[[[ 0],\n",
      "   [10, 11, 12, 13, 14]],\n",
      "\n",
      "  [[ 3,  4,  5],\n",
      "   [21, 22, 23, 24, 25, 26, 27]]],\n",
      "\n",
      "\n",
      " [[[ 1,  2],\n",
      "   [15, 16, 17, 18, 19, 20]],\n",
      "\n",
      "  [[ 6,  7,  8,  9],\n",
      "   [28, 29, 30, 31, 32, 33, 34, 35]]]]\n"
     ]
    }
   ],
   "source": [
    "# rect/.../rect, non-nested ragged tail\n",
    "check((2, 2, 2, Affine(1, 8, 1)), 0, 2)"
   ]
  },
  {
   "cell_type": "code",
   "execution_count": 34,
   "id": "b91efca6",
   "metadata": {
    "scrolled": false
   },
   "outputs": [
    {
     "name": "stdout",
     "output_type": "stream",
     "text": [
      "shape (unpacked): ([2], [2, 3], [2, 2, 2, 2, 2], [3, 3, 3, 3, 3, 3, 3, 3, 3, 3])\n",
      "[[[[ 0,  1,  2],\n",
      "   [ 3,  4,  5]],\n",
      "\n",
      "  [[ 6,  7,  8],\n",
      "   [ 9, 10, 11]]],\n",
      "\n",
      "\n",
      " [[[12, 13, 14],\n",
      "   [15, 16, 17]],\n",
      "\n",
      "  [[18, 19, 20],\n",
      "   [21, 22, 23]],\n",
      "\n",
      "  [[24, 25, 26],\n",
      "   [27, 28, 29]]]]\n",
      "->\n",
      "shape (unpacked): ([2], [3, 3], [2, 2, 2, 2, 2, 2], [2, 2, 2, 2, 2, 2, 3, 3, 3, 3, 3, 3])\n",
      "[[[[ 0,  6],\n",
      "   [ 3,  9]],\n",
      "\n",
      "  [[ 1,  7],\n",
      "   [ 4, 10]],\n",
      "\n",
      "  [[ 2,  8],\n",
      "   [ 5, 11]]],\n",
      "\n",
      "\n",
      " [[[12, 18, 24],\n",
      "   [15, 21, 27]],\n",
      "\n",
      "  [[13, 19, 25],\n",
      "   [16, 22, 28]],\n",
      "\n",
      "  [[14, 20, 26],\n",
      "   [17, 23, 29]]]]\n"
     ]
    }
   ],
   "source": [
    "# ragged/.../rect, no tail\n",
    "check((2, [2, 3], 2, 3), 1, 3)"
   ]
  },
  {
   "cell_type": "code",
   "execution_count": 35,
   "id": "6bd66413",
   "metadata": {
    "scrolled": false
   },
   "outputs": [
    {
     "name": "stdout",
     "output_type": "stream",
     "text": [
      "shape (unpacked): ([2], [1, 2], [2, 2, 2], [3, 3, 3, 3, 3, 3], [2, 2, 2, 2, 2, 2, 2, 2, 2, 2, 2, 2, 2, 2, 2, 2, 2, 2])\n",
      "[[[[[ 0,  1],\n",
      "    [ 2,  3],\n",
      "    [ 4,  5]],\n",
      "\n",
      "   [[ 6,  7],\n",
      "    [ 8,  9],\n",
      "    [10, 11]]]],\n",
      "\n",
      "\n",
      "\n",
      " [[[[12, 13],\n",
      "    [14, 15],\n",
      "    [16, 17]],\n",
      "\n",
      "   [[18, 19],\n",
      "    [20, 21],\n",
      "    [22, 23]]],\n",
      "\n",
      "\n",
      "  [[[24, 25],\n",
      "    [26, 27],\n",
      "    [28, 29]],\n",
      "\n",
      "   [[30, 31],\n",
      "    [32, 33],\n",
      "    [34, 35]]]]]\n",
      "->\n",
      "shape (unpacked): ([2], [3, 3], [2, 2, 2, 2, 2, 2], [1, 1, 1, 1, 1, 1, 2, 2, 2, 2, 2, 2], [2, 2, 2, 2, 2, 2, 2, 2, 2, 2, 2, 2, 2, 2, 2, 2, 2, 2])\n",
      "[[[[[ 0,  1]],\n",
      "\n",
      "   [[ 6,  7]]],\n",
      "\n",
      "\n",
      "  [[[ 2,  3]],\n",
      "\n",
      "   [[ 8,  9]]],\n",
      "\n",
      "\n",
      "  [[[ 4,  5]],\n",
      "\n",
      "   [[10, 11]]]],\n",
      "\n",
      "\n",
      "\n",
      " [[[[12, 13],\n",
      "    [24, 25]],\n",
      "\n",
      "   [[18, 19],\n",
      "    [30, 31]]],\n",
      "\n",
      "\n",
      "  [[[14, 15],\n",
      "    [26, 27]],\n",
      "\n",
      "   [[20, 21],\n",
      "    [32, 33]]],\n",
      "\n",
      "\n",
      "  [[[16, 17],\n",
      "    [28, 29]],\n",
      "\n",
      "   [[22, 23],\n",
      "    [34, 35]]]]]\n"
     ]
    }
   ],
   "source": [
    "# ragged/.../rect, rect tail\n",
    "check((2, [1, 2], 2, 3, 2), 1, 3)"
   ]
  },
  {
   "cell_type": "code",
   "execution_count": 36,
   "id": "e753a85d",
   "metadata": {
    "scrolled": false
   },
   "outputs": [
    {
     "name": "stdout",
     "output_type": "stream",
     "text": [
      "shape (unpacked): ([2], [1, 2], [2, 2, 2], [3, 3, 3, 3, 3, 3], [1, 2, 3, 1, 2, 3, 1, 2, 3, 1, 2, 3, 1, 2, 3, 1, 2, 3])\n",
      "[[[[[ 0],\n",
      "    [ 1,  2],\n",
      "    [ 3,  4,  5]],\n",
      "\n",
      "   [[ 6],\n",
      "    [ 7,  8],\n",
      "    [ 9, 10, 11]]]],\n",
      "\n",
      "\n",
      "\n",
      " [[[[12],\n",
      "    [13, 14],\n",
      "    [15, 16, 17]],\n",
      "\n",
      "   [[18],\n",
      "    [19, 20],\n",
      "    [21, 22, 23]]],\n",
      "\n",
      "\n",
      "  [[[24],\n",
      "    [25, 26],\n",
      "    [27, 28, 29]],\n",
      "\n",
      "   [[30],\n",
      "    [31, 32],\n",
      "    [33, 34, 35]]]]]\n",
      "->\n",
      "shape (unpacked): ([2], [3, 3], [2, 2, 2, 2, 2, 2], [1, 1, 1, 1, 1, 1, 2, 2, 2, 2, 2, 2], [1, 1, 2, 2, 3, 3, 1, 1, 1, 1, 2, 2, 2, 2, 3, 3, 3, 3])\n",
      "[[[[[ 0]],\n",
      "\n",
      "   [[ 6]]],\n",
      "\n",
      "\n",
      "  [[[ 1,  2]],\n",
      "\n",
      "   [[ 7,  8]]],\n",
      "\n",
      "\n",
      "  [[[ 3,  4,  5]],\n",
      "\n",
      "   [[ 9, 10, 11]]]],\n",
      "\n",
      "\n",
      "\n",
      " [[[[12],\n",
      "    [24]],\n",
      "\n",
      "   [[18],\n",
      "    [30]]],\n",
      "\n",
      "\n",
      "  [[[13, 14],\n",
      "    [25, 26]],\n",
      "\n",
      "   [[19, 20],\n",
      "    [31, 32]]],\n",
      "\n",
      "\n",
      "  [[[15, 16, 17],\n",
      "    [27, 28, 29]],\n",
      "\n",
      "   [[21, 22, 23],\n",
      "    [33, 34, 35]]]]]\n"
     ]
    }
   ],
   "source": [
    "# ragged/.../rect, ragged tail\n",
    "check((2, [1, 2], 2, 3, [1, 2, 3]), 1, 3)"
   ]
  },
  {
   "cell_type": "code",
   "execution_count": 37,
   "id": "a9a68ae8",
   "metadata": {
    "scrolled": false
   },
   "outputs": [
    {
     "name": "stdout",
     "output_type": "stream",
     "text": [
      "shape (unpacked): ([2], [1, 2], [2, 2, 2], [2, 2, 2, 2, 2, 2], [1, 2, 3, 4, 5, 6, 7, 8, 9, 10, 11, 12])\n",
      "[[[[[ 0],\n",
      "    [ 1,  2]],\n",
      "\n",
      "   [[ 3,  4,  5],\n",
      "    [ 6,  7,  8,  9]]]],\n",
      "\n",
      "\n",
      "\n",
      " [[[[10, 11, 12, 13, 14],\n",
      "    [15, 16, 17, 18, 19, 20]],\n",
      "\n",
      "   [[21, 22, 23, 24, 25, 26, 27],\n",
      "    [28, 29, 30, 31, 32, 33, 34, 35]]],\n",
      "\n",
      "\n",
      "  [[[36, 37, 38, 39, 40, 41, 42, 43, 44],\n",
      "    [45, 46, 47, 48, 49, 50, 51, 52, 53, 54]],\n",
      "\n",
      "   [[55, 56, 57, 58, 59, 60, 61, 62, 63, 64, 65],\n",
      "    [66, 67, 68, 69, 70, 71, 72, 73, 74, 75, 76, 77]]]]]\n",
      "->\n",
      "shape (unpacked): ([2], [2, 2], [2, 2, 2, 2], [1, 1, 1, 1, 2, 2, 2, 2], [1, 3, 2, 4, 5, 9, 7, 11, 6, 10, 8, 12])\n",
      "[[[[[ 0]],\n",
      "\n",
      "   [[ 3,  4,  5]]],\n",
      "\n",
      "\n",
      "  [[[ 1,  2]],\n",
      "\n",
      "   [[ 6,  7,  8,  9]]]],\n",
      "\n",
      "\n",
      "\n",
      " [[[[10, 11, 12, 13, 14],\n",
      "    [36, 37, 38, 39, 40, 41, 42, 43, 44]],\n",
      "\n",
      "   [[21, 22, 23, 24, 25, 26, 27],\n",
      "    [55, 56, 57, 58, 59, 60, 61, 62, 63, 64, 65]]],\n",
      "\n",
      "\n",
      "  [[[15, 16, 17, 18, 19, 20],\n",
      "    [45, 46, 47, 48, 49, 50, 51, 52, 53, 54]],\n",
      "\n",
      "   [[28, 29, 30, 31, 32, 33, 34, 35],\n",
      "    [66, 67, 68, 69, 70, 71, 72, 73, 74, 75, 76, 77]]]]]\n"
     ]
    }
   ],
   "source": [
    "# ragged/.../rect, non-nested ragged tail\n",
    "check((2, [1, 2], 2, 2, Affine(1, 12, 1)), 1, 3)"
   ]
  },
  {
   "cell_type": "markdown",
   "id": "63fc2806",
   "metadata": {},
   "source": [
    "### transposing ragged dimensions outward causes shear\n",
    "\n",
    "fold disallows transposes/permutes that shift ragged dimensions outward. \n",
    "For ragged shapes whose widths are not strictly descending, such transpositions \n",
    "will cause *shear*: a shift in alignment among elements. E.g."
   ]
  },
  {
   "cell_type": "code",
   "execution_count": 38,
   "id": "90ce923b",
   "metadata": {
    "scrolled": false
   },
   "outputs": [
    {
     "name": "stdout",
     "output_type": "stream",
     "text": [
      "[[[ 0],\n",
      "  [ 1,  2],\n",
      "  [ 3,  4,  5]],\n",
      "\n",
      " [[ 6],\n",
      "  [ 7,  8],\n",
      "  [ 9, 10, 11]]]\n"
     ]
    }
   ],
   "source": [
    "a = arange(2, 3, [1, 2, 3])\n",
    "print(a)"
   ]
  },
  {
   "cell_type": "markdown",
   "id": "b16e4c91",
   "metadata": {},
   "source": [
    "`a.transpose(1, 2)` will error, but here's what it would look like:\n",
    "```\n",
    "[[[0, 1, 3],\n",
    "  [2, 4],\n",
    "  [5]],\n",
    " \n",
    " [[6, 7, 9],\n",
    "  [8, 10],\n",
    "  [11]]]\n",
    "```\n",
    "Note how rows have sheared when transposed to columns."
   ]
  },
  {
   "cell_type": "markdown",
   "id": "09607ea2",
   "metadata": {},
   "source": [
    "### transposing across ragged dimensions causes shear\n",
    "\n",
    "Shearing also occurs in transpositions *across* a ragged dimension: inserting the former outer dimension inward of the ragged dimension has the same structural effect as moving the ragged dimension outward directly.\n",
    "\n",
    "E.g. Ed's first example here: https://github.com/pytorch/pytorch/pull/118405#discussion_r1501562977"
   ]
  },
  {
   "cell_type": "code",
   "execution_count": 39,
   "id": "e0861153",
   "metadata": {
    "scrolled": false
   },
   "outputs": [
    {
     "name": "stdout",
     "output_type": "stream",
     "text": [
      "[[[ 0,  1,  2,  3,  4]],\n",
      "\n",
      " [[ 5,  6,  7,  8,  9],\n",
      "  [10, 11, 12, 13, 14]],\n",
      "\n",
      " [[15, 16, 17, 18, 19],\n",
      "  [20, 21, 22, 23, 24],\n",
      "  [25, 26, 27, 28, 29]]]\n"
     ]
    }
   ],
   "source": [
    "a = arange(3, [1, 2, 3], 5)\n",
    "print(a)"
   ]
  },
  {
   "cell_type": "markdown",
   "id": "7b03fc0e",
   "metadata": {},
   "source": [
    "`a.transpose(0, 2)` will error, but here's what it would look like:\n",
    "```\n",
    "[[[0, 5, 15],\n",
    "  [10, 20],\n",
    "  [25]],\n",
    " [[1, 6, 16],\n",
    "  [11, 21],\n",
    "  [26]],\n",
    " [[2, 7, 17],\n",
    "  [12, 22],\n",
    "  [27]],\n",
    " [[3, 8, 18],\n",
    "  [13, 23],\n",
    "  [28]],\n",
    " [[4, 9, 19],\n",
    "  [14, 24],\n",
    "  [29]]]\n",
    "```"
   ]
  }
 ],
 "metadata": {
  "kernelspec": {
   "display_name": "Python 3 (ipykernel)",
   "language": "python",
   "name": "python3"
  },
  "language_info": {
   "codemirror_mode": {
    "name": "ipython",
    "version": 3
   },
   "file_extension": ".py",
   "mimetype": "text/x-python",
   "name": "python",
   "nbconvert_exporter": "python",
   "pygments_lexer": "ipython3",
   "version": "3.9.12"
  }
 },
 "nbformat": 4,
 "nbformat_minor": 5
}
