{
  "cells": [
    {
      "cell_type": "markdown",
      "id": "DhSAIJV7XEUP",
      "metadata": {
        "id": "DhSAIJV7XEUP"
      },
      "source": [
        "[![Run in Google Colab](https://colab.research.google.com/assets/colab-badge.svg)](https://colab.research.google.com/github/bhosmer/fold/blob/main/notebooks/transpose.ipynb)"
      ]
    },
    {
      "cell_type": "markdown",
      "id": "PsYuJLprXGxb",
      "metadata": {
        "id": "PsYuJLprXGxb"
      },
      "source": [
        "#### Colab setup (skip if running locally)"
      ]
    },
    {
      "cell_type": "code",
      "execution_count": 63,
      "id": "-RLzObHyUde4",
      "metadata": {
        "colab": {
          "base_uri": "https://localhost:8080/"
        },
        "id": "-RLzObHyUde4",
        "outputId": "b5d494c8-3934-4600-d5f5-fd41cc5e8c38"
      },
      "outputs": [
        {
          "name": "stdout",
          "output_type": "stream",
          "text": [
            "Cloning into 'fold'...\n",
            "remote: Enumerating objects: 102, done.\u001b[K\n",
            "remote: Counting objects: 100% (98/98), done.\u001b[K\n",
            "remote: Compressing objects: 100% (69/69), done.\u001b[K\n",
            "remote: Total 102 (delta 51), reused 67 (delta 28), pack-reused 4\u001b[K\n",
            "Receiving objects: 100% (102/102), 112.35 KiB | 5.62 MiB/s, done.\n",
            "Resolving deltas: 100% (51/51), done.\n"
          ]
        }
      ],
      "source": [
        "!git clone https://github.com/bhosmer/fold.git\n",
        "import sys\n",
        "sys.path.insert(0,'/content/fold')"
      ]
    },
    {
      "cell_type": "code",
      "execution_count": 2,
      "id": "cad620d1",
      "metadata": {
        "id": "cad620d1"
      },
      "outputs": [],
      "source": [
        "from fold import *"
      ]
    },
    {
      "cell_type": "markdown",
      "id": "69ea28ca",
      "metadata": {},
      "source": [
        "## Broadcasting ragged arrays\n",
        "\n",
        "As in PyTorch, broadcast is a wrapper around `expand`, which is defined as usual: singleton dimensions of the target array can be expanded, and other dimensions of the expansion shape need to match or be singletons."
      ]
    },
    {
      "cell_type": "markdown",
      "id": "7b4bb645",
      "metadata": {},
      "source": [
        "Expansion *outward* of a ragged dimension can have different effects, depending on whether the ragged dimension nests within the subarray being expanded.\n",
        "\n",
        "When it does, the ragged dimension repeats. For example:"
      ]
    },
    {
      "cell_type": "code",
      "execution_count": 58,
      "id": "96b064f0",
      "metadata": {},
      "outputs": [
        {
          "name": "stdout",
          "output_type": "stream",
          "text": [
            "a:\n",
            "shape: (1, 3, [1, 2, 3])\n",
            "[[[0],\n",
            "  [1, 2],\n",
            "  [3, 4, 5]]]\n",
            "\n",
            "expanded at dim 0:\n",
            "shape: (2, 3, Repeat([1, 2, 3], 2))\n",
            "[[[0],\n",
            "  [1, 2],\n",
            "  [3, 4, 5]],\n",
            "\n",
            " [[0],\n",
            "  [1, 2],\n",
            "  [3, 4, 5]]]\n"
          ]
        }
      ],
      "source": [
        "a = arange(1, 3, [1, 2, 3])\n",
        "print(\"a:\")\n",
        "print(\"shape:\", a.shape)\n",
        "print(a)\n",
        "\n",
        "print(\"\\nexpanded at dim 0:\")\n",
        "ex = a.expand(2, -1, -1)\n",
        "print(\"shape:\", ex.shape)\n",
        "print(ex)"
      ]
    },
    {
      "cell_type": "markdown",
      "id": "8c1f21c9",
      "metadata": {},
      "source": [
        "Here on the other hand, the ragged dimension does not nest within the dimension being expanded. In these cases, the *component* of the ragged dimension will repeat, as dictated by the array's outward shape. For example:"
      ]
    },
    {
      "cell_type": "code",
      "execution_count": 73,
      "id": "420473ad",
      "metadata": {},
      "outputs": [
        {
          "name": "stdout",
          "output_type": "stream",
          "text": [
            "a:\n",
            "shape: (3, 1, [1, 2, 3])\n",
            "[[[0]],\n",
            "\n",
            " [[1, 2]],\n",
            "\n",
            " [[3, 4, 5]]]\n",
            "\n",
            "expanded at dim 1:\n",
            "shape: (3, 3, Runs([1, 2, 3], 3))\n",
            "[[[0],\n",
            "  [0],\n",
            "  [0]],\n",
            "\n",
            " [[1, 2],\n",
            "  [1, 2],\n",
            "  [1, 2]],\n",
            "\n",
            " [[3, 4, 5],\n",
            "  [3, 4, 5],\n",
            "  [3, 4, 5]]]\n"
          ]
        }
      ],
      "source": [
        "a = arange(3, 1, [1, 2, 3])\n",
        "print(\"a:\")\n",
        "print(\"shape:\", a.shape)\n",
        "print(a)\n",
        "\n",
        "print(\"\\nexpanded at dim 1:\")\n",
        "ex = a.expand(-1, 3, -1)\n",
        "print(\"shape:\", ex.shape)\n",
        "print(ex)"
      ]
    },
    {
      "cell_type": "markdown",
      "id": "1bf63669",
      "metadata": {},
      "source": [
        "There can also be ragged expansions (where the expansion shape contains ragged dimensions):"
      ]
    },
    {
      "cell_type": "code",
      "execution_count": 82,
      "id": "91d92a68",
      "metadata": {},
      "outputs": [
        {
          "name": "stdout",
          "output_type": "stream",
          "text": [
            "batch_size=2 seq_lens=[3, 4] embed_dim=4\n",
            "\n",
            "seqs:\n",
            "shape: (2, [3, 4], 4)\n",
            "[[[0.5988, 0.5491, 0.5487, 0.7435],\n",
            "  [0.7356, 0.7945, 0.3120, 0.9949],\n",
            "  [0.2556, 0.6538, 0.7603, 0.0410]],\n",
            "\n",
            " [[0.0383, 0.8300, 0.3204, 0.2771],\n",
            "  [0.7986, 0.3528, 0.8540, 0.3388],\n",
            "  [0.6433, 0.6445, 0.9027, 0.3966],\n",
            "  [0.7495, 0.5815, 0.6112, 0.9893]]]\n",
            "\n",
            "embedding dim indexes:\n",
            "shape: (4)\n",
            "[0, 1, 2, 3]\n",
            "\n",
            "embedding dim indexes expanded to (batch_size, seq_lens):\n",
            "shape: (2, [3, 4], 4)\n",
            "[[[0, 1, 2, 3],\n",
            "  [0, 1, 2, 3],\n",
            "  [0, 1, 2, 3]],\n",
            "\n",
            " [[0, 1, 2, 3],\n",
            "  [0, 1, 2, 3],\n",
            "  [0, 1, 2, 3],\n",
            "  [0, 1, 2, 3]]]\n"
          ]
        }
      ],
      "source": [
        "batch_size = 2\n",
        "seq_lens = [3, 4]\n",
        "embed_dim = 4 # leave num_heads * head_dim flattened for example\n",
        "\n",
        "print(f\"{batch_size=} {seq_lens=} {embed_dim=}\")\n",
        "\n",
        "print(\"\\nseqs:\")\n",
        "seqs = rand(batch_size, seq_lens, embed_dim)\n",
        "print(\"shape:\", seqs.shape)\n",
        "print(seqs)\n",
        "\n",
        "print(\"\\nembedding dim indexes:\")\n",
        "channels = arange(embed_dim)\n",
        "print(\"shape:\", channels.shape)\n",
        "print(channels)\n",
        "\n",
        "print(\"\\nembedding dim indexes expanded to (batch_size, seq_lens):\")\n",
        "seq_channels = channels.expand(batch_size, seq_lens, -1)\n",
        "print(\"shape:\", seq_channels.shape)\n",
        "print(seq_channels)"
      ]
    },
    {
      "cell_type": "markdown",
      "id": "1d464381",
      "metadata": {},
      "source": [
        "And ragged dimensions can interact with ragged expansions:"
      ]
    },
    {
      "cell_type": "code",
      "execution_count": 83,
      "id": "78417b2d",
      "metadata": {},
      "outputs": [
        {
          "name": "stdout",
          "output_type": "stream",
          "text": [
            "batch_size=3 image_heights=[2, 4, 3] image_wids=Runs(Seq([4, 8, 6]), Seq([2, 4, 3]))\n",
            "\n",
            "images:\n",
            "shape: (3, [2, 4, 3], Runs([4, 8, 6], [2, 4, 3]))\n",
            "[[[0.5691, 0.0916, 0.5850, 0.6781],\n",
            "  [0.6419, 0.6692, 0.4972, 0.2750]],\n",
            "\n",
            " [[0.4235, 0.6628, 0.7416, 0.3235, 0.0835, 0.2422, 0.2960, 0.7915],\n",
            "  [0.8519, 0.4101, 0.5175, 0.8461, 0.7037, 0.9381, 0.9369, 0.2711],\n",
            "  [0.7517, 0.5805, 0.2613, 0.7376, 0.8623, 0.4929, 0.8284, 0.4649],\n",
            "  [0.7643, 0.7088, 0.7352, 0.9607, 0.1916, 0.3719, 0.7557, 0.9902]],\n",
            "\n",
            " [[0.0956, 0.6787, 0.5618, 0.1333, 0.1318, 0.7532],\n",
            "  [0.8570, 0.9438, 0.5124, 0.7663, 0.9801, 0.5243],\n",
            "  [0.2268, 0.1099, 0.1318, 0.7765, 0.8735, 0.4063]]]\n"
          ]
        }
      ],
      "source": [
        "batch_size = 3\n",
        "image_heights = [2, 4, 3]\n",
        "image_wids = Runs([4, 8, 6], [2, 4, 3])\n",
        "\n",
        "print(f\"{batch_size=} {image_heights=} {image_wids=}\")\n",
        "\n",
        "print(\"\\nimages:\")\n",
        "images = rand(batch_size, image_heights, image_wids)\n",
        "print(\"shape:\", images.shape)\n",
        "print(images)"
      ]
    },
    {
      "cell_type": "code",
      "execution_count": 88,
      "id": "39cf1bdf",
      "metadata": {},
      "outputs": [
        {
          "name": "stdout",
          "output_type": "stream",
          "text": [
            "\n",
            "image indexes (unsqueezed):\n",
            "shape: (3, 1, 1)\n",
            "[[[0]],\n",
            "\n",
            " [[1]],\n",
            "\n",
            " [[2]]]\n",
            "\n",
            "rimage indexes expanded to image shapes:\n",
            "shape: (3, [2, 4, 3], Runs([4, 8, 6], [2, 4, 3]))\n",
            "[[[0, 0, 0, 0],\n",
            "  [0, 0, 0, 0]],\n",
            "\n",
            " [[1, 1, 1, 1, 1, 1, 1, 1],\n",
            "  [1, 1, 1, 1, 1, 1, 1, 1],\n",
            "  [1, 1, 1, 1, 1, 1, 1, 1],\n",
            "  [1, 1, 1, 1, 1, 1, 1, 1]],\n",
            "\n",
            " [[2, 2, 2, 2, 2, 2],\n",
            "  [2, 2, 2, 2, 2, 2],\n",
            "  [2, 2, 2, 2, 2, 2]]]\n"
          ]
        }
      ],
      "source": [
        "print(\"\\nimage indexes (unsqueezed):\")\n",
        "image_indexes = arange(batch_size, 1, 1)\n",
        "print(\"shape:\", image_indexes.shape)\n",
        "print(image_indexes)\n",
        "\n",
        "print(\"\\nrimage indexes expanded to image shapes:\")\n",
        "image_indexes_exp = image_indexes.expand(batch_size, image_heights, image_wids)\n",
        "print(\"shape:\", image_indexes_exp.shape)\n",
        "print(image_indexes_exp)"
      ]
    },
    {
      "cell_type": "code",
      "execution_count": 89,
      "id": "1a4a7f9a",
      "metadata": {},
      "outputs": [
        {
          "name": "stdout",
          "output_type": "stream",
          "text": [
            "\n",
            "row indexes (unsqueezed):\n",
            "shape: (3, [2, 4, 3], 1)\n",
            "[[[0],\n",
            "  [1]],\n",
            "\n",
            " [[2],\n",
            "  [3],\n",
            "  [4],\n",
            "  [5]],\n",
            "\n",
            " [[6],\n",
            "  [7],\n",
            "  [8]]]\n",
            "\n",
            "row indexes expanded to image shapes:\n",
            "shape: (3, [2, 4, 3], Runs([4, 8, 6], [2, 4, 3]))\n",
            "[[[0, 0, 0, 0],\n",
            "  [1, 1, 1, 1]],\n",
            "\n",
            " [[2, 2, 2, 2, 2, 2, 2, 2],\n",
            "  [3, 3, 3, 3, 3, 3, 3, 3],\n",
            "  [4, 4, 4, 4, 4, 4, 4, 4],\n",
            "  [5, 5, 5, 5, 5, 5, 5, 5]],\n",
            "\n",
            " [[6, 6, 6, 6, 6, 6],\n",
            "  [7, 7, 7, 7, 7, 7],\n",
            "  [8, 8, 8, 8, 8, 8]]]\n"
          ]
        }
      ],
      "source": [
        "print(\"\\nrow indexes (unsqueezed):\")\n",
        "row_indexes = arange(batch_size, image_heights, 1)\n",
        "print(\"shape:\", row_indexes.shape)\n",
        "print(row_indexes)\n",
        "\n",
        "print(\"\\nrow indexes expanded to image shapes:\")\n",
        "row_indexes_exp = row_indexes.expand(batch_size, image_heights, image_wids)\n",
        "print(\"shape:\", row_indexes_exp.shape)\n",
        "print(row_indexes_exp)"
      ]
    },
    {
      "cell_type": "code",
      "execution_count": null,
      "id": "58515829",
      "metadata": {},
      "outputs": [],
      "source": []
    }
  ],
  "metadata": {
    "colab": {
      "provenance": [],
      "toc_visible": true
    },
    "kernelspec": {
      "display_name": "Python 3 (ipykernel)",
      "language": "python",
      "name": "python3"
    },
    "language_info": {
      "codemirror_mode": {
        "name": "ipython",
        "version": 3
      },
      "file_extension": ".py",
      "mimetype": "text/x-python",
      "name": "python",
      "nbconvert_exporter": "python",
      "pygments_lexer": "ipython3",
      "version": "3.9.12"
    }
  },
  "nbformat": 4,
  "nbformat_minor": 5
}
