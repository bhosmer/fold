{
  "cells": [
    {
      "cell_type": "markdown",
      "id": "DhSAIJV7XEUP",
      "metadata": {
        "id": "DhSAIJV7XEUP"
      },
      "source": [
        "[![Run in Google Colab](https://colab.research.google.com/assets/colab-badge.svg)](https://colab.research.google.com/github/bhosmer/fold/blob/main/notebooks/broadcast.ipynb)"
      ]
    },
    {
      "cell_type": "markdown",
      "id": "PsYuJLprXGxb",
      "metadata": {
        "id": "PsYuJLprXGxb"
      },
      "source": [
        "#### Colab setup (skip if running locally)"
      ]
    },
    {
      "cell_type": "code",
      "execution_count": 63,
      "id": "-RLzObHyUde4",
      "metadata": {
        "colab": {
          "base_uri": "https://localhost:8080/"
        },
        "id": "-RLzObHyUde4",
        "outputId": "b5d494c8-3934-4600-d5f5-fd41cc5e8c38"
      },
      "outputs": [
        {
          "name": "stdout",
          "output_type": "stream",
          "text": [
            "Cloning into 'fold'...\n",
            "remote: Enumerating objects: 102, done.\u001b[K\n",
            "remote: Counting objects: 100% (98/98), done.\u001b[K\n",
            "remote: Compressing objects: 100% (69/69), done.\u001b[K\n",
            "remote: Total 102 (delta 51), reused 67 (delta 28), pack-reused 4\u001b[K\n",
            "Receiving objects: 100% (102/102), 112.35 KiB | 5.62 MiB/s, done.\n",
            "Resolving deltas: 100% (51/51), done.\n"
          ]
        }
      ],
      "source": [
        "!git clone https://github.com/bhosmer/fold.git\n",
        "import sys\n",
        "sys.path.insert(0,'/content/fold')"
      ]
    },
    {
      "cell_type": "code",
      "execution_count": 2,
      "id": "cad620d1",
      "metadata": {
        "id": "cad620d1"
      },
      "outputs": [],
      "source": [
        "from fold import *"
      ]
    },
    {
      "cell_type": "markdown",
      "id": "69ea28ca",
      "metadata": {},
      "source": [
        "## Broadcasting ragged arrays\n",
        "\n",
        "As in PyTorch, broadcast is a wrapper around `expand`, which is defined as usual: singleton dimensions of the target array can be expanded, and other dimensions of the expansion shape need to match or be singletons."
      ]
    },
    {
      "cell_type": "markdown",
      "id": "ece7745b",
      "metadata": {},
      "source": [
        "### Expansion within a ragged dimension\n",
        "\n",
        "Expansion within (to the right of) a ragged dimension leaves the ragged dimension unaffected:"
      ]
    },
    {
      "cell_type": "code",
      "execution_count": 100,
      "id": "7e1fcea1",
      "metadata": {},
      "outputs": [
        {
          "name": "stdout",
          "output_type": "stream",
          "text": [
            "a:\n",
            "shape: (2, [2, 3], 1)\n",
            "[[[0],\n",
            "  [1]],\n",
            "\n",
            " [[2],\n",
            "  [3],\n",
            "  [4]]]\n",
            "\n",
            "expanded at dim 2:\n",
            "shape: (2, [2, 3], 3)\n",
            "[[[0, 0, 0],\n",
            "  [1, 1, 1]],\n",
            "\n",
            " [[2, 2, 2],\n",
            "  [3, 3, 3],\n",
            "  [4, 4, 4]]]\n"
          ]
        }
      ],
      "source": [
        "a = arange(2, [2, 3], 1)\n",
        "print(\"a:\")\n",
        "print(\"shape:\", a.shape)\n",
        "print(a)\n",
        "\n",
        "ex = a.expand(-1, -1, 3)\n",
        "print(\"\\nexpanded at dim 2:\")\n",
        "print(\"shape:\", ex.shape)\n",
        "print(ex)"
      ]
    },
    {
      "cell_type": "markdown",
      "id": "7b4bb645",
      "metadata": {},
      "source": [
        "### Expansion outside a ragged dimension\n",
        "\n",
        "Expansion *outside* (to the left of) a ragged dimension can have different effects, depending on whether the ragged dimension nests within the subarray being expanded."
      ]
    },
    {
      "cell_type": "markdown",
      "id": "37f1549b",
      "metadata": {},
      "source": [
        "#### Nested outside expansion\n",
        "\n",
        "When the ragged dimension nests within the subarray being expanded, it repeats (along with the rest of the subarray shape). For example:"
      ]
    },
    {
      "cell_type": "code",
      "execution_count": 91,
      "id": "96b064f0",
      "metadata": {},
      "outputs": [
        {
          "name": "stdout",
          "output_type": "stream",
          "text": [
            "a:\n",
            "shape: (1, 3, [1, 2, 3])\n",
            "[[[0],\n",
            "  [1, 2],\n",
            "  [3, 4, 5]]]\n",
            "\n",
            "expanded at dim 0:\n",
            "shape: (2, 3, Repeat([1, 2, 3], 2))\n",
            "[[[0],\n",
            "  [1, 2],\n",
            "  [3, 4, 5]],\n",
            "\n",
            " [[0],\n",
            "  [1, 2],\n",
            "  [3, 4, 5]]]\n"
          ]
        }
      ],
      "source": [
        "a = arange(1, 3, [1, 2, 3])\n",
        "print(\"a:\")\n",
        "print(\"shape:\", a.shape)\n",
        "print(a)\n",
        "\n",
        "print(\"\\nexpanded at dim 0:\")\n",
        "ex = a.expand(2, -1, -1)\n",
        "print(\"shape:\", ex.shape)\n",
        "print(ex)"
      ]
    },
    {
      "cell_type": "markdown",
      "id": "8c1f21c9",
      "metadata": {},
      "source": [
        "#### Non-nested outside expansion\n",
        "\n",
        "On the other hand, when the ragged dimension does not nest within the dimension being expanded, the *components* of the ragged dimension are expanded, rather than the entire dimension. This usually manifests as the introduction of `runs`. \n",
        "\n",
        "For example:"
      ]
    },
    {
      "cell_type": "code",
      "execution_count": 101,
      "id": "420473ad",
      "metadata": {},
      "outputs": [
        {
          "name": "stdout",
          "output_type": "stream",
          "text": [
            "a:\n",
            "shape: (3, 1, [1, 2, 3])\n",
            "[[[0]],\n",
            "\n",
            " [[1, 2]],\n",
            "\n",
            " [[3, 4, 5]]]\n",
            "\n",
            "expanded at dim 1:\n",
            "shape: (3, 3, Runs([1, 2, 3], 3))\n",
            "[[[0],\n",
            "  [0],\n",
            "  [0]],\n",
            "\n",
            " [[1, 2],\n",
            "  [1, 2],\n",
            "  [1, 2]],\n",
            "\n",
            " [[3, 4, 5],\n",
            "  [3, 4, 5],\n",
            "  [3, 4, 5]]]\n"
          ]
        }
      ],
      "source": [
        "a = arange(3, 1, [1, 2, 3])\n",
        "print(\"a:\")\n",
        "print(\"shape:\", a.shape)\n",
        "print(a)\n",
        "\n",
        "print(\"\\nexpanded at dim 1:\")\n",
        "ex = a.expand(-1, 3, -1)\n",
        "print(\"shape:\", ex.shape)\n",
        "print(ex)"
      ]
    },
    {
      "cell_type": "markdown",
      "id": "1bf63669",
      "metadata": {},
      "source": [
        "### Ragged expansions\n",
        "\n",
        "There can also be ragged expansions (where the expansion shape contains ragged dimensions):"
      ]
    },
    {
      "cell_type": "code",
      "execution_count": 93,
      "id": "91d92a68",
      "metadata": {},
      "outputs": [
        {
          "name": "stdout",
          "output_type": "stream",
          "text": [
            "batch_size=2 seq_lens=[3, 4] embed_dim=4\n",
            "\n",
            "seqs:\n",
            "shape: (2, [3, 4], 4)\n",
            "[[[0.0135, 0.9317, 0.2856, 0.1192],\n",
            "  [0.8705, 0.3260, 0.5224, 0.1272],\n",
            "  [0.3315, 0.6040, 0.1599, 0.9292]],\n",
            "\n",
            " [[0.7621, 0.8405, 0.6077, 0.4733],\n",
            "  [0.4188, 0.9886, 0.5000, 0.2208],\n",
            "  [0.1477, 0.8395, 0.2176, 0.3367],\n",
            "  [0.8606, 0.9319, 0.9540, 0.5876]]]\n",
            "\n",
            "embedding dim indexes:\n",
            "shape: (4)\n",
            "[0, 1, 2, 3]\n",
            "\n",
            "embedding dim indexes expanded to (batch_size, seq_lens):\n",
            "shape: (2, [3, 4], 4)\n",
            "[[[0, 1, 2, 3],\n",
            "  [0, 1, 2, 3],\n",
            "  [0, 1, 2, 3]],\n",
            "\n",
            " [[0, 1, 2, 3],\n",
            "  [0, 1, 2, 3],\n",
            "  [0, 1, 2, 3],\n",
            "  [0, 1, 2, 3]]]\n"
          ]
        }
      ],
      "source": [
        "batch_size = 2\n",
        "seq_lens = [3, 4]\n",
        "embed_dim = 4 # leave num_heads * head_dim flattened for example\n",
        "\n",
        "print(f\"{batch_size=} {seq_lens=} {embed_dim=}\")\n",
        "\n",
        "print(\"\\nseqs:\")\n",
        "seqs = rand(batch_size, seq_lens, embed_dim)\n",
        "print(\"shape:\", seqs.shape)\n",
        "print(seqs)\n",
        "\n",
        "print(\"\\nembedding dim indexes:\")\n",
        "channels = arange(embed_dim)\n",
        "print(\"shape:\", channels.shape)\n",
        "print(channels)\n",
        "\n",
        "print(\"\\nembedding dim indexes expanded to (batch_size, seq_lens):\")\n",
        "seq_channels = channels.expand(batch_size, seq_lens, -1)\n",
        "print(\"shape:\", seq_channels.shape)\n",
        "print(seq_channels)"
      ]
    },
    {
      "cell_type": "markdown",
      "id": "1d464381",
      "metadata": {},
      "source": [
        "### Ragged dimensions and ragged expansions\n",
        "\n",
        "Ragged dimensions can interact with ragged expansions:"
      ]
    },
    {
      "cell_type": "code",
      "execution_count": 102,
      "id": "78417b2d",
      "metadata": {},
      "outputs": [
        {
          "name": "stdout",
          "output_type": "stream",
          "text": [
            "batch_size=3 image_heights=[2, 4, 3] image_wids=Runs(Seq([4, 8, 6]), Seq([2, 4, 3]))\n",
            "\n",
            "images:\n",
            "shape: (3, [2, 4, 3], Runs([4, 8, 6], [2, 4, 3]))\n",
            "[[[0.7037, 0.7386, 0.4093, 0.2948],\n",
            "  [0.8343, 0.1320, 0.0042, 0.4360]],\n",
            "\n",
            " [[0.2702, 0.0008, 0.4312, 0.4802, 0.5988, 0.1102, 0.6474, 0.5451],\n",
            "  [0.9821, 0.0201, 0.5629, 0.0831, 0.3201, 0.7943, 0.0309, 0.8344],\n",
            "  [0.8845, 0.1532, 0.4337, 0.3896, 0.3479, 0.8052, 0.1517, 0.3859],\n",
            "  [0.2072, 0.7666, 0.0868, 0.7025, 0.4260, 0.6807, 0.1788, 0.5760]],\n",
            "\n",
            " [[0.1384, 0.6017, 0.3129, 0.6903, 0.8999, 0.0268],\n",
            "  [0.5971, 0.6361, 0.2023, 0.9147, 0.3801, 0.3365],\n",
            "  [0.8672, 0.5390, 0.6838, 0.2056, 0.4967, 0.8730]]]\n"
          ]
        }
      ],
      "source": [
        "batch_size = 3\n",
        "image_heights = [2, 4, 3]\n",
        "image_wids = Runs([4, 8, 6], [2, 4, 3])\n",
        "\n",
        "print(f\"{batch_size=} {image_heights=} {image_wids=}\")\n",
        "\n",
        "print(\"\\nimages:\")\n",
        "images = rand(batch_size, image_heights, image_wids)\n",
        "print(\"shape:\", images.shape)\n",
        "print(images)"
      ]
    },
    {
      "cell_type": "code",
      "execution_count": 103,
      "id": "39cf1bdf",
      "metadata": {},
      "outputs": [
        {
          "name": "stdout",
          "output_type": "stream",
          "text": [
            "\n",
            "image indexes (unsqueezed):\n",
            "shape: (3, 1, 1)\n",
            "[[[0]],\n",
            "\n",
            " [[1]],\n",
            "\n",
            " [[2]]]\n",
            "\n",
            "rimage indexes expanded to image shapes:\n",
            "shape: (3, [2, 4, 3], Runs([4, 8, 6], [2, 4, 3]))\n",
            "[[[0, 0, 0, 0],\n",
            "  [0, 0, 0, 0]],\n",
            "\n",
            " [[1, 1, 1, 1, 1, 1, 1, 1],\n",
            "  [1, 1, 1, 1, 1, 1, 1, 1],\n",
            "  [1, 1, 1, 1, 1, 1, 1, 1],\n",
            "  [1, 1, 1, 1, 1, 1, 1, 1]],\n",
            "\n",
            " [[2, 2, 2, 2, 2, 2],\n",
            "  [2, 2, 2, 2, 2, 2],\n",
            "  [2, 2, 2, 2, 2, 2]]]\n"
          ]
        }
      ],
      "source": [
        "print(\"\\nimage indexes (unsqueezed):\")\n",
        "image_indexes = arange(batch_size, 1, 1)\n",
        "print(\"shape:\", image_indexes.shape)\n",
        "print(image_indexes)\n",
        "\n",
        "print(\"\\nrimage indexes expanded to image shapes:\")\n",
        "image_indexes_exp = image_indexes.expand(batch_size, image_heights, image_wids)\n",
        "print(\"shape:\", image_indexes_exp.shape)\n",
        "print(image_indexes_exp)"
      ]
    },
    {
      "cell_type": "code",
      "execution_count": 104,
      "id": "1a4a7f9a",
      "metadata": {},
      "outputs": [
        {
          "name": "stdout",
          "output_type": "stream",
          "text": [
            "\n",
            "row indexes (unsqueezed):\n",
            "shape: (3, [2, 4, 3], 1)\n",
            "[[[0],\n",
            "  [1]],\n",
            "\n",
            " [[2],\n",
            "  [3],\n",
            "  [4],\n",
            "  [5]],\n",
            "\n",
            " [[6],\n",
            "  [7],\n",
            "  [8]]]\n",
            "\n",
            "row indexes expanded to image shapes:\n",
            "shape: (3, [2, 4, 3], Runs([4, 8, 6], [2, 4, 3]))\n",
            "[[[0, 0, 0, 0],\n",
            "  [1, 1, 1, 1]],\n",
            "\n",
            " [[2, 2, 2, 2, 2, 2, 2, 2],\n",
            "  [3, 3, 3, 3, 3, 3, 3, 3],\n",
            "  [4, 4, 4, 4, 4, 4, 4, 4],\n",
            "  [5, 5, 5, 5, 5, 5, 5, 5]],\n",
            "\n",
            " [[6, 6, 6, 6, 6, 6],\n",
            "  [7, 7, 7, 7, 7, 7],\n",
            "  [8, 8, 8, 8, 8, 8]]]\n"
          ]
        }
      ],
      "source": [
        "print(\"\\nrow indexes (unsqueezed):\")\n",
        "row_indexes = arange(batch_size, image_heights, 1)\n",
        "print(\"shape:\", row_indexes.shape)\n",
        "print(row_indexes)\n",
        "\n",
        "print(\"\\nrow indexes expanded to image shapes:\")\n",
        "row_indexes_exp = row_indexes.expand(batch_size, image_heights, image_wids)\n",
        "print(\"shape:\", row_indexes_exp.shape)\n",
        "print(row_indexes_exp)"
      ]
    },
    {
      "cell_type": "code",
      "execution_count": null,
      "id": "58515829",
      "metadata": {},
      "outputs": [],
      "source": []
    }
  ],
  "metadata": {
    "colab": {
      "provenance": [],
      "toc_visible": true
    },
    "kernelspec": {
      "display_name": "Python 3 (ipykernel)",
      "language": "python",
      "name": "python3"
    },
    "language_info": {
      "codemirror_mode": {
        "name": "ipython",
        "version": 3
      },
      "file_extension": ".py",
      "mimetype": "text/x-python",
      "name": "python",
      "nbconvert_exporter": "python",
      "pygments_lexer": "ipython3",
      "version": "3.9.12"
    }
  },
  "nbformat": 4,
  "nbformat_minor": 5
}
