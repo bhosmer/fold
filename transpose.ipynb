{
  "cells": [
    {
      "cell_type": "markdown",
      "metadata": {
        "id": "view-in-github",
        "colab_type": "text"
      },
      "source": [
        "<a href=\"https://colab.research.google.com/github/bhosmer/fold/blob/main/transpose.ipynb\" target=\"_parent\"><img src=\"https://colab.research.google.com/assets/colab-badge.svg\" alt=\"Open In Colab\"/></a>"
      ]
    },
    {
      "cell_type": "markdown",
      "source": [
        "[![Run in Google Colab](https://colab.research.google.com/assets/colab-badge.svg)](https://colab.research.google.com/github/bhosmer/fold/blob/main/notebooks/transpose.ipynb)"
      ],
      "metadata": {
        "id": "DhSAIJV7XEUP"
      },
      "id": "DhSAIJV7XEUP"
    },
    {
      "cell_type": "markdown",
      "source": [
        "#### Colab setup (skip if running locally)"
      ],
      "metadata": {
        "id": "PsYuJLprXGxb"
      },
      "id": "PsYuJLprXGxb"
    },
    {
      "cell_type": "code",
      "source": [
        "!git clone https://github.com/bhosmer/fold.git\n",
        "import sys\n",
        "sys.path.insert(0,'/content/fold')"
      ],
      "metadata": {
        "id": "-RLzObHyUde4",
        "outputId": "98d5e1f8-5584-4a9f-aac0-9c0843b7b236",
        "colab": {
          "base_uri": "https://localhost:8080/"
        }
      },
      "id": "-RLzObHyUde4",
      "execution_count": 1,
      "outputs": [
        {
          "output_type": "stream",
          "name": "stdout",
          "text": [
            "fatal: destination path 'fold' already exists and is not an empty directory.\n"
          ]
        }
      ]
    },
    {
      "cell_type": "code",
      "execution_count": 2,
      "id": "cad620d1",
      "metadata": {
        "id": "cad620d1"
      },
      "outputs": [],
      "source": [
        "from fold import *"
      ]
    },
    {
      "cell_type": "markdown",
      "source": [
        "# Rectangular transpose refresher\n",
        "\n",
        "Recall that to transpose a rectangular array, we swap the transposed dimensions and redistribute the elements accordingly. For example:"
      ],
      "metadata": {
        "id": "I3gV_nnghHcQ"
      },
      "id": "I3gV_nnghHcQ"
    },
    {
      "cell_type": "code",
      "execution_count": 3,
      "id": "48d4276c",
      "metadata": {
        "id": "48d4276c",
        "outputId": "095ce59c-0a42-437d-94bc-0c2fb3e42e76",
        "colab": {
          "base_uri": "https://localhost:8080/"
        }
      },
      "outputs": [
        {
          "output_type": "stream",
          "name": "stdout",
          "text": [
            "Array of 3 rows of 4 columns each:\n",
            "Shape: (3, 4)\n",
            "Values:\n",
            "[[ 0,  1,  2,  3],\n",
            " [ 4,  5,  6,  7],\n",
            " [ 8,  9, 10, 11]]\n",
            "\n",
            "Dimensions 0 and 1 transposed (rows and columns swapped):\n",
            "Shape (4, 3)\n",
            "Values:\n",
            "[[ 0,  4,  8],\n",
            " [ 1,  5,  9],\n",
            " [ 2,  6, 10],\n",
            " [ 3,  7, 11]]\n"
          ]
        }
      ],
      "source": [
        "print(\"Array of 3 rows of 4 columns each:\")\n",
        "a = arange(3, 4)\n",
        "print(\"Shape:\", a.shape)\n",
        "print(\"Values:\")\n",
        "print(a)\n",
        "print(\"\\nDimensions 0 and 1 transposed (rows and columns swapped):\")\n",
        "t = a.transpose(0, 1)\n",
        "print(\"Shape\", t.shape)\n",
        "print(\"Values:\")\n",
        "print(t)"
      ]
    },
    {
      "cell_type": "markdown",
      "id": "2e90e934",
      "metadata": {
        "id": "2e90e934"
      },
      "source": [
        "At higher dimensions, transposition can be harder to visualize but operates in exactly the same way. For example, given a 3-dimensional array of 2 sheets, each with 3 rows of 4 columns:"
      ]
    },
    {
      "cell_type": "code",
      "execution_count": 4,
      "metadata": {
        "id": "tXJFaTh6Ubyc",
        "outputId": "671a620c-5425-42c5-e62a-2c3d26f28782",
        "colab": {
          "base_uri": "https://localhost:8080/"
        }
      },
      "outputs": [
        {
          "output_type": "stream",
          "name": "stdout",
          "text": [
            "Shape: (2, 3, 4)\n",
            "Values:\n",
            "[[[ 0,  1,  2,  3],\n",
            "  [ 4,  5,  6,  7],\n",
            "  [ 8,  9, 10, 11]],\n",
            "\n",
            " [[12, 13, 14, 15],\n",
            "  [16, 17, 18, 19],\n",
            "  [20, 21, 22, 23]]]\n"
          ]
        }
      ],
      "source": [
        "a = arange(2, 3, 4)\n",
        "print(\"Shape:\", a.shape)\n",
        "print(\"Values:\")\n",
        "print(a)"
      ],
      "id": "tXJFaTh6Ubyc"
    },
    {
      "cell_type": "markdown",
      "id": "4de69679",
      "metadata": {
        "id": "4de69679"
      },
      "source": [
        "Transposing dimensions 1 and 2 will swap rows and columns within each sheet:"
      ]
    },
    {
      "cell_type": "code",
      "execution_count": 5,
      "id": "c60555b3",
      "metadata": {
        "id": "c60555b3",
        "outputId": "2fcf7773-7913-4a2c-ce26-ebd846ad900e",
        "colab": {
          "base_uri": "https://localhost:8080/"
        }
      },
      "outputs": [
        {
          "output_type": "stream",
          "name": "stdout",
          "text": [
            "Shape: (2, 4, 3)\n",
            "Values:\n",
            "[[[ 0,  4,  8],\n",
            "  [ 1,  5,  9],\n",
            "  [ 2,  6, 10],\n",
            "  [ 3,  7, 11]],\n",
            "\n",
            " [[12, 16, 20],\n",
            "  [13, 17, 21],\n",
            "  [14, 18, 22],\n",
            "  [15, 19, 23]]]\n"
          ]
        }
      ],
      "source": [
        "t = a.transpose(1, 2)\n",
        "print(\"Shape:\", t.shape)\n",
        "print(\"Values:\")\n",
        "print(t)"
      ]
    },
    {
      "cell_type": "markdown",
      "id": "a3322496",
      "metadata": {
        "id": "a3322496"
      },
      "source": [
        "Transposing dimensions 0 and 1 will swap sheets and rows - sheet _i_ of the transposed array will contain all rows _i_ from the original:"
      ]
    },
    {
      "cell_type": "code",
      "execution_count": 6,
      "id": "32d21385",
      "metadata": {
        "id": "32d21385",
        "outputId": "406cbb32-262f-49b2-b7e7-10f16388147f",
        "colab": {
          "base_uri": "https://localhost:8080/"
        }
      },
      "outputs": [
        {
          "output_type": "stream",
          "name": "stdout",
          "text": [
            "Shape: (3, 2, 4)\n",
            "Values:\n",
            "[[[ 0,  1,  2,  3],\n",
            "  [12, 13, 14, 15]],\n",
            "\n",
            " [[ 4,  5,  6,  7],\n",
            "  [16, 17, 18, 19]],\n",
            "\n",
            " [[ 8,  9, 10, 11],\n",
            "  [20, 21, 22, 23]]]\n"
          ]
        }
      ],
      "source": [
        "t = a.transpose(0, 1)\n",
        "print(\"Shape:\", t.shape)\n",
        "print(\"Values:\")\n",
        "print(t)"
      ]
    },
    {
      "cell_type": "markdown",
      "id": "076617fd",
      "metadata": {
        "id": "076617fd"
      },
      "source": [
        "Transposing dimensions 0 and 2 will swap sheets and columns - sheet _i_ of the transposed array will contain all columns _i_ from the original:"
      ]
    },
    {
      "cell_type": "code",
      "execution_count": 7,
      "id": "0f9d58d3",
      "metadata": {
        "id": "0f9d58d3",
        "outputId": "329cf524-bec7-4b9e-87e0-a900e23e6a30",
        "colab": {
          "base_uri": "https://localhost:8080/"
        }
      },
      "outputs": [
        {
          "output_type": "stream",
          "name": "stdout",
          "text": [
            "Shape: (4, 3, 2)\n",
            "Values:\n",
            "[[[ 0, 12],\n",
            "  [ 4, 16],\n",
            "  [ 8, 20]],\n",
            "\n",
            " [[ 1, 13],\n",
            "  [ 5, 17],\n",
            "  [ 9, 21]],\n",
            "\n",
            " [[ 2, 14],\n",
            "  [ 6, 18],\n",
            "  [10, 22]],\n",
            "\n",
            " [[ 3, 15],\n",
            "  [ 7, 19],\n",
            "  [11, 23]]]\n"
          ]
        }
      ],
      "source": [
        "t = a.transpose(0, 2)\n",
        "print(\"Shape:\", t.shape)\n",
        "print(\"Values:\")\n",
        "print(t)"
      ]
    },
    {
      "cell_type": "markdown",
      "source": [
        "# Generalizing transposition to ragged arrays\n",
        "\n",
        "What does it mean to transpose a ragged array?\n",
        "\n",
        "We can begin by noting that since rectangular arrays are a special subset of ragged arrays, our definition must agree exactly with the standard one on this subset (as shown above)."
      ],
      "metadata": {
        "id": "g_XKjZtrgOtA"
      },
      "id": "g_XKjZtrgOtA"
    },
    {
      "cell_type": "markdown",
      "source": [
        "## Transposition Invariants\n",
        "\n",
        "To extend the definition of transposition to the general, non-rectangular case, we can consider the *invariants* of rectangular transposition, and see how they behave in the presence of raggedness.\n",
        "\n",
        "1. Transposition is a *total function* on arrays: any two dimensions of an array can be transposed, and the result will also be a well-formed array.\n",
        "   \n",
        "2. Transposition redistributes elements so that a given element _A[i, j]_ will be found at _(A^T)[j, i]_ (generalized to any pair of dimensions in an _n_-dimensional array)\n",
        "\n",
        "A consequence of these invariants which can be useful in guiding intuition is\n",
        "\n",
        "3. Transposition is *invertible*: transposing an array twice (on the same dimensions) will produce the original array."
      ],
      "metadata": {
        "id": "Rp-y2mc7gTyx"
      },
      "id": "Rp-y2mc7gTyx"
    },
    {
      "cell_type": "markdown",
      "source": [
        "## Shear\n",
        "\n",
        "For most useful combinations of ragged shapes and transposed dimensions, these invariants are easily preserved.\n",
        "\n",
        "However, a subset of ragged transpositions will cause a distortion in the result - fold uses the term *shear* for this distortion, due to its similarity to the shearing transformation of rectangular matrices. When shearing occurs, invariants #2 and (thus) #3 above no longer hold.\n",
        "\n",
        "For intuition, consider the following 2-dimensional ragged array and its transposition:\n",
        "```\n",
        "[[0],\n",
        " [1, 2],\n",
        " [3],\n",
        " [4, 5]]\n",
        "->\n",
        "[[0, 1, 3, 4],\n",
        " [2, 5]]\n",
        "```\n",
        "Note how the elements from the ragged second column of the original array have been collected into a dense row in the transpose, breaking invariant #2. In a nutshell, a ragged array can shear under transposition due to *preservation of density*: ragged arrays are by definition dense - their shapes only model variation in *extent* along a dimension, not variation in *placement*. Avoiding shear in this example would require explicit placement of elements at sparse offsets, which purely ragged arrays have no way to express.\n",
        "\n",
        "(Aside: fold of course provides general tools for constructing sparse arrays, as *indexed compositions* of dense ragged arrays. See the \"Digression: Sparsity\" section at the end of this notebook, and notes elsewhere in this repo.)\n",
        "\n",
        "Next consider the following 2-dimensional ragged array, its transpose, and its double transpose:\n",
        "```\n",
        "[[0, 1, 3, 4],\n",
        " [2, 5]]\n",
        "->\n",
        "[[0, 2],\n",
        " [1, 5],\n",
        " [3],\n",
        " [4]]\n",
        "->\n",
        "[[0, 1, 3, 4],\n",
        " [2, 5]]\n",
        "```\n",
        "Here shearing does not occur and transposition remains invertible. This is because the extents of the ragged dimension are *non-increasing*: the ragged dimension is `[4, 2]` in the first case and `[2, 2, 1, 1]` in the second case.\n",
        "\n",
        "(Note that our starting array in this example is just the result of the transpose in the previous example. Transposition in the presence of shear is *idempotent*.)\n",
        "\n",
        "With this intuition in mind, we'll now classify ragged transpositions more rigorously.\n",
        "\n"
      ],
      "metadata": {
        "id": "8BAYfkCogmjR"
      },
      "id": "8BAYfkCogmjR"
    },
    {
      "cell_type": "markdown",
      "source": [
        "## Classifying the action of transposition on ragged dimensions\n",
        "\n",
        "To more precisely understand the effect of transposition on ragged *shapes* (including the circumstances under which shear can occur), we can classify the effect of transposition on individual ragged *dimensions*, based on where in the shape they appear relative to the dimensions being transposed.\n",
        "\n",
        "We'll enumerate the possible relationships here, followed later by examples of each.\n",
        "\n",
        "1. A ragged dimension *outward* of the transposed dimensions is unaffected by the transposition.\n",
        "   \n",
        "2. A ragged dimension *inward* of the transposed dimensions is itself transposed.\n",
        "   \n",
        "3. A ragged dimension being *transposed inward* (that is, a ragged dimension that is the outer dimension of a transpose) is \"spread\": its elements are expanded by those of the inner dimension being transposed outward, combined with those of any \"gap\" dimensions between the transposed dimensions.\n",
        "\n",
        "4. A ragged dimension being *transposed outward* (that is, a ragged dimension that is the inner dimension of a transpose) will shear, unless its extents are *non-increasing* within the cells formed by each of the outer dimensions it is being transposed across. The shearing phenomenon is illustrated for simple examples above; for intuition on more involved examples, see the section on this case (#4) below.\n",
        "   \n",
        "5. A ragged \"gap\" dimension (between the two transposed dimensions) will shear, unless its extents are *non-increasing* within the cells formed by each of the dimensions between it and (inclusively) the outer dimension being transposed. (This case is closely related to #4.)\n",
        "\n",
        "Note that since ragged dimensions may appear anywhere in a ragged shape (except, trivially, its outermost dimension) any combination of these relationships may be in play during a particular transposition.\n",
        "\n",
        "Below are examples of transpositions demonstrating each of these relationships and their effects. But first, let's briefly zoom out to the bigger picture."
      ],
      "metadata": {
        "id": "NcXGyZEHhfHg"
      },
      "id": "NcXGyZEHhfHg"
    },
    {
      "cell_type": "markdown",
      "source": [
        "## Defining transpose() in a ragged array API\n",
        "\n",
        "Given the possibility of shear, we essentially we have two options for how we define a transform function on ragged arrays:\n",
        "\n",
        "1. Make transpose a *partial* function, defined only on non-shearing transpositions.\n",
        "   \n",
        "2. Relax invariant #2 above, making transposition an operation that may leave elements in unexpected places, and is not always invertible (or, for that matter, always linear).\n",
        "\n",
        "Currently fold opts for #1, providing a guard method  `transpose_will_shear` and raising an exception on shearing transpositions. However, this design decision has no downstream dependencies beyond the implementation of transposition itself, and so can be refined or reversed."
      ],
      "metadata": {
        "id": "68B_NjqUhtpI"
      },
      "id": "68B_NjqUhtpI"
    },
    {
      "cell_type": "markdown",
      "source": [
        "# Examples\n",
        "\n",
        "Following are examples that demonstrate the different cases described in **Classifying the action of transposition on ragged dimensions** above.\n"
      ],
      "metadata": {
        "id": "G_A4xQxqiYTh"
      },
      "id": "G_A4xQxqiYTh"
    },
    {
      "cell_type": "markdown",
      "id": "f6110a04",
      "metadata": {
        "id": "f6110a04"
      },
      "source": [
        "## Case 1: a ragged dimension *outward* of the transposed dimensions\n",
        "\n",
        "This case is straightforward: any dimension (ragged or not) that is outward of a transposition - that is part of the frame within which cells are transposed - is undisturbed by the transposition.\n",
        "\n",
        "(For those unfamiliar with the terminology, any `(n+m)`-dimensional array can be viewed as an `n`-dimensional frame containing `m`-dimensional cells, for any `n` and `m` that sum to the total number of array dimensions.)\n",
        "\n",
        "Here's a simple example in which a 2-dimensional frame (with one of the dimensions ragged) contains 2-dimensional cells:"
      ]
    },
    {
      "cell_type": "code",
      "execution_count": 8,
      "id": "3b160533",
      "metadata": {
        "id": "3b160533",
        "outputId": "2945c1df-8c21-4d76-9b56-5b472df67f18",
        "colab": {
          "base_uri": "https://localhost:8080/"
        }
      },
      "outputs": [
        {
          "output_type": "stream",
          "name": "stdout",
          "text": [
            "Ragged dimension 1:\n",
            "Shape: (2, [1, 2], 2, 3)\n",
            "[[[[ 0,  1,  2],\n",
            "   [ 3,  4,  5]]],\n",
            "\n",
            "\n",
            " [[[ 6,  7,  8],\n",
            "   [ 9, 10, 11]],\n",
            "\n",
            "  [[12, 13, 14],\n",
            "   [15, 16, 17]]]]\n"
          ]
        }
      ],
      "source": [
        "print(\"Ragged dimension 1:\")\n",
        "a = arange(2, [1, 2], 2, 3)\n",
        "print(\"Shape:\", a.shape)\n",
        "print(a)"
      ]
    },
    {
      "cell_type": "markdown",
      "id": "d65dbe91",
      "metadata": {
        "id": "d65dbe91"
      },
      "source": [
        "When we transpose the cells, the frame is unaffected:"
      ]
    },
    {
      "cell_type": "code",
      "execution_count": 9,
      "id": "a65bf27f",
      "metadata": {
        "id": "a65bf27f",
        "outputId": "97328c67-6519-4850-ef4a-713c242b44b5",
        "colab": {
          "base_uri": "https://localhost:8080/"
        }
      },
      "outputs": [
        {
          "output_type": "stream",
          "name": "stdout",
          "text": [
            "Dimensions 2, 3 transposed, dimension 1 unaffected:\n",
            "Shape: (2, [1, 2], 3, 2)\n",
            "[[[[ 0,  3],\n",
            "   [ 1,  4],\n",
            "   [ 2,  5]]],\n",
            "\n",
            "\n",
            " [[[ 6,  9],\n",
            "   [ 7, 10],\n",
            "   [ 8, 11]],\n",
            "\n",
            "  [[12, 15],\n",
            "   [13, 16],\n",
            "   [14, 17]]]]\n"
          ]
        }
      ],
      "source": [
        "print(\"Dimensions 2, 3 transposed, dimension 1 unaffected:\")\n",
        "t = a.transpose(2, 3)\n",
        "print(\"Shape:\", t.shape)\n",
        "print(t)"
      ]
    },
    {
      "cell_type": "markdown",
      "id": "071666e5",
      "metadata": {
        "id": "071666e5"
      },
      "source": [
        "## Case 2: a ragged dimension *inward* of the transposed dimensions\n",
        "\n",
        "To build intuition for this case, consider an array containing ragged 1-dimensional cells within a 2-dimensional outer frame:"
      ]
    },
    {
      "cell_type": "code",
      "execution_count": 10,
      "id": "d9b90b9e",
      "metadata": {
        "id": "d9b90b9e",
        "outputId": "46e6d66f-2695-45f6-b21e-9d451ebe7ce1",
        "colab": {
          "base_uri": "https://localhost:8080/"
        }
      },
      "outputs": [
        {
          "output_type": "stream",
          "name": "stdout",
          "text": [
            "Ragged cells within an outer frame:\n",
            "Shape: (2, 3, Repeat([1, 2, 3], 2))\n",
            "[[[ 0],\n",
            "  [ 1,  2],\n",
            "  [ 3,  4,  5]],\n",
            "\n",
            " [[ 6],\n",
            "  [ 7,  8],\n",
            "  [ 9, 10, 11]]]\n"
          ]
        }
      ],
      "source": [
        "print(\"Ragged cells within an outer frame:\")\n",
        "a = arange(2, 3, [1, 2, 3])\n",
        "print(\"Shape:\", a.shape)\n",
        "print(a)"
      ]
    },
    {
      "cell_type": "markdown",
      "id": "2ec4a8dc",
      "metadata": {
        "id": "2ec4a8dc"
      },
      "source": [
        "Transposing the outer frame will also transpose the cells, resulting in a transposition of the dimension that describes the cell extents:"
      ]
    },
    {
      "cell_type": "code",
      "execution_count": 11,
      "id": "626bda7e",
      "metadata": {
        "id": "626bda7e",
        "outputId": "fcde37aa-c6ad-40dc-8d0b-4a27cf4fee1c",
        "colab": {
          "base_uri": "https://localhost:8080/"
        }
      },
      "outputs": [
        {
          "output_type": "stream",
          "name": "stdout",
          "text": [
            "Outer frame (dimensions 0, 1) transposed, inner ragged shape also transposed:\n",
            "Shape: (3, 2, [1, 1, 2, 2, 3, 3])\n",
            "[[[ 0],\n",
            "  [ 6]],\n",
            "\n",
            " [[ 1,  2],\n",
            "  [ 7,  8]],\n",
            "\n",
            " [[ 3,  4,  5],\n",
            "  [ 9, 10, 11]]]\n"
          ]
        }
      ],
      "source": [
        "print(\"Outer frame (dimensions 0, 1) transposed, inner ragged shape also transposed:\")\n",
        "t = a.transpose(0, 1)\n",
        "print(\"Shape:\", t.shape)\n",
        "print(t)"
      ]
    },
    {
      "cell_type": "markdown",
      "id": "9f37b4fb",
      "metadata": {
        "id": "9f37b4fb"
      },
      "source": [
        "Of course, *this same reordering* occurs in rectangular arrays, but is invisible at the shape level due to the regularity of rectangular dimensions."
      ]
    },
    {
      "cell_type": "markdown",
      "id": "e7057ecb",
      "metadata": {
        "id": "e7057ecb"
      },
      "source": [
        "### Aside: the fold `Repeat` dimension\n",
        "\n",
        "Fold provides a small set of data structures for representing ragged dimensions that exhibit different kinds of regularity. `Repeat` is one such structure: the ragged dimension `Repeat([1, 2, 3], 2)` is simply the following sequence, encoded in packed form:"
      ]
    },
    {
      "cell_type": "code",
      "execution_count": 12,
      "id": "085aa4ef",
      "metadata": {
        "id": "085aa4ef",
        "outputId": "d15b5f88-d48b-4f61-d4a2-34af77018373",
        "colab": {
          "base_uri": "https://localhost:8080/"
        }
      },
      "outputs": [
        {
          "output_type": "stream",
          "name": "stdout",
          "text": [
            "[1, 2, 3, 1, 2, 3]\n"
          ]
        }
      ],
      "source": [
        "repeating_dim = Repeat([1, 2, 3], 2)\n",
        "print([i for i in repeating_dim])"
      ]
    },
    {
      "cell_type": "markdown",
      "id": "2b7352c7",
      "metadata": {
        "id": "2b7352c7"
      },
      "source": [
        "## Case 3: a ragged dimension *transposed inward*\n",
        "\n",
        "The outer dimension of a transposition is *transposed inward*.\n",
        "\n",
        "When the outer dimension is ragged, the transposition will \"spread\" it, in the sense that each of its extents will be repeated by an amount given by the corresponding extent of new (post-transpose) outer dimension, *multiplied* by the extents of any \"gap\" dimensions appearing between the transposed dimensions.\n",
        "\n",
        "#### Simple example (no gap dimensions)\n",
        "\n",
        "First a simple example, in which the transposed dimensions are adjacent (so there is no gap). Here we have a 3-dimensional array with a ragged middle dimension, and we want to transpose the inner dimensions:"
      ]
    },
    {
      "cell_type": "code",
      "execution_count": 13,
      "id": "6a2a509a",
      "metadata": {
        "id": "6a2a509a",
        "outputId": "02a81828-2cb5-4edf-a33b-41c71732e87d",
        "colab": {
          "base_uri": "https://localhost:8080/"
        }
      },
      "outputs": [
        {
          "output_type": "stream",
          "name": "stdout",
          "text": [
            "3D array with ragged dimension 1:\n",
            "Shape: (2, [2, 3], 3)\n",
            "[[[ 0,  1,  2],\n",
            "  [ 3,  4,  5]],\n",
            "\n",
            " [[ 6,  7,  8],\n",
            "  [ 9, 10, 11],\n",
            "  [12, 13, 14]]]\n"
          ]
        }
      ],
      "source": [
        "print(\"3D array with ragged dimension 1:\")\n",
        "a = arange(2, [2, 3], 3)\n",
        "print(\"Shape:\", a.shape)\n",
        "print(a)"
      ]
    },
    {
      "cell_type": "markdown",
      "id": "39807b2a",
      "metadata": {
        "id": "39807b2a"
      },
      "source": [
        "Intuitively, when we transpose the inner dimensions (1 and 2) of this array, we are swapping rows and columns within each sheet. In doing so, we transform the ragged shape of the rows - the different number of rows in each sheet - into a ragged shape of *sequences of columns*.\n",
        "\n",
        "That is, as the shape travels inward, the number of things each of its extents describes is multiplied:"
      ]
    },
    {
      "cell_type": "code",
      "execution_count": 14,
      "id": "46538ebc",
      "metadata": {
        "id": "46538ebc",
        "outputId": "9d21f72a-6868-44b7-aeb4-b6a3449181d6",
        "colab": {
          "base_uri": "https://localhost:8080/"
        }
      },
      "outputs": [
        {
          "output_type": "stream",
          "name": "stdout",
          "text": [
            "Dimensions 1, 2 transposed, dimension 1 transposed outward to 2 and spread:\n",
            "Shape: (2, 3, Runs([2, 3], 3))\n",
            "[[[ 0,  3],\n",
            "  [ 1,  4],\n",
            "  [ 2,  5]],\n",
            "\n",
            " [[ 6,  9, 12],\n",
            "  [ 7, 10, 13],\n",
            "  [ 8, 11, 14]]]\n"
          ]
        }
      ],
      "source": [
        "print(\"Dimensions 1, 2 transposed, dimension 1 transposed outward to 2 and spread:\")\n",
        "t = a.transpose(1, 2)\n",
        "print(\"Shape:\", t.shape)\n",
        "print(t)"
      ]
    },
    {
      "cell_type": "markdown",
      "id": "4009b852",
      "metadata": {
        "id": "4009b852"
      },
      "source": [
        "### Aside: the fold `Runs` dimension\n",
        "\n",
        "`Runs` is another of the fold data structures used to encode ragged dimensions that exhibit regularity - in this case, the regularity consists of the sequence repeating each value a certain number of times before switching to the next value, a pattern can be efficiently represented using run-length encoding.\n",
        "\n",
        "Here, the ragged dimension `Runs([2, 4], 3)` is simply the following sequence encoded in run-length encoded form:"
      ]
    },
    {
      "cell_type": "code",
      "execution_count": 15,
      "id": "2afb81df",
      "metadata": {
        "id": "2afb81df",
        "outputId": "7a0a9950-8489-4d4d-9e25-2b875e5d7adf",
        "colab": {
          "base_uri": "https://localhost:8080/"
        }
      },
      "outputs": [
        {
          "output_type": "stream",
          "name": "stdout",
          "text": [
            "[2, 2, 2, 4, 4, 4]\n"
          ]
        }
      ],
      "source": [
        "run_length_encoded_dim = Runs([2, 4], 3)\n",
        "print([i for i in run_length_encoded_dim])"
      ]
    },
    {
      "cell_type": "markdown",
      "id": "c44034c0",
      "metadata": {
        "id": "c44034c0"
      },
      "source": [
        "### The SDPA transpose\n",
        "\n",
        "A canonical example of transposing a ragged dimension inward is the one used in Scaled Dot Product Attention to bring the attention head dimension outward of the token sequence dimension.\n",
        "\n",
        "Intuitively, when we transpose dimension 1 (`seq_len`) with dimension 2 (`num_heads`), we're transforming\n",
        "* a batch of sequences divided into (`num_head` x `head_dim`) matrices\n",
        "\n",
        "into\n",
        "* a batch of attention heads divided into (`seq_len` x `head_dim`) matrices:"
      ]
    },
    {
      "cell_type": "code",
      "execution_count": 16,
      "id": "8a634757",
      "metadata": {
        "id": "8a634757",
        "outputId": "561b9643-193c-4b61-a29c-698324171f96",
        "colab": {
          "base_uri": "https://localhost:8080/"
        }
      },
      "outputs": [
        {
          "output_type": "stream",
          "name": "stdout",
          "text": [
            "2 sequences of lengths [4, 5],\n",
            "with each token represented by 2 heads of dimension 3\n",
            "\n",
            "Shape: (2, [4, 5], 2, 3)\n",
            "[[[[ 0,  1,  2],\n",
            "   [ 3,  4,  5]],\n",
            "\n",
            "  [[ 6,  7,  8],\n",
            "   [ 9, 10, 11]],\n",
            "\n",
            "  [[12, 13, 14],\n",
            "   [15, 16, 17]],\n",
            "\n",
            "  [[18, 19, 20],\n",
            "   [21, 22, 23]]],\n",
            "\n",
            "\n",
            " [[[24, 25, 26],\n",
            "   [27, 28, 29]],\n",
            "\n",
            "  [[30, 31, 32],\n",
            "   [33, 34, 35]],\n",
            "\n",
            "  [[36, 37, 38],\n",
            "   [39, 40, 41]],\n",
            "\n",
            "  [[42, 43, 44],\n",
            "   [45, 46, 47]],\n",
            "\n",
            "  [[48, 49, 50],\n",
            "   [51, 52, 53]]]]\n"
          ]
        }
      ],
      "source": [
        "batch_size, seq_len, num_heads, head_dim = 2, [4, 5], 2, 3\n",
        "print(f\"{batch_size} sequences of lengths {seq_len},\")\n",
        "print(f\"with each token represented by {num_heads} heads of dimension {head_dim}\")\n",
        "a = arange(batch_size, seq_len, num_heads, head_dim)\n",
        "print(\"\\nShape:\", a.shape)\n",
        "print(a)"
      ]
    },
    {
      "cell_type": "code",
      "source": [
        "t = a.transpose(1, 2)\n",
        "print(\"\\nTransposed shape:\", t.shape)\n",
        "print(t)"
      ],
      "metadata": {
        "id": "oZbDLF0Dq6PG",
        "outputId": "68f705a1-0d7e-4b94-c2d1-ed3c114adcd3",
        "colab": {
          "base_uri": "https://localhost:8080/"
        }
      },
      "id": "oZbDLF0Dq6PG",
      "execution_count": 17,
      "outputs": [
        {
          "output_type": "stream",
          "name": "stdout",
          "text": [
            "\n",
            "Transposed shape: (2, 2, Runs([4, 5], 2), 3)\n",
            "[[[[ 0,  1,  2],\n",
            "   [ 6,  7,  8],\n",
            "   [12, 13, 14],\n",
            "   [18, 19, 20]],\n",
            "\n",
            "  [[ 3,  4,  5],\n",
            "   [ 9, 10, 11],\n",
            "   [15, 16, 17],\n",
            "   [21, 22, 23]]],\n",
            "\n",
            "\n",
            " [[[24, 25, 26],\n",
            "   [30, 31, 32],\n",
            "   [36, 37, 38],\n",
            "   [42, 43, 44],\n",
            "   [48, 49, 50]],\n",
            "\n",
            "  [[27, 28, 29],\n",
            "   [33, 34, 35],\n",
            "   [39, 40, 41],\n",
            "   [45, 46, 47],\n",
            "   [51, 52, 53]]]]\n"
          ]
        }
      ]
    },
    {
      "cell_type": "markdown",
      "id": "7da5e5af",
      "metadata": {
        "id": "7da5e5af"
      },
      "source": [
        "\n",
        "### Case 3 example with gap dimensions\n",
        "\n",
        "Now let's look at an example involving gap dimensions, to build intuition for the multiplicative effect they have on the spreading operation.\n",
        "\n",
        "Our array for this example is 4-dimensional, with a ragged dimension 1 - we can think of this shape as \"unequal-size batches of sheets.\" We aim to transpose dimensions 1 and 3 (\"swapping sheets for columns\")."
      ]
    },
    {
      "cell_type": "code",
      "execution_count": 18,
      "id": "40b50151",
      "metadata": {
        "id": "40b50151",
        "outputId": "c20d81a2-bbb0-4764-d209-fb012f4a5142",
        "colab": {
          "base_uri": "https://localhost:8080/"
        }
      },
      "outputs": [
        {
          "output_type": "stream",
          "name": "stdout",
          "text": [
            "4D array with ragged dimension 1:\n",
            "Shape: (2, [2, 3], 2, 3)\n",
            "[[[[ 0,  1,  2],\n",
            "   [ 3,  4,  5]],\n",
            "\n",
            "  [[ 6,  7,  8],\n",
            "   [ 9, 10, 11]]],\n",
            "\n",
            "\n",
            " [[[12, 13, 14],\n",
            "   [15, 16, 17]],\n",
            "\n",
            "  [[18, 19, 20],\n",
            "   [21, 22, 23]],\n",
            "\n",
            "  [[24, 25, 26],\n",
            "   [27, 28, 29]]]]\n"
          ]
        }
      ],
      "source": [
        "print(\"4D array with ragged dimension 1:\")\n",
        "a = arange(2, [2, 3], 2, 3)\n",
        "print(\"Shape:\", a.shape)\n",
        "print(a)"
      ]
    },
    {
      "cell_type": "markdown",
      "id": "35b66ca2",
      "metadata": {
        "id": "35b66ca2"
      },
      "source": [
        "Now when we transpose dimensions 1 and 3, dimension 1 will be spread by *both* dimensions 2 and 3. By the same intuition as in our gapless example, what has happened is that the ragged batch dimension must now describe batched sequences of columns:"
      ]
    },
    {
      "cell_type": "code",
      "execution_count": 19,
      "id": "ad76ecf2",
      "metadata": {
        "id": "ad76ecf2",
        "outputId": "14ae54e3-07ed-4dd9-a47c-9af074784a91",
        "colab": {
          "base_uri": "https://localhost:8080/"
        }
      },
      "outputs": [
        {
          "output_type": "stream",
          "name": "stdout",
          "text": [
            "Dimensions 1 and 3 transposed, dimension 1 transposed outward to 3 and spread:\n",
            "Shape: (2, 3, 2, Runs([2, 3], 6))\n",
            "[[[[ 0,  6],\n",
            "   [ 3,  9]],\n",
            "\n",
            "  [[ 1,  7],\n",
            "   [ 4, 10]],\n",
            "\n",
            "  [[ 2,  8],\n",
            "   [ 5, 11]]],\n",
            "\n",
            "\n",
            " [[[12, 18, 24],\n",
            "   [15, 21, 27]],\n",
            "\n",
            "  [[13, 19, 25],\n",
            "   [16, 22, 28]],\n",
            "\n",
            "  [[14, 20, 26],\n",
            "   [17, 23, 29]]]]\n"
          ]
        }
      ],
      "source": [
        "print(\"Dimensions 1 and 3 transposed, dimension 1 transposed outward to 3 and spread:\")\n",
        "t = a.transpose(1, 3)\n",
        "print(\"Shape:\", t.shape)\n",
        "print(t)"
      ]
    },
    {
      "cell_type": "markdown",
      "id": "fab803a8",
      "metadata": {
        "id": "fab803a8"
      },
      "source": [
        "## Case 4: A ragged dimension being *transposed outward*"
      ]
    },
    {
      "cell_type": "markdown",
      "id": "0ce51a81",
      "metadata": {
        "id": "0ce51a81"
      },
      "source": [
        "A ragged *inner* dimension *transposed outward* is safe from shear as long as its extents are *non-increasing* (in effect, sorted in descending order) within the cells formed by the outer dimension(s) it is being transposed across.\n",
        "\n",
        "We went through a simple example of this case earlier, when we introduced shear. Here we'll illustrate its behavior in more general situations.\n",
        "\n",
        "To start, here's an array with a slightly more involved shape - a batch of unequal-sized rectangles. Dimensions 1 and 2 are both ragged: dimension 1 tells us the (varying) height of each rectangle, and dimension 2 tells us width of each row (constant within rectangles, but varying from one rectangle to another):"
      ]
    },
    {
      "cell_type": "code",
      "execution_count": 20,
      "id": "f5df13f7",
      "metadata": {
        "id": "f5df13f7",
        "outputId": "10a3ae0c-8d60-490d-ac57-8c217534420c",
        "colab": {
          "base_uri": "https://localhost:8080/"
        }
      },
      "outputs": [
        {
          "output_type": "stream",
          "name": "stdout",
          "text": [
            "4D array with ragged dimensions 1 and 2 (batch of unequal-shape rectangles):\n",
            "Shape: (3, [3, 2, 3], Runs([4, 3, 4], [3, 2, 3]))\n",
            "Shape unpacked: ([3], [3, 2, 3], [4, 4, 4, 3, 3, 4, 4, 4])\n",
            "[[[ 0,  1,  2,  3],\n",
            "  [ 4,  5,  6,  7],\n",
            "  [ 8,  9, 10, 11]],\n",
            "\n",
            " [[12, 13, 14],\n",
            "  [15, 16, 17]],\n",
            "\n",
            " [[18, 19, 20, 21],\n",
            "  [22, 23, 24, 25],\n",
            "  [26, 27, 28, 29]]]\n"
          ]
        }
      ],
      "source": [
        "print(\"4D array with ragged dimensions 1 and 2 (batch of unequal-shape rectangles):\")\n",
        "a = arange(3, [3, 2, 3], Runs([4, 3, 4], [3, 2, 3]))\n",
        "print(\"Shape:\", a.shape)\n",
        "print(\"Shape unpacked:\", a.shape.unpack())\n",
        "print(a)"
      ]
    },
    {
      "cell_type": "markdown",
      "id": "58705b6e",
      "metadata": {
        "id": "58705b6e"
      },
      "source": [
        "Transposing dimensions 1 and 2 of this array will transpose each rectangle in place.\n",
        "\n",
        "Note that in this case *both* diemnsions being transposed are ragged: our focus here is on what happens to the inner ragged dimension as it is transposed outward, but we can also observe multiple ragged dimensions being involved in different ways in the same transposition."
      ]
    },
    {
      "cell_type": "code",
      "execution_count": 21,
      "id": "c4f490e0",
      "metadata": {
        "id": "c4f490e0",
        "outputId": "07614d1a-c3ef-457b-dc05-08d5a83d9006",
        "colab": {
          "base_uri": "https://localhost:8080/"
        }
      },
      "outputs": [
        {
          "output_type": "stream",
          "name": "stdout",
          "text": [
            "Dimensions 1 and 2 transposed:\n",
            "Shape: (3, [4, 3, 4], Runs([3, 2, 3], [4, 3, 4]))\n",
            "[[[ 0,  4,  8],\n",
            "  [ 1,  5,  9],\n",
            "  [ 2,  6, 10],\n",
            "  [ 3,  7, 11]],\n",
            "\n",
            " [[12, 15],\n",
            "  [13, 16],\n",
            "  [14, 17]],\n",
            "\n",
            " [[18, 22, 26],\n",
            "  [19, 23, 27],\n",
            "  [20, 24, 28],\n",
            "  [21, 25, 29]]]\n"
          ]
        }
      ],
      "source": [
        "print(\"Dimensions 1 and 2 transposed:\")\n",
        "t = a.transpose(1, 2)\n",
        "print(\"Shape:\", t.shape)\n",
        "print(t)"
      ]
    },
    {
      "cell_type": "markdown",
      "id": "830da920",
      "metadata": {
        "id": "830da920"
      },
      "source": [
        "This transposition avoids shear because its ragged inner dimension is non-increasing within the cells of the outer dimension it is being transposed across (in fact, within those cells it's rectangular).\n",
        "\n",
        "For a more flagrantly ragged example, consider the following array and its transpose. Here the batch elements are no longer rectangular, but they maintain the *non-increasing* property that within each cell, no extent is greater than its predecessor."
      ]
    },
    {
      "cell_type": "code",
      "execution_count": 22,
      "id": "80b096e9",
      "metadata": {
        "id": "80b096e9",
        "outputId": "9be03172-5970-4106-b720-4323444e3c14",
        "colab": {
          "base_uri": "https://localhost:8080/"
        }
      },
      "outputs": [
        {
          "output_type": "stream",
          "name": "stdout",
          "text": [
            "\n",
            "3D array with ragged dimensions 1 and 2:\n",
            "Shape: (3, [3, 2, 3], [3, 2, 1, 3, 1, 2, 1, 1])\n",
            "[[[ 0,  1,  2],\n",
            "  [ 3,  4],\n",
            "  [ 5]],\n",
            "\n",
            " [[ 6,  7,  8],\n",
            "  [ 9]],\n",
            "\n",
            " [[10, 11],\n",
            "  [12],\n",
            "  [13]]]\n",
            "\n",
            "Dimensions 1 and 2 transposed:\n",
            "Shape: (3, Runs([3, 2], [2, 1]), [3, 2, 1, 2, 1, 1, 3, 1])\n",
            "[[[ 0,  3,  5],\n",
            "  [ 1,  4],\n",
            "  [ 2]],\n",
            "\n",
            " [[ 6,  9],\n",
            "  [ 7],\n",
            "  [ 8]],\n",
            "\n",
            " [[10, 12, 13],\n",
            "  [11]]]\n"
          ]
        }
      ],
      "source": [
        "print(\"\\n3D array with ragged dimensions 1 and 2:\")\n",
        "a = arange(3, [3, 2, 3], [3, 2, 1, 3, 1, 2, 1, 1])\n",
        "print(\"Shape:\", a.shape)\n",
        "print(a)\n",
        "print(\"\\nDimensions 1 and 2 transposed:\")\n",
        "t = a.transpose(1, 2)\n",
        "print(\"Shape:\", t.shape)\n",
        "print(t)"
      ]
    },
    {
      "cell_type": "markdown",
      "id": "ba585478",
      "metadata": {
        "id": "ba585478"
      },
      "source": [
        "## Case 5: A ragged dimension between two transposed dimensions\n",
        "\n",
        "A ragged \"gap\" dimension (one that lies between the two dimensions being transposed) is safe from shear as long as its extents are non-increasing within the cells formed by each of the dimensions between it and (inclusively) the outer dimension being transposed.\n",
        "\n",
        "This case is closely related to the previous one.\n",
        "\n",
        "In this example, dimensions 0 and 1 define two cells of 3 matrices each, Dimension 2 gives the height of each matrix, and has non-increasing extents within each of these cells. (Note that the shape does *not* repeat identically within each cell.)"
      ]
    },
    {
      "cell_type": "code",
      "execution_count": 23,
      "id": "0423a980",
      "metadata": {
        "id": "0423a980",
        "outputId": "2205c0fb-fbe8-4eb3-a3f9-ee7ae97628cb",
        "colab": {
          "base_uri": "https://localhost:8080/"
        }
      },
      "outputs": [
        {
          "output_type": "stream",
          "name": "stdout",
          "text": [
            "Shape: (2, 3, [6, 5, 4, 3, 2, 1], 2)\n",
            "[[[[ 0,  1],\n",
            "   [ 2,  3],\n",
            "   [ 4,  5],\n",
            "   [ 6,  7],\n",
            "   [ 8,  9],\n",
            "   [10, 11]],\n",
            "\n",
            "  [[12, 13],\n",
            "   [14, 15],\n",
            "   [16, 17],\n",
            "   [18, 19],\n",
            "   [20, 21]],\n",
            "\n",
            "  [[22, 23],\n",
            "   [24, 25],\n",
            "   [26, 27],\n",
            "   [28, 29]]],\n",
            "\n",
            "\n",
            " [[[30, 31],\n",
            "   [32, 33],\n",
            "   [34, 35]],\n",
            "\n",
            "  [[36, 37],\n",
            "   [38, 39]],\n",
            "\n",
            "  [[40, 41]]]]\n"
          ]
        }
      ],
      "source": [
        "a = arange(2, 3, [6, 5, 4, 3, 2, 1], 2)\n",
        "print(\"Shape:\", a.shape)\n",
        "print(a)"
      ]
    },
    {
      "cell_type": "markdown",
      "id": "5629240f",
      "metadata": {
        "id": "5629240f"
      },
      "source": [
        "We can transpose dimensions 1 and 3 (on either side of ragged dimension 2) without shearing, because dimension 2 is non-increasing within the cells of dimension 1:"
      ]
    },
    {
      "cell_type": "code",
      "execution_count": 24,
      "id": "c47c1d9d",
      "metadata": {
        "id": "c47c1d9d",
        "outputId": "37e0faac-fa74-4d88-c712-9bf622646b02",
        "colab": {
          "base_uri": "https://localhost:8080/"
        }
      },
      "outputs": [
        {
          "output_type": "stream",
          "name": "stdout",
          "text": [
            "Shape: (2, 2, Runs([6, 3], [2, 2]), Runs([3, 2, 1, 3, 2, 1, 3, 2, 1, 3, 2, 1], [4, 1, 1, 4, 1, 1, 1, 1, 1, 1, 1, 1]))\n",
            "[[[[ 0, 12, 22],\n",
            "   [ 2, 14, 24],\n",
            "   [ 4, 16, 26],\n",
            "   [ 6, 18, 28],\n",
            "   [ 8, 20],\n",
            "   [10]],\n",
            "\n",
            "  [[ 1, 13, 23],\n",
            "   [ 3, 15, 25],\n",
            "   [ 5, 17, 27],\n",
            "   [ 7, 19, 29],\n",
            "   [ 9, 21],\n",
            "   [11]]],\n",
            "\n",
            "\n",
            " [[[30, 36, 40],\n",
            "   [32, 38],\n",
            "   [34]],\n",
            "\n",
            "  [[31, 37, 41],\n",
            "   [33, 39],\n",
            "   [35]]]]\n"
          ]
        }
      ],
      "source": [
        "t = a.transpose(1, 3)\n",
        "print(\"Shape:\", t.shape)\n",
        "print(t)"
      ]
    },
    {
      "cell_type": "markdown",
      "id": "3bd64646",
      "metadata": {
        "id": "3bd64646"
      },
      "source": [
        "This example helps build intuition for *why* the non-increasing property prevents shear: here, within each cell of 3 matrices, the transposition takes columns stacked vertically and restacks them horizontally, left to right. For this to work without shearing, the columns need to be non-increasing in height.\n",
        "\n",
        "### `transpose_will_shear()`\n",
        "\n",
        "In fold, `transpose()` will raise an exception if the transposition would shear. To guard against this, `transpose_will_shear()` can be called to check for shearing. Using our original shearing example:"
      ]
    },
    {
      "cell_type": "code",
      "execution_count": 25,
      "id": "28e11920",
      "metadata": {
        "id": "28e11920",
        "outputId": "29018426-5eb8-4017-e601-c9af2a83de89",
        "colab": {
          "base_uri": "https://localhost:8080/"
        }
      },
      "outputs": [
        {
          "output_type": "stream",
          "name": "stdout",
          "text": [
            "Shape: (4, [1, 2, 1, 2])\n",
            "[[0],\n",
            " [1, 2],\n",
            " [3],\n",
            " [4, 5]]\n",
            "\n",
            "a.transpose_will_shear(0, 1)=True\n"
          ]
        }
      ],
      "source": [
        "a = arange(4, [1, 2, 1,2])\n",
        "print(\"Shape:\", a.shape)\n",
        "print(a)\n",
        "print(f\"\\n{a.transpose_will_shear(0, 1)=}\")"
      ]
    },
    {
      "cell_type": "markdown",
      "source": [
        "However as noted initially, this is a design choice, not a fundamental constraint. `transpose()` can be made total over arrays (at the cost of weakening its invariants) if preferred."
      ],
      "metadata": {
        "id": "PcUY1Wl1ZgOF"
      },
      "id": "PcUY1Wl1ZgOF"
    },
    {
      "cell_type": "markdown",
      "id": "d56fdbc5",
      "metadata": {
        "id": "d56fdbc5"
      },
      "source": [
        "# Appendix: Sparsity\n",
        "\n",
        "As noted above, ragged arrays are definitionally dense, and lack the means to express sparsity. This is essential to a properly factored array model: raggedness is a fundamentally simpler property than sparsity, and the rules for ragged arrays should be encumbered by this extra machinery.\n",
        "\n",
        "Instead, sparsity should be modeled in terms of *composition* of ragged arrays. In fold, indexes are expressive enough to model the sparse scattering of elements into a backing array, enabling sparse arrays to be neatly expressed as deferred (\"lazy\") indexed assignments.\n",
        "\n",
        "Stepping back: in fold arrays can be composed both eagerly/mutatively, via direct indexed assignment, and lazily/functionally, via what fold calls *overlays*. The observable results of an indexed assignment and its equivalent overlay are identical - the only difference is evaluation:\n",
        "\n",
        "* An indexed assignment is evaluated immediately, modifying the destination array.\n",
        "\n",
        "* An overlay is a lazy structure that holds references to both source and destination arrays, along with the index (actually a view) locating source elements within the destination. An overlay's __setitem__ and __getitem__ methods mimic the result of the corresponding indexed assignment.\n",
        "\n",
        "As should be clear, traditional sparse representations are overlays:\n",
        "\n",
        "* the destination array is a field of zero elements. In purpose-built sparse data structures this is normally implicit or denoted only by shape metadata and possibly a fill value; in fold the array is explicit (since an overlay can have any array or view as its destination, just like an indexed assignment), but use of zero striding essentially reduces any constant-value array to its shape and a fill value, in terms of storage cost.\n",
        "\n",
        "* the source array is the \"values\" structure, using standard sparse representation terminology\n",
        "\n",
        "* the view that locates source elements within the destination (fold calls this the image of the overlay) is the \"index\" structure, in sparse parlance. We can express the various traditional sparse formats using different varieties of raggedness in the image.\n",
        "\n",
        "As a quick example, let's revisit the ragged array example used above to demonstrate *shear* (replacing arange with random for readablity):"
      ]
    },
    {
      "cell_type": "code",
      "execution_count": 26,
      "id": "58e92799",
      "metadata": {
        "id": "58e92799",
        "outputId": "a5aeb4cc-607f-4666-c9f1-88cf0ecd0fa8",
        "colab": {
          "base_uri": "https://localhost:8080/"
        }
      },
      "outputs": [
        {
          "output_type": "stream",
          "name": "stdout",
          "text": [
            "Ragged:\n",
            "\n",
            "[[0.6274],\n",
            " [0.6977, 0.1639],\n",
            " [0.1479],\n",
            " [0.2597, 0.3029]]\n"
          ]
        }
      ],
      "source": [
        "a = rand(4, [1, 2, 1, 2])\n",
        "print(\"Ragged:\\n\")\n",
        "print(a)"
      ]
    },
    {
      "cell_type": "markdown",
      "id": "a9f7bc14",
      "metadata": {
        "id": "a9f7bc14"
      },
      "source": [
        "Before using an overlay to model a sparse structure containing these values, let's create a dense representation of the same array by scattering the elements of `a` into a backing array filled with zeros. We can do this in fold using ordinary indexed assignment.\n",
        "\n",
        "Here, `a.image()` produces a tuple of (advanced) index values, one per dimension, which when used together index the entire array `a`."
      ]
    },
    {
      "cell_type": "code",
      "execution_count": 27,
      "id": "d0ff44ce",
      "metadata": {
        "id": "d0ff44ce",
        "outputId": "6cf6d39d-ba13-4645-893f-3e0735874bef",
        "colab": {
          "base_uri": "https://localhost:8080/"
        }
      },
      "outputs": [
        {
          "output_type": "stream",
          "name": "stdout",
          "text": [
            "a.image()[0]:\n",
            "[[0],\n",
            " [1, 1],\n",
            " [2],\n",
            " [3, 3]]\n",
            "\n",
            "a.image()[1]:\n",
            "[[0],\n",
            " [0, 1],\n",
            " [0],\n",
            " [0, 1]]\n",
            "\n",
            "a[a.image()] == a: True\n"
          ]
        }
      ],
      "source": [
        "for i, ix in enumerate(a.image()):\n",
        "  print(f\"a.image()[{i}]:\")\n",
        "  print(ix)\n",
        "  print()\n",
        "print(f\"a[a.image()] == a:\", a[a.image()] == a)"
      ]
    },
    {
      "cell_type": "markdown",
      "id": "9bb55c9b",
      "metadata": {
        "id": "9bb55c9b"
      },
      "source": [
        "Using this index we can project `a` onto a rectangular backing array:"
      ]
    },
    {
      "cell_type": "code",
      "execution_count": 28,
      "id": "ae8ee152",
      "metadata": {
        "id": "ae8ee152",
        "outputId": "38aac7c3-8599-479f-918b-fcf84d8d0da1",
        "colab": {
          "base_uri": "https://localhost:8080/"
        }
      },
      "outputs": [
        {
          "output_type": "stream",
          "name": "stdout",
          "text": [
            "Before scattering assignment:\n",
            "[[0.0000, 0.0000],\n",
            " [0.0000, 0.0000],\n",
            " [0.0000, 0.0000],\n",
            " [0.0000, 0.0000]]\n",
            "\n",
            "After scattering assignment:\n",
            "[[0.6274, 0.0000],\n",
            " [0.6977, 0.1639],\n",
            " [0.1479, 0.0000],\n",
            " [0.2597, 0.3029]]\n"
          ]
        }
      ],
      "source": [
        "scattered = zeros(4, 2)\n",
        "print(\"Before scattering assignment:\")\n",
        "print(scattered)\n",
        "scattered[a.image()] = a\n",
        "print(\"\\nAfter scattering assignment:\")\n",
        "print(scattered)"
      ]
    },
    {
      "cell_type": "markdown",
      "id": "89b7d388",
      "metadata": {
        "id": "89b7d388"
      },
      "source": [
        "Now let's create an overlay to *lazily* represent the result of this scattering operation. It will turn out that the components of an overlay correspond directly to the substructures of a standard sparse representation.\n",
        "\n",
        "(Note that laziness means we can use zero strides to reduce our \"fill\" array data to a single scalar.)"
      ]
    },
    {
      "cell_type": "code",
      "execution_count": 29,
      "id": "544f0941",
      "metadata": {
        "id": "544f0941",
        "outputId": "33721a22-cdc6-4c49-8698-92f6aeab6ed3",
        "colab": {
          "base_uri": "https://localhost:8080/"
        }
      },
      "outputs": [
        {
          "output_type": "stream",
          "name": "stdout",
          "text": [
            "Fill array:\n",
            "[[0.0000, 0.0000],\n",
            " [0.0000, 0.0000],\n",
            " [0.0000, 0.0000],\n",
            " [0.0000, 0.0000]]\n",
            "\n",
            "Fill array data: tensor([0.])\n",
            "Fill array shape: (4, 2)\n",
            "Fill array strides: (0, 0)\n",
            "\n",
            "Overlay of `a` onto fill array:\n",
            "[[0.6274, 0.0000],\n",
            " [0.6977, 0.1639],\n",
            " [0.1479, 0.0000],\n",
            " [0.2597, 0.3029]]\n",
            "\n",
            "Overlay and scattered array are observationally equivalent:\n",
            "ov.tolist() == scattered.tolist(): True\n"
          ]
        }
      ],
      "source": [
        "fill = zeros().expand(4, 2)\n",
        "print(\"Fill array:\")\n",
        "print(fill)\n",
        "print(\"\\nFill array data:\", fill.data)\n",
        "print(\"Fill array shape:\", fill.view.shape)\n",
        "print(\"Fill array strides:\", fill.view.strides)\n",
        "\n",
        "ov = fill.overlay[a.image()](a)\n",
        "print(\"\\nOverlay of `a` onto fill array:\")\n",
        "print(ov)\n",
        "\n",
        "print(\"\\nOverlay and scattered array are observationally equivalent:\")\n",
        "print(\"ov.tolist() == scattered.tolist():\", ov.tolist() == scattered.tolist())"
      ]
    },
    {
      "cell_type": "markdown",
      "id": "29124718",
      "metadata": {
        "id": "29124718"
      },
      "source": [
        "The source and destination components of the overlay are unmodified: it simply holds references to the arrays specified in the overlay construction expression:"
      ]
    },
    {
      "cell_type": "code",
      "execution_count": 30,
      "id": "649d35f2",
      "metadata": {
        "id": "649d35f2",
        "outputId": "3ca25fd5-1ad5-40c4-941b-6588368f6c37",
        "colab": {
          "base_uri": "https://localhost:8080/"
        }
      },
      "outputs": [
        {
          "output_type": "stream",
          "name": "stdout",
          "text": [
            "ov.dest is fill=True\n",
            "ov.src is a=True\n"
          ]
        }
      ],
      "source": [
        "print(f\"{ov.dest is fill=}\")\n",
        "print(f\"{ov.src is a=}\")"
      ]
    },
    {
      "cell_type": "markdown",
      "id": "045b05b0",
      "metadata": {
        "id": "045b05b0"
      },
      "source": [
        "To relate source and destination, the overlay builds an *image*, an indexing view whose shape is that of the source array, and whose strides specify the destination locations of the source array's elements."
      ]
    },
    {
      "cell_type": "code",
      "execution_count": 31,
      "id": "edf0032a",
      "metadata": {
        "id": "edf0032a",
        "outputId": "16aed425-91ab-471b-8b21-0aa6f7cc3578",
        "colab": {
          "base_uri": "https://localhost:8080/"
        }
      },
      "outputs": [
        {
          "output_type": "stream",
          "name": "stdout",
          "text": [
            "ov.image.shape: (4, [1, 2, 1, 2])\n",
            "ov.image.strides: (2, [2, 1, 1, 2, 1, 1])\n"
          ]
        }
      ],
      "source": [
        "print(\"ov.image.shape:\", ov.image.shape)\n",
        "print(\"ov.image.strides:\", ov.image.strides)"
      ]
    },
    {
      "cell_type": "markdown",
      "id": "c646147e",
      "metadata": {
        "id": "c646147e"
      },
      "source": [
        "For intuition, note that the overlay's image is exactly the view we would construct to *recover* our original ragged array from the padded rectangular array `r` we created earlier:"
      ]
    },
    {
      "cell_type": "code",
      "execution_count": 32,
      "id": "a5d1796c",
      "metadata": {
        "id": "a5d1796c",
        "outputId": "578702f2-933a-4bab-9d26-df4a470114f4",
        "colab": {
          "base_uri": "https://localhost:8080/",
          "height": 193
        }
      },
      "outputs": [
        {
          "output_type": "stream",
          "name": "stdout",
          "text": [
            "a recovered from scattered:\n",
            "\n"
          ]
        },
        {
          "output_type": "error",
          "ename": "NameError",
          "evalue": "name 'r' is not defined",
          "traceback": [
            "\u001b[0;31m---------------------------------------------------------------------------\u001b[0m",
            "\u001b[0;31mNameError\u001b[0m                                 Traceback (most recent call last)",
            "\u001b[0;32m<ipython-input-32-fa5dfc54a7c5>\u001b[0m in \u001b[0;36m<cell line: 2>\u001b[0;34m()\u001b[0m\n\u001b[1;32m      1\u001b[0m \u001b[0mprint\u001b[0m\u001b[0;34m(\u001b[0m\u001b[0;34m\"a recovered from scattered:\\n\"\u001b[0m\u001b[0;34m)\u001b[0m\u001b[0;34m\u001b[0m\u001b[0;34m\u001b[0m\u001b[0m\n\u001b[0;32m----> 2\u001b[0;31m \u001b[0mprint\u001b[0m\u001b[0;34m(\u001b[0m\u001b[0mArray\u001b[0m\u001b[0;34m(\u001b[0m\u001b[0mr\u001b[0m\u001b[0;34m.\u001b[0m\u001b[0mdata\u001b[0m\u001b[0;34m,\u001b[0m \u001b[0mov\u001b[0m\u001b[0;34m.\u001b[0m\u001b[0mimage\u001b[0m\u001b[0;34m)\u001b[0m\u001b[0;34m)\u001b[0m\u001b[0;34m\u001b[0m\u001b[0;34m\u001b[0m\u001b[0m\n\u001b[0m",
            "\u001b[0;31mNameError\u001b[0m: name 'r' is not defined"
          ]
        }
      ],
      "source": [
        "print(\"a recovered from scattered:\\n\")\n",
        "print(Array(r.data, ov.image))\n"
      ]
    },
    {
      "cell_type": "markdown",
      "id": "f9164ff3",
      "metadata": {
        "id": "f9164ff3"
      },
      "source": []
    }
  ],
  "metadata": {
    "kernelspec": {
      "display_name": "Python 3 (ipykernel)",
      "language": "python",
      "name": "python3"
    },
    "language_info": {
      "codemirror_mode": {
        "name": "ipython",
        "version": 3
      },
      "file_extension": ".py",
      "mimetype": "text/x-python",
      "name": "python",
      "nbconvert_exporter": "python",
      "pygments_lexer": "ipython3",
      "version": "3.9.12"
    },
    "colab": {
      "provenance": [],
      "toc_visible": true,
      "include_colab_link": true
    }
  },
  "nbformat": 4,
  "nbformat_minor": 5
}