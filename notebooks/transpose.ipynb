{
 "cells": [
  {
   "cell_type": "code",
   "execution_count": 2,
   "id": "72010bab",
   "metadata": {},
   "outputs": [],
   "source": [
    "from fold import *"
   ]
  },
  {
   "cell_type": "code",
   "execution_count": 27,
   "id": "30ee5dde",
   "metadata": {},
   "outputs": [
    {
     "name": "stdout",
     "output_type": "stream",
     "text": [
      "(2, 4, 3)\n",
      "---\n",
      "[[[ 0,  1,  2],\n",
      "  [ 3,  4,  5],\n",
      "  [ 6,  7,  8],\n",
      "  [ 9, 10, 11]],\n",
      "\n",
      " [[12, 13, 14],\n",
      "  [15, 16, 17],\n",
      "  [18, 19, 20],\n",
      "  [21, 22, 23]]]\n",
      "---\n",
      "(2, 3, 4)\n",
      "---\n",
      "[[[ 0,  3,  6,  9],\n",
      "  [ 1,  4,  7, 10],\n",
      "  [ 2,  5,  8, 11]],\n",
      "\n",
      " [[12, 15, 18, 21],\n",
      "  [13, 16, 19, 22],\n",
      "  [14, 17, 20, 23]]]\n",
      "---\n",
      "(4, 2, 3)\n",
      "---\n",
      "[[[ 0,  1,  2],\n",
      "  [12, 13, 14]],\n",
      "\n",
      " [[ 3,  4,  5],\n",
      "  [15, 16, 17]],\n",
      "\n",
      " [[ 6,  7,  8],\n",
      "  [18, 19, 20]],\n",
      "\n",
      " [[ 9, 10, 11],\n",
      "  [21, 22, 23]]]\n",
      "---\n",
      "(3, 4, 2)\n",
      "---\n",
      "[[[ 0, 12],\n",
      "  [ 3, 15],\n",
      "  [ 6, 18],\n",
      "  [ 9, 21]],\n",
      "\n",
      " [[ 1, 13],\n",
      "  [ 4, 16],\n",
      "  [ 7, 19],\n",
      "  [10, 22]],\n",
      "\n",
      " [[ 2, 14],\n",
      "  [ 5, 17],\n",
      "  [ 8, 20],\n",
      "  [11, 23]]]\n"
     ]
    }
   ],
   "source": [
    "# rect/.../rect\n",
    "a = arange(2, 4, 3)\n",
    "print(a.shape)\n",
    "print(\"---\")\n",
    "print(a)\n",
    "print(\"---\")\n",
    "t = a.transpose(1, 2)\n",
    "print(t.shape)\n",
    "print(\"---\")\n",
    "print(t)\n",
    "print(\"---\")\n",
    "t = a.transpose(0, 1)\n",
    "print(t.shape)\n",
    "print(\"---\")\n",
    "print(t)\n",
    "print(\"---\")\n",
    "t = a.transpose(-3, -1)\n",
    "print(t.shape)\n",
    "print(\"---\")\n",
    "print(t)"
   ]
  },
  {
   "cell_type": "code",
   "execution_count": 26,
   "id": "b8f493c6",
   "metadata": {},
   "outputs": [
    {
     "name": "stdout",
     "output_type": "stream",
     "text": [
      "B, Seq, num_heads, head_dim = (3, [3, 2, 1], 2, 4)\n",
      "---\n",
      "[[[[ 0,  1,  2,  3],\n",
      "   [ 4,  5,  6,  7]],\n",
      "\n",
      "  [[ 8,  9, 10, 11],\n",
      "   [12, 13, 14, 15]],\n",
      "\n",
      "  [[16, 17, 18, 19],\n",
      "   [20, 21, 22, 23]]],\n",
      "\n",
      "\n",
      " [[[24, 25, 26, 27],\n",
      "   [28, 29, 30, 31]],\n",
      "\n",
      "  [[32, 33, 34, 35],\n",
      "   [36, 37, 38, 39]]],\n",
      "\n",
      "\n",
      " [[[40, 41, 42, 43],\n",
      "   [44, 45, 46, 47]]]]\n",
      "---\n",
      "B, num_heads, Seq, head_dim = (3, 2, Runs(Affine(3, 3, -1), 2), 4)\n",
      "---\n",
      "[[[[ 0,  1,  2,  3],\n",
      "   [ 8,  9, 10, 11],\n",
      "   [16, 17, 18, 19]],\n",
      "\n",
      "  [[ 4,  5,  6,  7],\n",
      "   [12, 13, 14, 15],\n",
      "   [20, 21, 22, 23]]],\n",
      "\n",
      "\n",
      " [[[24, 25, 26, 27],\n",
      "   [32, 33, 34, 35]],\n",
      "\n",
      "  [[28, 29, 30, 31],\n",
      "   [36, 37, 38, 39]]],\n",
      "\n",
      "\n",
      " [[[40, 41, 42, 43]],\n",
      "\n",
      "  [[44, 45, 46, 47]]]]\n"
     ]
    }
   ],
   "source": [
    "# ragged/rect (sdpa)\n",
    "a = arange(3, [3, 2, 1], 2, 4)\n",
    "print(f\"B, Seq, num_heads, head_dim = {a.shape}\")\n",
    "print('---')\n",
    "print(a)\n",
    "print('---')\n",
    "t = a.transpose(1, 2)\n",
    "print(f\"B, num_heads, Seq, head_dim = {t.shape}\")\n",
    "print('---')\n",
    "print(t)"
   ]
  },
  {
   "cell_type": "code",
   "execution_count": 30,
   "id": "9555a91e",
   "metadata": {},
   "outputs": [
    {
     "name": "stdout",
     "output_type": "stream",
     "text": [
      "(3, [2, 4, 3], [2, 1, 3, 2, 2, 1, 2, 2, 1])\n",
      "---\n",
      "[[[ 0,  1],\n",
      "  [ 2]],\n",
      "\n",
      " [[ 3,  4,  5],\n",
      "  [ 6,  7],\n",
      "  [ 8,  9],\n",
      "  [10]],\n",
      "\n",
      " [[11, 12],\n",
      "  [13, 14],\n",
      "  [15]]]\n",
      "---\n",
      "(3, [2, 3, 2], [2, 1, 4, 3, 1, 3, 2])\n",
      "---\n",
      "[[[ 0,  2],\n",
      "  [ 1]],\n",
      "\n",
      " [[ 3,  6,  8, 10],\n",
      "  [ 4,  7,  9],\n",
      "  [ 5]],\n",
      "\n",
      " [[11, 13, 15],\n",
      "  [12, 14]]]\n"
     ]
    }
   ],
   "source": [
    "# ragged/ragged (ok)\n",
    "a = arange(3, [2, 4, 3], [2, 1, 3, 2, 2, 1, 2, 2, 1])\n",
    "print(a.shape)\n",
    "print(\"---\")\n",
    "print(a)\n",
    "print(\"---\")\n",
    "t = a.transpose(1, 2)\n",
    "print(t.shape)\n",
    "print(\"---\")\n",
    "print(t)"
   ]
  },
  {
   "cell_type": "code",
   "execution_count": 31,
   "id": "4561e18e",
   "metadata": {},
   "outputs": [
    {
     "name": "stdout",
     "output_type": "stream",
     "text": [
      "(3, [2, 4, 3], [1, 2, 1, 2, 2, 1, 1, 2, 1])\n",
      "---\n",
      "[[[ 0],\n",
      "  [ 1,  2]],\n",
      "\n",
      " [[ 3],\n",
      "  [ 4,  5],\n",
      "  [ 6,  7],\n",
      "  [ 8]],\n",
      "\n",
      " [[ 9],\n",
      "  [10, 11],\n",
      "  [12]]]\n",
      "---\n"
     ]
    },
    {
     "ename": "ValueError",
     "evalue": "transpose: ragged shape at dim 2 will shear",
     "output_type": "error",
     "traceback": [
      "\u001b[0;31m---------------------------------------------------------------------------\u001b[0m",
      "\u001b[0;31mValueError\u001b[0m                                Traceback (most recent call last)",
      "Input \u001b[0;32mIn [31]\u001b[0m, in \u001b[0;36m<cell line: 7>\u001b[0;34m()\u001b[0m\n\u001b[1;32m      5\u001b[0m \u001b[38;5;28mprint\u001b[39m(a)\n\u001b[1;32m      6\u001b[0m \u001b[38;5;28mprint\u001b[39m(\u001b[38;5;124m\"\u001b[39m\u001b[38;5;124m---\u001b[39m\u001b[38;5;124m\"\u001b[39m)\n\u001b[0;32m----> 7\u001b[0m t \u001b[38;5;241m=\u001b[39m \u001b[43ma\u001b[49m\u001b[38;5;241;43m.\u001b[39;49m\u001b[43mtranspose\u001b[49m\u001b[43m(\u001b[49m\u001b[38;5;241;43m1\u001b[39;49m\u001b[43m,\u001b[49m\u001b[43m \u001b[49m\u001b[38;5;241;43m2\u001b[39;49m\u001b[43m)\u001b[49m\n",
      "File \u001b[0;32m~/dev/fold/fold/array.py:648\u001b[0m, in \u001b[0;36mArray.transpose\u001b[0;34m(self, x, y)\u001b[0m\n\u001b[1;32m    646\u001b[0m x, y \u001b[38;5;241m=\u001b[39m (x, y) \u001b[38;5;28;01mif\u001b[39;00m x \u001b[38;5;241m<\u001b[39m y \u001b[38;5;28;01melse\u001b[39;00m (y, x)\n\u001b[1;32m    647\u001b[0m x, y \u001b[38;5;241m=\u001b[39m [wrap_dim(i, \u001b[38;5;28mself\u001b[39m\u001b[38;5;241m.\u001b[39mndim) \u001b[38;5;28;01mfor\u001b[39;00m i \u001b[38;5;129;01min\u001b[39;00m [x, y]]\n\u001b[0;32m--> 648\u001b[0m tshape \u001b[38;5;241m=\u001b[39m \u001b[38;5;28;43mself\u001b[39;49m\u001b[38;5;241;43m.\u001b[39;49m\u001b[43m_transpose_shape\u001b[49m\u001b[43m(\u001b[49m\u001b[43mx\u001b[49m\u001b[43m,\u001b[49m\u001b[43m \u001b[49m\u001b[43my\u001b[49m\u001b[43m)\u001b[49m\n\u001b[1;32m    649\u001b[0m perm \u001b[38;5;241m=\u001b[39m \u001b[38;5;28mlist\u001b[39m(\u001b[38;5;28mrange\u001b[39m(\u001b[38;5;28mself\u001b[39m\u001b[38;5;241m.\u001b[39mndim))\n\u001b[1;32m    650\u001b[0m perm[x] \u001b[38;5;241m=\u001b[39m y\n",
      "File \u001b[0;32m~/dev/fold/fold/array.py:626\u001b[0m, in \u001b[0;36mArray._transpose_shape\u001b[0;34m(self, x, y)\u001b[0m\n\u001b[1;32m    624\u001b[0m ys \u001b[38;5;241m=\u001b[39m shape[y]\u001b[38;5;241m.\u001b[39mcut(shape[x])\n\u001b[1;32m    625\u001b[0m \u001b[38;5;28;01mif\u001b[39;00m \u001b[38;5;28many\u001b[39m(diff \u001b[38;5;241m>\u001b[39m \u001b[38;5;241m0\u001b[39m \u001b[38;5;28;01mfor\u001b[39;00m y \u001b[38;5;129;01min\u001b[39;00m ys \u001b[38;5;28;01mfor\u001b[39;00m diff \u001b[38;5;129;01min\u001b[39;00m fwddiff(y)):\n\u001b[0;32m--> 626\u001b[0m     \u001b[38;5;28;01mraise\u001b[39;00m \u001b[38;5;167;01mValueError\u001b[39;00m(\u001b[38;5;124mf\u001b[39m\u001b[38;5;124m\"\u001b[39m\u001b[38;5;124mtranspose: ragged shape at dim \u001b[39m\u001b[38;5;132;01m{\u001b[39;00my\u001b[38;5;132;01m}\u001b[39;00m\u001b[38;5;124m will shear\u001b[39m\u001b[38;5;124m\"\u001b[39m)\n\u001b[1;32m    627\u001b[0m new_x \u001b[38;5;241m=\u001b[39m seq_to_dim(d\u001b[38;5;241m.\u001b[39mmax() \u001b[38;5;28;01mfor\u001b[39;00m d \u001b[38;5;129;01min\u001b[39;00m ys)\n\u001b[1;32m    628\u001b[0m ydims \u001b[38;5;241m=\u001b[39m [\n\u001b[1;32m    629\u001b[0m     seq_to_dim(\u001b[38;5;28msum\u001b[39m(w \u001b[38;5;241m>\u001b[39m j \u001b[38;5;28;01mfor\u001b[39;00m w \u001b[38;5;129;01min\u001b[39;00m o) \u001b[38;5;28;01mfor\u001b[39;00m j \u001b[38;5;129;01min\u001b[39;00m \u001b[38;5;28mrange\u001b[39m(i))\n\u001b[1;32m    630\u001b[0m     \u001b[38;5;28;01mfor\u001b[39;00m (i, o) \u001b[38;5;129;01min\u001b[39;00m \u001b[38;5;28mzip\u001b[39m(new_x, ys)\n\u001b[1;32m    631\u001b[0m ]\n",
      "\u001b[0;31mValueError\u001b[0m: transpose: ragged shape at dim 2 will shear"
     ]
    }
   ],
   "source": [
    "# ragged/ragged (shear)\n",
    "a = arange(3, [2, 4, 3], [1, 2, 1, 2, 2, 1, 1, 2, 1])\n",
    "print(a.shape)\n",
    "print(\"---\")\n",
    "print(a)\n",
    "print(\"---\")\n",
    "t = a.transpose(1, 2)"
   ]
  },
  {
   "cell_type": "code",
   "execution_count": 32,
   "id": "26f8a9f3",
   "metadata": {},
   "outputs": [
    {
     "name": "stdout",
     "output_type": "stream",
     "text": [
      "(3, [2, 4, 3], 2)\n",
      "---\n",
      "[[[ 0,  1],\n",
      "  [ 2,  3]],\n",
      "\n",
      " [[ 4,  5],\n",
      "  [ 6,  7],\n",
      "  [ 8,  9],\n",
      "  [10, 11]],\n",
      "\n",
      " [[12, 13],\n",
      "  [14, 15],\n",
      "  [16, 17]]]\n",
      "---\n",
      "(3, 2, Runs([2, 4, 3], 2))\n",
      "---\n",
      "[[[ 0,  2],\n",
      "  [ 1,  3]],\n",
      "\n",
      " [[ 4,  6,  8, 10],\n",
      "  [ 5,  7,  9, 11]],\n",
      "\n",
      " [[12, 14, 16],\n",
      "  [13, 15, 17]]]\n"
     ]
    }
   ],
   "source": [
    "# ragged/rect\n",
    "a = arange(3, [2, 4, 3], 2)\n",
    "print(a.shape)\n",
    "print(\"---\")\n",
    "print(a)\n",
    "print('---')\n",
    "t = a.transpose(1, 2)\n",
    "print(t.shape)\n",
    "print(\"---\")\n",
    "print(t)"
   ]
  },
  {
   "cell_type": "code",
   "execution_count": 33,
   "id": "0382544c",
   "metadata": {},
   "outputs": [
    {
     "name": "stdout",
     "output_type": "stream",
     "text": [
      "(3, 2, Runs([2, 4, 3], 2))\n",
      "---\n",
      "[[[ 0,  1],\n",
      "  [ 2,  3]],\n",
      "\n",
      " [[ 4,  5,  6,  7],\n",
      "  [ 8,  9, 10, 11]],\n",
      "\n",
      " [[12, 13, 14],\n",
      "  [15, 16, 17]]]\n",
      "---\n",
      "(3, [2, 4, 3], 2)\n",
      "---\n",
      "[[[ 0,  2],\n",
      "  [ 1,  3]],\n",
      "\n",
      " [[ 4,  8],\n",
      "  [ 5,  9],\n",
      "  [ 6, 10],\n",
      "  [ 7, 11]],\n",
      "\n",
      " [[12, 15],\n",
      "  [13, 16],\n",
      "  [14, 17]]]\n"
     ]
    }
   ],
   "source": [
    "# rect/ragged\n",
    "a = arange(3, 2, Runs([2, 4, 3], 2))\n",
    "print(a.shape)\n",
    "print(\"---\")\n",
    "print(a)\n",
    "print(\"---\")\n",
    "t = a.transpose(1, 2)\n",
    "print(t.shape)\n",
    "print(\"---\")\n",
    "print(t)"
   ]
  },
  {
   "cell_type": "code",
   "execution_count": 36,
   "id": "e0861153",
   "metadata": {},
   "outputs": [
    {
     "name": "stdout",
     "output_type": "stream",
     "text": [
      "(3, [1, 2, 3], 5)\n",
      "---\n",
      "[[[ 0,  1,  2,  3,  4]],\n",
      "\n",
      " [[ 5,  6,  7,  8,  9],\n",
      "  [10, 11, 12, 13, 14]],\n",
      "\n",
      " [[15, 16, 17, 18, 19],\n",
      "  [20, 21, 22, 23, 24],\n",
      "  [25, 26, 27, 28, 29]]]\n",
      "---\n"
     ]
    },
    {
     "ename": "ValueError",
     "evalue": "length_extend: target length 5 not an even multiple of self length 3",
     "output_type": "error",
     "traceback": [
      "\u001b[0;31m---------------------------------------------------------------------------\u001b[0m",
      "\u001b[0;31mValueError\u001b[0m                                Traceback (most recent call last)",
      "Input \u001b[0;32mIn [36]\u001b[0m, in \u001b[0;36m<cell line: 8>\u001b[0;34m()\u001b[0m\n\u001b[1;32m      6\u001b[0m \u001b[38;5;28mprint\u001b[39m(a)\n\u001b[1;32m      7\u001b[0m \u001b[38;5;28mprint\u001b[39m(\u001b[38;5;124m\"\u001b[39m\u001b[38;5;124m---\u001b[39m\u001b[38;5;124m\"\u001b[39m)\n\u001b[0;32m----> 8\u001b[0m t \u001b[38;5;241m=\u001b[39m \u001b[43ma\u001b[49m\u001b[38;5;241;43m.\u001b[39;49m\u001b[43mtranspose\u001b[49m\u001b[43m(\u001b[49m\u001b[38;5;241;43m0\u001b[39;49m\u001b[43m,\u001b[49m\u001b[43m \u001b[49m\u001b[38;5;241;43m2\u001b[39;49m\u001b[43m)\u001b[49m\n",
      "File \u001b[0;32m~/dev/fold/fold/array.py:648\u001b[0m, in \u001b[0;36mArray.transpose\u001b[0;34m(self, x, y)\u001b[0m\n\u001b[1;32m    646\u001b[0m x, y \u001b[38;5;241m=\u001b[39m (x, y) \u001b[38;5;28;01mif\u001b[39;00m x \u001b[38;5;241m<\u001b[39m y \u001b[38;5;28;01melse\u001b[39;00m (y, x)\n\u001b[1;32m    647\u001b[0m x, y \u001b[38;5;241m=\u001b[39m [wrap_dim(i, \u001b[38;5;28mself\u001b[39m\u001b[38;5;241m.\u001b[39mndim) \u001b[38;5;28;01mfor\u001b[39;00m i \u001b[38;5;129;01min\u001b[39;00m [x, y]]\n\u001b[0;32m--> 648\u001b[0m tshape \u001b[38;5;241m=\u001b[39m \u001b[38;5;28;43mself\u001b[39;49m\u001b[38;5;241;43m.\u001b[39;49m\u001b[43m_transpose_shape\u001b[49m\u001b[43m(\u001b[49m\u001b[43mx\u001b[49m\u001b[43m,\u001b[49m\u001b[43m \u001b[49m\u001b[43my\u001b[49m\u001b[43m)\u001b[49m\n\u001b[1;32m    649\u001b[0m perm \u001b[38;5;241m=\u001b[39m \u001b[38;5;28mlist\u001b[39m(\u001b[38;5;28mrange\u001b[39m(\u001b[38;5;28mself\u001b[39m\u001b[38;5;241m.\u001b[39mndim))\n\u001b[1;32m    650\u001b[0m perm[x] \u001b[38;5;241m=\u001b[39m y\n",
      "File \u001b[0;32m~/dev/fold/fold/array.py:619\u001b[0m, in \u001b[0;36mArray._transpose_shape\u001b[0;34m(self, x, y)\u001b[0m\n\u001b[1;32m    616\u001b[0m \u001b[38;5;28;01mif\u001b[39;00m is_rect(shape[y]) \u001b[38;5;129;01mand\u001b[39;00m is_rect(shape[x]):\n\u001b[1;32m    617\u001b[0m     \u001b[38;5;66;03m# rect/rect (any gap)\u001b[39;00m\n\u001b[1;32m    618\u001b[0m     orbits \u001b[38;5;241m=\u001b[39m \u001b[38;5;28mtuple\u001b[39m(d\u001b[38;5;241m.\u001b[39morbit() \u001b[38;5;28;01mfor\u001b[39;00m d \u001b[38;5;129;01min\u001b[39;00m shape)\n\u001b[0;32m--> 619\u001b[0m     dims \u001b[38;5;241m=\u001b[39m \u001b[43mcanonicalize\u001b[49m\u001b[43m(\u001b[49m\n\u001b[1;32m    620\u001b[0m \u001b[43m        \u001b[49m\u001b[43m(\u001b[49m\u001b[38;5;241;43m*\u001b[39;49m\u001b[43mshape\u001b[49m\u001b[43m[\u001b[49m\u001b[43m:\u001b[49m\u001b[43mx\u001b[49m\u001b[43m]\u001b[49m\u001b[43m,\u001b[49m\u001b[43m \u001b[49m\u001b[43morbits\u001b[49m\u001b[43m[\u001b[49m\u001b[43my\u001b[49m\u001b[43m]\u001b[49m\u001b[43m,\u001b[49m\u001b[43m \u001b[49m\u001b[38;5;241;43m*\u001b[39;49m\u001b[43morbits\u001b[49m\u001b[43m[\u001b[49m\u001b[43mx\u001b[49m\u001b[43m \u001b[49m\u001b[38;5;241;43m+\u001b[39;49m\u001b[43m \u001b[49m\u001b[38;5;241;43m1\u001b[39;49m\u001b[43m \u001b[49m\u001b[43m:\u001b[49m\u001b[43m \u001b[49m\u001b[43my\u001b[49m\u001b[43m]\u001b[49m\u001b[43m,\u001b[49m\u001b[43m \u001b[49m\u001b[43morbits\u001b[49m\u001b[43m[\u001b[49m\u001b[43mx\u001b[49m\u001b[43m]\u001b[49m\u001b[43m,\u001b[49m\u001b[43m \u001b[49m\u001b[38;5;241;43m*\u001b[39;49m\u001b[43morbits\u001b[49m\u001b[43m[\u001b[49m\u001b[43my\u001b[49m\u001b[43m \u001b[49m\u001b[38;5;241;43m+\u001b[39;49m\u001b[43m \u001b[49m\u001b[38;5;241;43m1\u001b[39;49m\u001b[43m \u001b[49m\u001b[43m:\u001b[49m\u001b[43m]\u001b[49m\u001b[43m)\u001b[49m\n\u001b[1;32m    621\u001b[0m \u001b[43m    \u001b[49m\u001b[43m)\u001b[49m\n\u001b[1;32m    622\u001b[0m \u001b[38;5;28;01melif\u001b[39;00m y \u001b[38;5;241m-\u001b[39m x \u001b[38;5;241m==\u001b[39m \u001b[38;5;241m1\u001b[39m:\n\u001b[1;32m    623\u001b[0m     \u001b[38;5;66;03m# adjacent (any combo of ragged/rect)\u001b[39;00m\n\u001b[1;32m    624\u001b[0m     ys \u001b[38;5;241m=\u001b[39m shape[y]\u001b[38;5;241m.\u001b[39mcut(shape[x])\n",
      "File \u001b[0;32m~/dev/fold/fold/shape.py:79\u001b[0m, in \u001b[0;36mcanonicalize\u001b[0;34m(dims)\u001b[0m\n\u001b[1;32m     77\u001b[0m result: Tuple[Dim, \u001b[38;5;241m.\u001b[39m\u001b[38;5;241m.\u001b[39m\u001b[38;5;241m.\u001b[39m] \u001b[38;5;241m=\u001b[39m ()\n\u001b[1;32m     78\u001b[0m \u001b[38;5;28;01mfor\u001b[39;00m d \u001b[38;5;129;01min\u001b[39;00m dims:\n\u001b[0;32m---> 79\u001b[0m     d \u001b[38;5;241m=\u001b[39m \u001b[43md\u001b[49m\u001b[38;5;241;43m.\u001b[39;49m\u001b[43mlength_extend\u001b[49m\u001b[43m(\u001b[49m\u001b[43mn\u001b[49m\u001b[43m)\u001b[49m\n\u001b[1;32m     80\u001b[0m     result \u001b[38;5;241m=\u001b[39m (\u001b[38;5;241m*\u001b[39mresult, d)\n\u001b[1;32m     81\u001b[0m     n \u001b[38;5;241m=\u001b[39m d\u001b[38;5;241m.\u001b[39msum()\n",
      "File \u001b[0;32m~/dev/fold/fold/dim.py:217\u001b[0m, in \u001b[0;36mDim.length_extend\u001b[0;34m(self, n)\u001b[0m\n\u001b[1;32m    215\u001b[0m \u001b[38;5;28;01mif\u001b[39;00m n \u001b[38;5;241m%\u001b[39m self_len \u001b[38;5;241m!=\u001b[39m \u001b[38;5;241m0\u001b[39m:\n\u001b[1;32m    216\u001b[0m     msg \u001b[38;5;241m=\u001b[39m \u001b[38;5;124mf\u001b[39m\u001b[38;5;124m\"\u001b[39m\u001b[38;5;124mlength_extend: target length \u001b[39m\u001b[38;5;132;01m{\u001b[39;00mn\u001b[38;5;132;01m}\u001b[39;00m\u001b[38;5;124m not an even multiple of self length \u001b[39m\u001b[38;5;132;01m{\u001b[39;00mself_len\u001b[38;5;132;01m}\u001b[39;00m\u001b[38;5;124m\"\u001b[39m\n\u001b[0;32m--> 217\u001b[0m     \u001b[38;5;28;01mraise\u001b[39;00m \u001b[38;5;167;01mValueError\u001b[39;00m(msg)\n\u001b[1;32m    218\u001b[0m \u001b[38;5;28;01mreturn\u001b[39;00m \u001b[38;5;28mself\u001b[39m\u001b[38;5;241m.\u001b[39mrepeat(n \u001b[38;5;241m/\u001b[39m\u001b[38;5;241m/\u001b[39m self_len)\n",
      "\u001b[0;31mValueError\u001b[0m: length_extend: target length 5 not an even multiple of self length 3"
     ]
    }
   ],
   "source": [
    "# invalid rect/.../rect\n",
    "# ragged gap shape incompatible with new outer dim\n",
    "a = arange(3, [1, 2, 3], 5)\n",
    "print(a.shape)\n",
    "print(\"---\")\n",
    "print(a)\n",
    "print(\"---\")\n",
    "t = a.transpose(0, 2)"
   ]
  },
  {
   "cell_type": "code",
   "execution_count": null,
   "id": "f26a5635",
   "metadata": {},
   "outputs": [],
   "source": []
  }
 ],
 "metadata": {
  "kernelspec": {
   "display_name": "Python 3 (ipykernel)",
   "language": "python",
   "name": "python3"
  },
  "language_info": {
   "codemirror_mode": {
    "name": "ipython",
    "version": 3
   },
   "file_extension": ".py",
   "mimetype": "text/x-python",
   "name": "python",
   "nbconvert_exporter": "python",
   "pygments_lexer": "ipython3",
   "version": "3.9.12"
  }
 },
 "nbformat": 4,
 "nbformat_minor": 5
}
