{
  "nbformat": 4,
  "nbformat_minor": 0,
  "metadata": {
    "colab": {
      "provenance": [],
      "collapsed_sections": [
        "HebJY_bAC03d"
      ],
      "toc_visible": true,
      "include_colab_link": true
    },
    "kernelspec": {
      "name": "python3",
      "display_name": "Python 3"
    },
    "language_info": {
      "name": "python"
    }
  },
  "cells": [
    {
      "cell_type": "markdown",
      "metadata": {
        "id": "view-in-github",
        "colab_type": "text"
      },
      "source": [
        "<a href=\"https://colab.research.google.com/github/bhosmer/fold/blob/main/notebooks/fold_shapes.ipynb\" target=\"_parent\"><img src=\"https://colab.research.google.com/assets/colab-badge.svg\" alt=\"Open In Colab\"/></a>"
      ]
    },
    {
      "cell_type": "markdown",
      "source": [
        "### This notebook\n",
        "\n",
        "This is part of a series of notebooks that will give a high-level introduction to **fold**'s unified array model. It's part of the **fold** repo [here](https://github.com/bhosmer/fold). \n",
        "\n",
        "In this notebook we'll introduce **generalized shapes**. Later notebooks will move on to\n",
        "* advanced indexing\n",
        "* strided storage \n",
        "* ragged arrays\n",
        "* views\n",
        "* sparsity \n"
      ],
      "metadata": {
        "id": "HebJY_bAC03d"
      }
    },
    {
      "cell_type": "markdown",
      "source": [
        "### Colab setup"
      ],
      "metadata": {
        "id": "L6iXwJ4lJrqM"
      }
    },
    {
      "cell_type": "code",
      "execution_count": 1,
      "metadata": {
        "colab": {
          "base_uri": "https://localhost:8080/"
        },
        "id": "LuGWzopTfHfB",
        "outputId": "53408ce6-2ec0-436e-d7dc-bf36102f8a72"
      },
      "outputs": [
        {
          "output_type": "stream",
          "name": "stdout",
          "text": [
            "Cloning into 'fold'...\n",
            "remote: Enumerating objects: 20, done.\u001b[K\n",
            "remote: Counting objects: 100% (15/15), done.\u001b[K\n",
            "remote: Compressing objects: 100% (14/14), done.\u001b[K\n",
            "remote: Total 20 (delta 1), reused 12 (delta 0), pack-reused 5\u001b[K\n",
            "Unpacking objects: 100% (20/20), done.\n"
          ]
        }
      ],
      "source": [
        "!git clone https://github.com/bhosmer/fold.git\n",
        "import sys\n",
        "sys.path.insert(0,'/content/fold')"
      ]
    },
    {
      "cell_type": "code",
      "source": [
        "from fold import *"
      ],
      "metadata": {
        "id": "iHt5rDldgJs3"
      },
      "execution_count": 2,
      "outputs": []
    },
    {
      "cell_type": "markdown",
      "source": [
        "# Generalized shapes\n",
        "\n",
        "There are two reasons a fully capable multidimensional array model must be able to express array shapes other than (hyper)rectangles (TIL: [orthotopes](https://en.wiktionary.org/wiki/orthotope)): \n",
        "\n",
        "1. most immediately, many use cases involve \"ragged\" data, which will otherwise need to be padded (or stored in multiple arrays).\n",
        "2. more deeply, much of the internal infrastructure we seek to unify can be naturally expressed with nonrectangular arrays, avoiding a proliferation of bespoke data structures. \n",
        "\n",
        "Our goal is to _generalize_ the current shape abstraction, rather than replace it. Specifically, we'd like to satisfy the following constraints:\n",
        "\n",
        "* rectangular dimensions should be expressed as they are in the current abstraction: a positive integer specifies the _extent_ of the dimension.\n",
        "* every shape (rectangular or not) should be entirely described, as now, by a tuple of descriptors, one per dimension.\n",
        "* all dimensions (rectangular or not) should be described using a common set of desciptive components\n",
        "* array shapes should be free to mix rectangular and nonrectangular dimensions as needed, constrained only by generic well-formedness conditions across dimensions.\n",
        "\n",
        "**fold**'s shape data model satisfies these constraints via the following reformulation:\n",
        "1. each per-dimension descriptor in a shape tuple denotes not a unitary extent but a _sequence of extents_, one for each _position_ in that dimension.\n",
        "2. sequences can be _encoded_, using descriptors which capture different kinds of internal regularity.\n",
        "\n",
        "Thus rectangular dimensions are extremely regular (since they have the same extent at every position) and can be described with a _single value_. In the **fold** shape model, this value is interpreted as an encoding - a compressed representation - of a sequence. Other encodings are available to represent other kinds of sequences, up to and including fully enumerated lists of extents.\n",
        "\n",
        "What follows is a survey of some array shapes expressible in **fold** - not an exhaustive catalog, but a handful of examples to build intuition and spur ideas. \n",
        "\n",
        "For now, the best way to dive deeper is to look at the [implementations](https://github.com/bhosmer/fold/blob/main/fold/dim.py) and [tests](https://github.com/bhosmer/fold/blob/main/test/test_dim.py).)"
      ],
      "metadata": {
        "id": "MRHy7_5IRHSn"
      }
    },
    {
      "cell_type": "markdown",
      "source": [
        "## Rectangular dimensions\n",
        "\n",
        "Rectangular dimensions are the most regular of all - they're defined as having the same extent at every position. Accordingly, rectangular dimensions can be described as usual with single values, as in this 4-by-4 matrix:"
      ],
      "metadata": {
        "id": "pGOOyEO3wSv8"
      }
    },
    {
      "cell_type": "code",
      "source": [
        "# rand() generates a randomized array of a given shape and optional dtype\n",
        "mat = rand(4, 4)\n",
        "print(mat)\n",
        "print()\n",
        "print(mat.shape)"
      ],
      "metadata": {
        "colab": {
          "base_uri": "https://localhost:8080/"
        },
        "id": "730OJQ0AYngV",
        "outputId": "fd020404-9536-43af-f0ac-91a366203727"
      },
      "execution_count": 3,
      "outputs": [
        {
          "output_type": "stream",
          "name": "stdout",
          "text": [
            "[[0.7607, 0.4060, 0.7831, 0.4426],\n",
            " [0.4571, 0.1512, 0.7671, 0.0574],\n",
            " [0.2272, 0.7540, 0.4080, 0.5127],\n",
            " [0.4221, 0.6482, 0.2364, 0.5511]]\n",
            "\n",
            "(4, 4)\n"
          ]
        }
      ]
    },
    {
      "cell_type": "markdown",
      "source": [
        "Aside: the shift in perspective from _extent_ to _extent sequence_ becomes more concrete if we look at **fold**'s internal representation, which caches dimension _lengths_:"
      ],
      "metadata": {
        "id": "TA8FpRX1NyUp"
      }
    },
    {
      "cell_type": "code",
      "source": [
        "print(repr(mat.shape))"
      ],
      "metadata": {
        "colab": {
          "base_uri": "https://localhost:8080/"
        },
        "id": "2o87CNyKOHaa",
        "outputId": "37834cdf-5be8-435d-dfb4-7bdf80003e4d"
      },
      "execution_count": 4,
      "outputs": [
        {
          "output_type": "stream",
          "name": "stdout",
          "text": [
            "Shape(dims=(Rect(w=4, n=1), Rect(w=4, n=4)))\n"
          ]
        }
      ]
    },
    {
      "cell_type": "markdown",
      "source": [
        "We won't dwell on the implications here, but it's worth taking a moment to think about this interpretation, latent in all shape metadata. \n",
        "\n",
        "What `(4, 4)` actually tells us is:\n",
        "* this array is (a single value) made up of 4 rows\n",
        "* each of the 4 rows contains 4 columns.\n",
        "\n",
        "The beauty of the standard shape model for rectangular arrays is that it completely elides the tree-flavored semantics implied by this interpretation, allowing shapes to be manipulated much more freely as descriptions of _spaces_ made up of orthogonal dimensions.\n",
        "\n",
        "Nonrectangularity forces a certain amount of tree-like character back to the surface, but in the form of coherence constraints between dimensions, rather than explicit nesting in the shape model. This is key. \n",
        "\n",
        "(End of aside.)"
      ],
      "metadata": {
        "id": "OgKEYm4RrioQ"
      }
    },
    {
      "cell_type": "markdown",
      "source": [
        "## Ragged dimensions\n",
        "\n",
        "At the other extreme, _entirely_ ragged dimensions (i.e., dimensions whose extents have no internal regularity) are \"incompressible\" and must be enumerated. \n",
        "\n",
        "Here we create a ragged 2D array with 8 rows of varying width:"
      ],
      "metadata": {
        "id": "ZjCmkegDfHeW"
      }
    },
    {
      "cell_type": "code",
      "source": [
        "ragged = rand(8, [7, 11, 5, 6, 10, 3, 0, 1])\n",
        "print(ragged)\n",
        "print()\n",
        "print(ragged.shape)"
      ],
      "metadata": {
        "colab": {
          "base_uri": "https://localhost:8080/"
        },
        "id": "oOEMurfDfCR3",
        "outputId": "5badbf9b-080f-4816-c086-b7af577e5443"
      },
      "execution_count": 5,
      "outputs": [
        {
          "output_type": "stream",
          "name": "stdout",
          "text": [
            "[[0.6499, 0.3736, 0.4192, 0.0375, 0.5094, 0.5547, 0.6376],\n",
            " [0.3319, 0.7465, 0.2317, 0.9845, 0.5598, 0.4236, 0.4585, 0.9895, 0.9825, 0.1505, 0.5073],\n",
            " [0.5372, 0.8105, 0.2062, 0.4819, 0.2162],\n",
            " [0.4667, 0.3428, 0.5437, 0.6038, 0.1505, 0.1989],\n",
            " [0.6116, 0.9520, 0.8587, 0.1512, 0.2081, 0.0498, 0.1088, 0.8528, 0.5375, 0.0720],\n",
            " [0.8279, 0.5920, 0.3185],\n",
            " [],\n",
            " [0.3127]]\n",
            "\n",
            "(8, [7, 11, 5, 6, 10, 3, 0, 1])\n"
          ]
        }
      ]
    },
    {
      "cell_type": "markdown",
      "source": [
        "Here the shift in perspective from unitary extents to extent _sequences_ becomes obvious. \n",
        "\n",
        "Aside: an important property of **fold**'s generalized shapes is that each entry in a shape tuple is a _complete linear description_ of that dimension: there is no nesting. For example, note the resulting shapes when we split our ragged 2D array into first even, then uneven batches:"
      ],
      "metadata": {
        "id": "nhK0wnsLQK17"
      }
    },
    {
      "cell_type": "code",
      "source": [
        "print(\"even batches:\")\n",
        "ragged3d_even = ragged.reshape(4, 2, ragged.shape[-1])\n",
        "print(ragged3d_even)\n",
        "print()\n",
        "print(ragged3d_even.shape)\n",
        "\n",
        "print(\"\\nuneven batches:\")\n",
        "ragged3d_uneven = ragged.reshape(4, [2, 1, 2, 3], ragged.shape[-1])\n",
        "print(ragged3d_uneven)\n",
        "print()\n",
        "print(ragged3d_uneven.shape)"
      ],
      "metadata": {
        "colab": {
          "base_uri": "https://localhost:8080/"
        },
        "id": "Nv2TWBB-RH2f",
        "outputId": "3e77c448-7dad-4957-f085-dbb5d1f86894"
      },
      "execution_count": 6,
      "outputs": [
        {
          "output_type": "stream",
          "name": "stdout",
          "text": [
            "even batches:\n",
            "[[[0.6499, 0.3736, 0.4192, 0.0375, 0.5094, 0.5547, 0.6376],\n",
            "  [0.3319, 0.7465, 0.2317, 0.9845, 0.5598, 0.4236, 0.4585, 0.9895, 0.9825, 0.1505, 0.5073]],\n",
            "\n",
            " [[0.5372, 0.8105, 0.2062, 0.4819, 0.2162],\n",
            "  [0.4667, 0.3428, 0.5437, 0.6038, 0.1505, 0.1989]],\n",
            "\n",
            " [[0.6116, 0.9520, 0.8587, 0.1512, 0.2081, 0.0498, 0.1088, 0.8528, 0.5375, 0.0720],\n",
            "  [0.8279, 0.5920, 0.3185]],\n",
            "\n",
            " [[],\n",
            "  [0.3127]]]\n",
            "\n",
            "(4, 2, [7, 11, 5, 6, 10, 3, 0, 1])\n",
            "\n",
            "uneven batches:\n",
            "[[[0.6499, 0.3736, 0.4192, 0.0375, 0.5094, 0.5547, 0.6376],\n",
            "  [0.3319, 0.7465, 0.2317, 0.9845, 0.5598, 0.4236, 0.4585, 0.9895, 0.9825, 0.1505, 0.5073]],\n",
            "\n",
            " [[0.5372, 0.8105, 0.2062, 0.4819, 0.2162]],\n",
            "\n",
            " [[0.4667, 0.3428, 0.5437, 0.6038, 0.1505, 0.1989],\n",
            "  [0.6116, 0.9520, 0.8587, 0.1512, 0.2081, 0.0498, 0.1088, 0.8528, 0.5375, 0.0720]],\n",
            "\n",
            " [[0.8279, 0.5920, 0.3185],\n",
            "  [],\n",
            "  [0.3127]]]\n",
            "\n",
            "(4, [2, 1, 2, 3], [7, 11, 5, 6, 10, 3, 0, 1])\n"
          ]
        }
      ]
    },
    {
      "cell_type": "markdown",
      "source": [
        "## Capturing regularity\n",
        "\n",
        "In between these two extremes, **fold** defines an assortment of descriptors that capture different kinds of regularity, including:\n",
        "\n",
        "- a constant rate of change (i.e., affinity)\n",
        "- repetition of extents and extent sequences\n",
        "- sparsity\n",
        "- composition\n",
        "\n",
        "Here's a high-level overview of `Dim` ADT, as represented by their descriptors:\n",
        "```\n",
        "Dim ::= Seq | Rect | Affine | Repeat | Runs | Sparse | Chain\n",
        "Seq ::= List[Nat]       // sequence of extents (uncompressed)\n",
        "Rect ::= Nat | (Nat, Nat)    // extent or (extent, length) \n",
        "Affine ::= (Nat, Nat, Int)   // initial extent, length, step size\n",
        "Repeat ::= (Dim, Nat)        // Dim, number of reps\n",
        "Runs ::= (Dim, Dim)          // extents, reps per extent (equal length)\n",
        "Sparse ::= Map[Nat, Nat]     // map from offsets to extents\n",
        "Chain ::= List[Dim]          // sequence of Dims\n",
        "```\n",
        "\n",
        "A full exploration of fold's dimension data model is out of scope for this introduction, but here are a few more examples to build intuition and spur ideas. \n",
        "\n",
        "(For now, the best way to dive deeper is to look at the [implementations](https://github.com/bhosmer/fold/blob/main/fold/dim.py) and [tests](https://github.com/bhosmer/fold/blob/main/test/test_dim.py).)\n",
        "\n"
      ],
      "metadata": {
        "id": "MDv33CrAe3of"
      }
    },
    {
      "cell_type": "markdown",
      "source": [
        "## Affine dimensions\n",
        "\n",
        "Where a **Rectangular** dimension is defined by a constant extent across its sequence of positions, an **Affine** dimension is defined by an initial extent which then changes at a constant _rate_ across its sequence of positions.\n",
        "\n",
        "As shown in our examples so far, **fold** uses Python literals as dimension descriptors in factory APIs and prints, translating them to and from [strongly-typed internal representations](https://github.com/bhosmer/fold/blob/main/fold/dim.py). \n",
        "\n",
        "We've seen rectangular dimensions described by single integers, and ragged dimensions described by integer lists. **Affine** dimensions are described by int triples `(start, length, step)`. For example, \n",
        "* `(1, 5, 1)` denotes the sequence `[1, 2, 3, 4, 5]`\n",
        "* `(5, 5, -1)` denotes the sequence `[5, 4, 3, 2, 1]`\n",
        "\n",
        "A typical use case for Affine dimensions is in describing triangular shapes:"
      ],
      "metadata": {
        "id": "wgS6sWtHxtt8"
      }
    },
    {
      "cell_type": "code",
      "source": [
        "print(\"lower triangle:\")\n",
        "tril = rand(5, (1, 5, 1))\n",
        "print()\n",
        "print(tril)\n",
        "print()\n",
        "print(tril.shape)\n",
        "\n",
        "print(\"\\nupper triangle:\")\n",
        "triu = rand(5, (5, 5, -1))\n",
        "print()\n",
        "print(triu)\n",
        "print()\n",
        "print(triu.shape)"
      ],
      "metadata": {
        "colab": {
          "base_uri": "https://localhost:8080/"
        },
        "id": "lV0idXZ5nwqK",
        "outputId": "6f8ada06-3491-49a0-87d8-579427a3162a"
      },
      "execution_count": 7,
      "outputs": [
        {
          "output_type": "stream",
          "name": "stdout",
          "text": [
            "lower triangle:\n",
            "\n",
            "[[0.5005],\n",
            " [0.0492, 0.3665],\n",
            " [0.1135, 0.8439, 0.3467],\n",
            " [0.1413, 0.2974, 0.4344, 0.6402],\n",
            " [0.7822, 0.3771, 0.0618, 0.7209, 0.3603]]\n",
            "\n",
            "(5, (1, 5, 1))\n",
            "\n",
            "upper triangle:\n",
            "\n",
            "[[0.4887, 0.5401, 0.6735, 0.0336, 0.5833],\n",
            " [0.0423, 0.5661, 0.2924, 0.4563],\n",
            " [0.5096, 0.3490, 0.4387],\n",
            " [0.0048, 0.5848],\n",
            " [0.8848]]\n",
            "\n",
            "(5, (5, 5, -1))\n"
          ]
        }
      ]
    },
    {
      "cell_type": "markdown",
      "source": [
        "## Repetition\n",
        "\n",
        "Dimension descriptors also can be combined, to capture compound regularity - for example, here we repeat a 2-dimensional lower triangle over a third dimension.\n",
        "\n",
        "Note our use of _implicit repetition in shape construction_ here: a dimension given to a shape constructor is automatically repeated until it fills the space created by its outward dimensions (but the repetition must be an even multiple). Compare the inner dimension descriptor passed to `rand()` with the corresponding descriptor printed in `trils.shape`. "
      ],
      "metadata": {
        "id": "o7HQ_raL9zI0"
      }
    },
    {
      "cell_type": "code",
      "source": [
        "print(\"stack of lower triangles:\")\n",
        "trils = rand(3, 5, (1, 5, 1))\n",
        "print()\n",
        "print(trils)\n",
        "print()\n",
        "print(trils.shape)"
      ],
      "metadata": {
        "colab": {
          "base_uri": "https://localhost:8080/"
        },
        "id": "dZ_0P8T3A7gH",
        "outputId": "c347fd0d-c40f-413d-b3d3-0c64dac37c52"
      },
      "execution_count": 8,
      "outputs": [
        {
          "output_type": "stream",
          "name": "stdout",
          "text": [
            "stack of lower triangles:\n",
            "\n",
            "[[[0.6579],\n",
            "  [0.2794, 0.6838],\n",
            "  [0.4275, 0.2834, 0.1974],\n",
            "  [0.3202, 0.9427, 0.4792, 0.5836],\n",
            "  [0.5526, 0.3051, 0.7195, 0.0184, 0.4668]],\n",
            "\n",
            " [[0.4050],\n",
            "  [0.4398, 0.6663],\n",
            "  [0.6044, 0.6794, 0.6114],\n",
            "  [0.6520, 0.3872, 0.4233, 0.5883],\n",
            "  [0.1278, 0.4867, 0.0876, 0.1873, 0.7618]],\n",
            "\n",
            " [[0.2666],\n",
            "  [0.5676, 0.5466],\n",
            "  [0.2310, 0.3801, 0.9611],\n",
            "  [0.5146, 0.3636, 0.4190, 0.0999],\n",
            "  [0.3782, 0.0109, 0.2689, 0.3419, 0.8178]]]\n",
            "\n",
            "(3, 5, ((1, 5, 1), 3))\n"
          ]
        }
      ]
    },
    {
      "cell_type": "markdown",
      "source": [
        "The standard shape transforms also work* - for example here we use `reshape` to collapse the outer two dimensions of `trils` above, producing a 2-dimensional array whose inner dimension has internal repetition.\n",
        "\n",
        "_*where they make sense - it's out of scope for this introduction, but some operations don't have canonical generalizations to all nonrectangular shapes, e.g. permute._"
      ],
      "metadata": {
        "id": "G-fSJbKnDOuy"
      }
    },
    {
      "cell_type": "code",
      "source": [
        "print(\"2D array with lower triangular fringe:\")\n",
        "flat_trils = trils.reshape(-1, (1, 5, 1))\n",
        "print()\n",
        "print(flat_trils)\n",
        "print()\n",
        "print(flat_trils.shape)"
      ],
      "metadata": {
        "colab": {
          "base_uri": "https://localhost:8080/"
        },
        "id": "4DyhS0vADexx",
        "outputId": "f3199c8d-9b40-4a12-fb79-2653ab1c0bc4"
      },
      "execution_count": 9,
      "outputs": [
        {
          "output_type": "stream",
          "name": "stdout",
          "text": [
            "2D array with lower triangular fringe:\n",
            "\n",
            "[[0.6579],\n",
            " [0.2794, 0.6838],\n",
            " [0.4275, 0.2834, 0.1974],\n",
            " [0.3202, 0.9427, 0.4792, 0.5836],\n",
            " [0.5526, 0.3051, 0.7195, 0.0184, 0.4668],\n",
            " [0.4050],\n",
            " [0.4398, 0.6663],\n",
            " [0.6044, 0.6794, 0.6114],\n",
            " [0.6520, 0.3872, 0.4233, 0.5883],\n",
            " [0.1278, 0.4867, 0.0876, 0.1873, 0.7618],\n",
            " [0.2666],\n",
            " [0.5676, 0.5466],\n",
            " [0.2310, 0.3801, 0.9611],\n",
            " [0.5146, 0.3636, 0.4190, 0.0999],\n",
            " [0.3782, 0.0109, 0.2689, 0.3419, 0.8178]]\n",
            "\n",
            "(15, ((1, 5, 1), 3))\n"
          ]
        }
      ]
    },
    {
      "cell_type": "markdown",
      "source": [
        "## Expansion\n",
        "\n",
        "Here we expand one of our 2D triangles into a new rectangular inner dimension:"
      ],
      "metadata": {
        "id": "415jKJicGvrk"
      }
    },
    {
      "cell_type": "code",
      "source": [
        "print(\"original 2d tril:\")\n",
        "print()\n",
        "print(tril)\n",
        "print()\n",
        "print(tril.shape)\n",
        "\n",
        "print(\"\\n...expanded:\")\n",
        "tril3 = tril.unsqueeze(-1).expand(-1, -1, 5)\n",
        "print()\n",
        "print(tril3)\n",
        "print()\n",
        "print(tril3.shape)"
      ],
      "metadata": {
        "colab": {
          "base_uri": "https://localhost:8080/"
        },
        "id": "wiL9ld69H0BL",
        "outputId": "40fa4f43-c5ff-41f5-e5e5-37130c0e2c84"
      },
      "execution_count": 10,
      "outputs": [
        {
          "output_type": "stream",
          "name": "stdout",
          "text": [
            "original 2d tril:\n",
            "\n",
            "[[0.5005],\n",
            " [0.0492, 0.3665],\n",
            " [0.1135, 0.8439, 0.3467],\n",
            " [0.1413, 0.2974, 0.4344, 0.6402],\n",
            " [0.7822, 0.3771, 0.0618, 0.7209, 0.3603]]\n",
            "\n",
            "(5, (1, 5, 1))\n",
            "\n",
            "...expanded:\n",
            "\n",
            "[[[0.5005, 0.5005, 0.5005, 0.5005, 0.5005]],\n",
            "\n",
            " [[0.0492, 0.0492, 0.0492, 0.0492, 0.0492],\n",
            "  [0.3665, 0.3665, 0.3665, 0.3665, 0.3665]],\n",
            "\n",
            " [[0.1135, 0.1135, 0.1135, 0.1135, 0.1135],\n",
            "  [0.8439, 0.8439, 0.8439, 0.8439, 0.8439],\n",
            "  [0.3467, 0.3467, 0.3467, 0.3467, 0.3467]],\n",
            "\n",
            " [[0.1413, 0.1413, 0.1413, 0.1413, 0.1413],\n",
            "  [0.2974, 0.2974, 0.2974, 0.2974, 0.2974],\n",
            "  [0.4344, 0.4344, 0.4344, 0.4344, 0.4344],\n",
            "  [0.6402, 0.6402, 0.6402, 0.6402, 0.6402]],\n",
            "\n",
            " [[0.7822, 0.7822, 0.7822, 0.7822, 0.7822],\n",
            "  [0.3771, 0.3771, 0.3771, 0.3771, 0.3771],\n",
            "  [0.0618, 0.0618, 0.0618, 0.0618, 0.0618],\n",
            "  [0.7209, 0.7209, 0.7209, 0.7209, 0.7209],\n",
            "  [0.3603, 0.3603, 0.3603, 0.3603, 0.3603]]]\n",
            "\n",
            "(5, (1, 5, 1), 5)\n"
          ]
        }
      ]
    },
    {
      "cell_type": "markdown",
      "source": [
        "Here we instead expand into a nonrectangular inner dimension, defined using the `Runs` descriptor above:"
      ],
      "metadata": {
        "id": "demA9oarIbYO"
      }
    },
    {
      "cell_type": "code",
      "source": [
        "print(\"\\n...expanded into nonrectangular inner dimension:\")\n",
        "\n",
        "INNER = ((1, 5, 1), (1, 5, 1))\n",
        "print(f\"INNER descriptor {INNER}\")\n",
        "print(f\"INNER expansion {[n for n in dim(INNER)]}\")\n",
        "\n",
        "tril3 = tril.unsqueeze(-1).expand(-1, -1, INNER)\n",
        "print()\n",
        "print(tril3)\n",
        "print()\n",
        "print(tril3.shape)"
      ],
      "metadata": {
        "colab": {
          "base_uri": "https://localhost:8080/"
        },
        "id": "2MKhkd03Iotq",
        "outputId": "7622bbb6-4687-4961-c324-5d57f3d0e7e9"
      },
      "execution_count": 11,
      "outputs": [
        {
          "output_type": "stream",
          "name": "stdout",
          "text": [
            "\n",
            "...expanded into nonrectangular inner dimension:\n",
            "INNER descriptor ((1, 5, 1), (1, 5, 1))\n",
            "INNER expansion [1, 2, 2, 3, 3, 3, 4, 4, 4, 4, 5, 5, 5, 5, 5]\n",
            "\n",
            "[[[0.5005]],\n",
            "\n",
            " [[0.0492, 0.0492],\n",
            "  [0.3665, 0.3665]],\n",
            "\n",
            " [[0.1135, 0.1135, 0.1135],\n",
            "  [0.8439, 0.8439, 0.8439],\n",
            "  [0.3467, 0.3467, 0.3467]],\n",
            "\n",
            " [[0.1413, 0.1413, 0.1413, 0.1413],\n",
            "  [0.2974, 0.2974, 0.2974, 0.2974],\n",
            "  [0.4344, 0.4344, 0.4344, 0.4344],\n",
            "  [0.6402, 0.6402, 0.6402, 0.6402]],\n",
            "\n",
            " [[0.7822, 0.7822, 0.7822, 0.7822, 0.7822],\n",
            "  [0.3771, 0.3771, 0.3771, 0.3771, 0.3771],\n",
            "  [0.0618, 0.0618, 0.0618, 0.0618, 0.0618],\n",
            "  [0.7209, 0.7209, 0.7209, 0.7209, 0.7209],\n",
            "  [0.3603, 0.3603, 0.3603, 0.3603, 0.3603]]]\n",
            "\n",
            "(5, (1, 5, 1), ((1, 5, 1), (1, 5, 1)))\n"
          ]
        }
      ]
    },
    {
      "cell_type": "markdown",
      "source": [
        "## Other examples\n",
        "\n",
        "**Common-width, equal-size batches**: each batch contains the same quantity of items; all items within a batch share a common width. \n",
        "\n",
        "Note our use of the `Runs` encoding described above."
      ],
      "metadata": {
        "id": "PqUmZMjU8DoI"
      }
    },
    {
      "cell_type": "code",
      "source": [
        "NUM_BATCHES = 3\n",
        "BATCH_SIZE = 4\n",
        "BATCH_WIDTHS = [5, 7, 3]\n",
        "\n",
        "SEQUENCE_LENGTHS = (BATCH_WIDTHS, (BATCH_SIZE, NUM_BATCHES))\n",
        "print(f\"SEQUENCE_LENGTHS descriptor {SEQUENCE_LENGTHS}\")\n",
        "print(f\"SEQUENCE_LENGTHS internal {repr(dim(SEQUENCE_LENGTHS))}\")\n",
        "print(f\"SEQUENCE_LENGTHS expansion {[n for n in dim(SEQUENCE_LENGTHS)]}\")\n",
        "\n",
        "t = rand(NUM_BATCHES, BATCH_SIZE, SEQUENCE_LENGTHS)\n",
        "print()\n",
        "print(t)\n",
        "print()\n",
        "print(t.shape)"
      ],
      "metadata": {
        "colab": {
          "base_uri": "https://localhost:8080/"
        },
        "id": "SZc9t2Pooe1J",
        "outputId": "8dd2e13e-8ba1-4270-afa1-f8f9c50f153a"
      },
      "execution_count": 12,
      "outputs": [
        {
          "output_type": "stream",
          "name": "stdout",
          "text": [
            "SEQUENCE_LENGTHS descriptor ([5, 7, 3], (4, 3))\n",
            "SEQUENCE_LENGTHS internal Runs(vals=Seq(offs=[0, 5, 12, 15]), reps=Rect(w=4, n=3))\n",
            "SEQUENCE_LENGTHS expansion [5, 5, 5, 5, 7, 7, 7, 7, 3, 3, 3, 3]\n",
            "\n",
            "[[[0.4139, 0.8632, 0.3629, 0.0277, 0.2755],\n",
            "  [0.2566, 0.6736, 0.7702, 0.5568, 0.4502],\n",
            "  [0.9248, 0.3641, 0.3990, 0.1835, 0.9283],\n",
            "  [0.6119, 0.9373, 0.3817, 0.3536, 0.9559]],\n",
            "\n",
            " [[0.1551, 0.3135, 0.2931, 0.2317, 0.4130, 0.8142, 0.6612],\n",
            "  [0.8336, 0.5592, 0.7605, 0.5804, 0.7483, 0.0095, 0.8250],\n",
            "  [0.5170, 0.4770, 0.1149, 0.4263, 0.1730, 0.4689, 0.6499],\n",
            "  [0.6944, 0.9344, 0.8651, 0.6143, 0.4508, 0.9232, 0.2636]],\n",
            "\n",
            " [[0.2530, 0.8622, 0.2153],\n",
            "  [0.3563, 0.2013, 0.9023],\n",
            "  [0.7885, 0.6264, 0.7460],\n",
            "  [0.3812, 0.2806, 0.7643]]]\n",
            "\n",
            "(3, 4, ([5, 7, 3], (4, 3)))\n"
          ]
        }
      ]
    },
    {
      "cell_type": "markdown",
      "source": [
        "**Common-width, unequal-size batches**: batches contain different quantities of items; all items within a batch share a common width, again making use of `Runs`."
      ],
      "metadata": {
        "id": "snWmNLvv_J0_"
      }
    },
    {
      "cell_type": "code",
      "source": [
        "NUM_BATCHES = 3\n",
        "BATCH_SIZES = [5, 3, 4]\n",
        "BATCH_WIDTHS = [5, 7, 3]\n",
        "\n",
        "SEQUENCE_LENGTHS = (BATCH_WIDTHS, BATCH_SIZES)\n",
        "print(f\"SEQUENCE_LENGTHS descriptor {SEQUENCE_LENGTHS}\")\n",
        "print(f\"SEQUENCE_LENGTHS internal {repr(dim(SEQUENCE_LENGTHS))}\")\n",
        "print(f\"SEQUENCE_LENGTHS expansion {[n for n in dim(SEQUENCE_LENGTHS)]}\")\n",
        "\n",
        "t = rand(NUM_BATCHES, BATCH_SIZES, SEQUENCE_LENGTHS)\n",
        "print()\n",
        "print(t)\n",
        "print()\n",
        "print(t.shape)"
      ],
      "metadata": {
        "colab": {
          "base_uri": "https://localhost:8080/"
        },
        "outputId": "62326e7c-fb65-4956-f22e-698038d72e1a",
        "id": "oIS3j4Qn_J0_"
      },
      "execution_count": 13,
      "outputs": [
        {
          "output_type": "stream",
          "name": "stdout",
          "text": [
            "SEQUENCE_LENGTHS descriptor ([5, 7, 3], [5, 3, 4])\n",
            "SEQUENCE_LENGTHS internal Runs(vals=Seq(offs=[0, 5, 12, 15]), reps=Seq(offs=[0, 5, 8, 12]))\n",
            "SEQUENCE_LENGTHS expansion [5, 5, 5, 5, 5, 7, 7, 7, 3, 3, 3, 3]\n",
            "\n",
            "[[[0.4542, 0.2290, 0.1632, 0.9855, 0.9956],\n",
            "  [0.0803, 0.6060, 0.3532, 0.4492, 0.5224],\n",
            "  [0.3214, 0.2364, 0.7230, 0.3295, 0.9729],\n",
            "  [0.1219, 0.5274, 0.7844, 0.3037, 0.8317],\n",
            "  [0.2985, 0.2986, 0.0088, 0.1138, 0.8097]],\n",
            "\n",
            " [[0.5940, 0.4876, 0.1535, 0.8721, 0.9498, 0.0196, 0.8803],\n",
            "  [0.2752, 0.7718, 0.9046, 0.2694, 0.0978, 0.5218, 0.0906],\n",
            "  [0.9402, 0.1004, 0.1986, 0.2537, 0.6221, 0.4900, 0.5233]],\n",
            "\n",
            " [[0.2901, 0.2333, 0.1007],\n",
            "  [0.3480, 0.0518, 0.3684],\n",
            "  [0.6850, 0.0165, 0.9710],\n",
            "  [0.6694, 0.4620, 0.7515]]]\n",
            "\n",
            "(3, [5, 3, 4], ([5, 7, 3], [5, 3, 4]))\n"
          ]
        }
      ]
    },
    {
      "cell_type": "code",
      "source": [],
      "metadata": {
        "id": "Pa8FV-nDCl9F"
      },
      "execution_count": 13,
      "outputs": []
    }
  ]
}