{
 "cells": [
  {
   "cell_type": "code",
   "execution_count": 1,
   "id": "cad620d1",
   "metadata": {},
   "outputs": [],
   "source": [
    "from fold import *"
   ]
  },
  {
   "cell_type": "markdown",
   "id": "92674dc4",
   "metadata": {},
   "source": [
    "## Transposing ragged arrays\n",
    "\n",
    "When an array is transposed, two of its dimensions are swapped, reordering the elements of the array and modifying its shape. \n",
    "\n",
    "### Rectangular transpose refresher\n",
    "\n",
    "Recall that to transpose a rectangular array, we swap the transposed dimensions and redistribute the elements accordingly. For example:"
   ]
  },
  {
   "cell_type": "code",
   "execution_count": 2,
   "id": "48d4276c",
   "metadata": {},
   "outputs": [
    {
     "name": "stdout",
     "output_type": "stream",
     "text": [
      "Array of 3 rows of 4 columns each:\n",
      "Shape: (3, 4)\n",
      "Values:\n",
      "[[ 0,  1,  2,  3],\n",
      " [ 4,  5,  6,  7],\n",
      " [ 8,  9, 10, 11]]\n",
      "\n",
      "Dimensions 0 and 1 transposed (rows and columns swapped):\n",
      "Shape (4, 3)\n",
      "Values:\n",
      "[[ 0,  4,  8],\n",
      " [ 1,  5,  9],\n",
      " [ 2,  6, 10],\n",
      " [ 3,  7, 11]]\n"
     ]
    }
   ],
   "source": [
    "print(\"Array of 3 rows of 4 columns each:\")\n",
    "a = arange(3, 4)\n",
    "print(\"Shape:\", a.shape)\n",
    "print(\"Values:\")\n",
    "print(a)\n",
    "print(\"\\nDimensions 0 and 1 transposed (rows and columns swapped):\")\n",
    "t = a.transpose(0, 1)\n",
    "print(\"Shape\", t.shape)\n",
    "print(\"Values:\")\n",
    "print(t)\n"
   ]
  },
  {
   "cell_type": "markdown",
   "id": "2e90e934",
   "metadata": {},
   "source": [
    "At higher dimensions, transposition can be harder to visualize but operates in exactly the same way. For example, given a 3-dimensional array of 2 sheets, each with 3 rows of 4 columns:"
   ]
  },
  {
   "cell_type": "code",
   "execution_count": 3,
   "metadata": {},
   "outputs": [
    {
     "name": "stdout",
     "output_type": "stream",
     "text": [
      "Shape: (2, 3, 4)\n",
      "Values:\n",
      "[[[ 0,  1,  2,  3],\n",
      "  [ 4,  5,  6,  7],\n",
      "  [ 8,  9, 10, 11]],\n",
      "\n",
      " [[12, 13, 14, 15],\n",
      "  [16, 17, 18, 19],\n",
      "  [20, 21, 22, 23]]]\n"
     ]
    }
   ],
   "source": [
    "a = arange(2, 3, 4)\n",
    "print(\"Shape:\", a.shape)\n",
    "print(\"Values:\")\n",
    "print(a)"
   ]
  },
  {
   "cell_type": "markdown",
   "id": "4de69679",
   "metadata": {},
   "source": [
    "Transposing dimensions 1 and 2 will swap rows and columns within each sheet:"
   ]
  },
  {
   "cell_type": "code",
   "execution_count": 4,
   "id": "c60555b3",
   "metadata": {},
   "outputs": [
    {
     "name": "stdout",
     "output_type": "stream",
     "text": [
      "Shape: (2, 4, 3)\n",
      "Values:\n",
      "[[[ 0,  4,  8],\n",
      "  [ 1,  5,  9],\n",
      "  [ 2,  6, 10],\n",
      "  [ 3,  7, 11]],\n",
      "\n",
      " [[12, 16, 20],\n",
      "  [13, 17, 21],\n",
      "  [14, 18, 22],\n",
      "  [15, 19, 23]]]\n"
     ]
    }
   ],
   "source": [
    "t = a.transpose(1, 2)\n",
    "print(\"Shape:\", t.shape)\n",
    "print(\"Values:\")\n",
    "print(t)"
   ]
  },
  {
   "cell_type": "markdown",
   "id": "a3322496",
   "metadata": {},
   "source": [
    "Transposing dimensions 0 and 1 will swap sheets and rows - sheet _i_ of the transposed array will contain all rows _i_ from the original:"
   ]
  },
  {
   "cell_type": "code",
   "execution_count": 5,
   "id": "32d21385",
   "metadata": {},
   "outputs": [
    {
     "name": "stdout",
     "output_type": "stream",
     "text": [
      "Shape: (3, 2, 4)\n",
      "Values:\n",
      "[[[ 0,  1,  2,  3],\n",
      "  [12, 13, 14, 15]],\n",
      "\n",
      " [[ 4,  5,  6,  7],\n",
      "  [16, 17, 18, 19]],\n",
      "\n",
      " [[ 8,  9, 10, 11],\n",
      "  [20, 21, 22, 23]]]\n"
     ]
    }
   ],
   "source": [
    "t = a.transpose(0, 1)\n",
    "print(\"Shape:\", t.shape)\n",
    "print(\"Values:\")\n",
    "print(t)"
   ]
  },
  {
   "cell_type": "markdown",
   "id": "076617fd",
   "metadata": {},
   "source": [
    "Transposing dimensions 0 and 2 will swap sheets and columns - sheet _i_ of the transposed array will contain all columns _i_ from the original:"
   ]
  },
  {
   "cell_type": "code",
   "execution_count": 6,
   "id": "0f9d58d3",
   "metadata": {},
   "outputs": [
    {
     "name": "stdout",
     "output_type": "stream",
     "text": [
      "Shape: (4, 3, 2)\n",
      "Values:\n",
      "[[[ 0, 12],\n",
      "  [ 4, 16],\n",
      "  [ 8, 20]],\n",
      "\n",
      " [[ 1, 13],\n",
      "  [ 5, 17],\n",
      "  [ 9, 21]],\n",
      "\n",
      " [[ 2, 14],\n",
      "  [ 6, 18],\n",
      "  [10, 22]],\n",
      "\n",
      " [[ 3, 15],\n",
      "  [ 7, 19],\n",
      "  [11, 23]]]\n"
     ]
    }
   ],
   "source": [
    "t = a.transpose(0, 2)\n",
    "print(\"Shape:\", t.shape)\n",
    "print(\"Values:\")\n",
    "print(t)"
   ]
  },
  {
   "cell_type": "markdown",
   "id": "f6110a04",
   "metadata": {},
   "source": [
    "## Generalizing transposition to ragged arrays\n",
    "\n",
    "What does it mean to transpose a ragged array? \n",
    "\n",
    "We can begin by noting that since rectangular arrays are a special subset of ragged arrays, our definition must agree exactly with the standard one on this subset (as shown above). \n",
    "\n",
    "### Transposition Invariants\n",
    "\n",
    "To extend the definition of transposition to the general, non-rectangular case, we can consider the *invariants* of rectangular transposition, and see how they behave in the presence of raggedness.\n",
    "\n",
    "1. Transposition is a *total function* on arrays: any two dimensions of an array can be transposed, and the result will also be a well-formed array. \n",
    "   \n",
    "2. Transposition redistributes elements so that a given element _A[i, j]_ will be found at _(A^T)[j, i]_ (generalized to any pair of dimensions in an _n_-dimensional array)\n",
    "\n",
    "A consequence of these invariants which can be useful in guiding intuition is\n",
    "\n",
    "3. Transposition is *invertible*: transposing an array twice (on the same dimensions) will produce the original array.\n",
    "\n",
    "### Shear\n",
    "\n",
    "For most useful combinations of ragged shapes and transposed dimensions, these invariants are easily preserved. \n",
    "\n",
    "However, a subset of ragged transpositions will cause a distortion in the result - fold uses the term *shear* for this distortion, due to its similarity to the shearing transformation of rectangular matrices. When shearing occurs, invariants #2 and (thus) #3 above no longer hold.\n",
    "\n",
    "For intuition, consider the following 2-dimensional ragged array and its transposition:\n",
    "```\n",
    "[[0],\n",
    " [1, 2],\n",
    " [3],\n",
    " [4, 5]]\n",
    "->\n",
    "[[0, 1, 3, 4],\n",
    " [2, 5]]\n",
    "```\n",
    "Note how the elements from the ragged second column of the original array have been collected into a dense row in the transpose, breaking invariant #2. In a nutshell, a ragged array can shear under transposition due to *preservation of density*: ragged arrays are by definition dense - their shapes only model variation in *extent* along a dimension, not variation in *placement*. Avoiding shear in this example would require explicit placement of elements at sparse offsets, which purely ragged arrays have no way to express.\n",
    "\n",
    "(Aside: fold of course provides general tools for constructing sparse arrays, as *indexed compositions* of dense ragged arrays. See the \"Digression: Sparsity\" section at the end of this notebook, and notes elsewhere in this repo.)\n",
    "\n",
    "Next consider the following 2-dimensional ragged array, its transpose, and its double transpose:\n",
    "```\n",
    "[[0, 1, 3, 4],\n",
    " [2, 5]]\n",
    "-> \n",
    "[[0, 2],\n",
    " [1, 5],\n",
    " [3],\n",
    " [4]]\n",
    "->\n",
    "[[0, 1, 3, 4],\n",
    " [2, 5]]\n",
    "```\n",
    "Here shearing does not occur and transposition remains invertible. This is because the extents of the ragged dimension are *non-increasing*: the ragged dimension is `[4, 2]` in the first case and `[2, 2, 1, 1]` in the second case. \n",
    "\n",
    "(Note that our starting array in this example is just the result of the transpose in the previous example. Transposition in the presence of shear is *idempotent*.)\n",
    "\n",
    "With this intuition in mind, we'll now classify ragged transpositions more rigorously. \n",
    "\n",
    "### Transposition and ragged dimensions\n",
    "\n",
    "To more precisely understand the effect of transposition on ragged *shapes* (including the circumstances under which shear can occur), we can classify the effect of transposition on individual ragged *dimensions*, based on where in the shape they appear relative to the dimensions being transposed. \n",
    "\n",
    "We'll enumerate the possible relationships here, followed later by examples of each.\n",
    "\n",
    "1. A ragged dimension *outward* of the transposed dimensions is unaffected by the transposition.\n",
    "   \n",
    "2. A ragged dimension *inward* of the transposed dimensions is itself transposed.\n",
    "   \n",
    "3. A ragged dimension being *transposed inward* (that is, a ragged dimension that is the outer dimension of a transpose) is \"spread\": its elements are expanded by those of the inner dimension being transposed outward, combined with those of any \"gap\" dimensions between the transposed dimensions.\n",
    "\n",
    "4. A ragged dimension being *transposed outward* (that is, a ragged dimension that is the inner dimension of a transpose) will shear, unless its extents are *non-increasing* within the cells formed by each of the outer dimensions it is being transposed across. The shearing phenomenon is illustrated for simple examples above; for intuition on more involved examples, see the section on this case (#4) below.\n",
    "   \n",
    "5. A ragged \"gap\" dimension (between the two transposed dimensions) will shear, unless its extents are *non-increasing* within the cells formed by each of the dimensions between it and (inclusively) the outer dimension being transposed. (This case is closely related to #4.)\n",
    "\n",
    "Note that since ragged dimensions may appear anywhere in a ragged shape (except, trivially, its outermost dimension) any combination of these relationships may be in play during a particular transposition.\n",
    "\n",
    "Below are examples of transpositions demonstrating each of these relationships and their effects. But first, let's briefly zoom out to the bigger picture.\n",
    "\n",
    "### Defining transpose() in a ragged array API \n",
    "\n",
    "Given the possibility of shear, we essentially we have two options for how we define a transform function on ragged arrays:\n",
    "\n",
    "1. Make transpose a *partial* function, defined only on non-shearing transpositions.\n",
    "   \n",
    "2. Relax invariant #2 above, making transposition an operation that may leave elements in unexpected places, and is not always invertible (or, for that matter, always linear).\n",
    "\n",
    "Currently fold opts for #1, providing a guard method  `transpose_will_shear` and raising an exception on shearing transpositions. However, this design decision has no downstream dependencies beyond the implementation of transposition itself, and so can be refined or reversed.\n",
    "\n",
    "## Examples\n",
    "\n",
    "Following are examples that demonstrate the different cases described in the **Transposition and ragged dimensions** section above.\n",
    "\n",
    "## Case 1: a ragged dimension *outward* of the transposed dimensions\n",
    "\n",
    "This case is straightforward: any dimension (ragged or not) that is outward of a transposition - that is part of the frame within which cells are transposed - is undisturbed by the transposition.\n",
    "\n",
    "(For those unfamiliar with the terminology, any `(n+m)`-dimensional array can be viewed as an `n`-dimensional frame containing `m`-dimensional cells, for any `n` and `m` that sum to the total number of array dimensions.)\n",
    "\n",
    "Here's a simple example in which a 2-dimensional frame (with one of the dimensions ragged) contains 2-dimensional cells:"
   ]
  },
  {
   "cell_type": "code",
   "execution_count": 7,
   "id": "3b160533",
   "metadata": {},
   "outputs": [
    {
     "name": "stdout",
     "output_type": "stream",
     "text": [
      "Ragged dimension 1:\n",
      "Shape: (2, [1, 2], 2, 3)\n",
      "[[[[ 0,  1,  2],\n",
      "   [ 3,  4,  5]]],\n",
      "\n",
      "\n",
      " [[[ 6,  7,  8],\n",
      "   [ 9, 10, 11]],\n",
      "\n",
      "  [[12, 13, 14],\n",
      "   [15, 16, 17]]]]\n"
     ]
    }
   ],
   "source": [
    "print(\"Ragged dimension 1:\")\n",
    "a = arange(2, [1, 2], 2, 3)\n",
    "print(\"Shape:\", a.shape)\n",
    "print(a)"
   ]
  },
  {
   "cell_type": "markdown",
   "id": "d65dbe91",
   "metadata": {},
   "source": [
    "When we transpose the cells, the frame is unaffected:"
   ]
  },
  {
   "cell_type": "code",
   "execution_count": 8,
   "id": "a65bf27f",
   "metadata": {},
   "outputs": [
    {
     "name": "stdout",
     "output_type": "stream",
     "text": [
      "Dimensions 2, 3 transposed, dimension 1 unaffected:\n",
      "Shape: (2, [1, 2], 3, 2)\n",
      "[[[[ 0,  3],\n",
      "   [ 1,  4],\n",
      "   [ 2,  5]]],\n",
      "\n",
      "\n",
      " [[[ 6,  9],\n",
      "   [ 7, 10],\n",
      "   [ 8, 11]],\n",
      "\n",
      "  [[12, 15],\n",
      "   [13, 16],\n",
      "   [14, 17]]]]\n"
     ]
    }
   ],
   "source": [
    "print(\"Dimensions 2, 3 transposed, dimension 1 unaffected:\")\n",
    "t = a.transpose(2, 3)\n",
    "print(\"Shape:\", t.shape)\n",
    "print(t)"
   ]
  },
  {
   "cell_type": "markdown",
   "id": "071666e5",
   "metadata": {},
   "source": [
    "## Case 2: a ragged dimension *inward* of the transposed dimensions\n",
    "\n",
    "To build intuition for this case, consider an array containing ragged 1-dimensional cells within a 2-dimensional outer frame:"
   ]
  },
  {
   "cell_type": "code",
   "execution_count": 9,
   "id": "d9b90b9e",
   "metadata": {},
   "outputs": [
    {
     "name": "stdout",
     "output_type": "stream",
     "text": [
      "Ragged cells within an outer frame:\n",
      "Shape: (2, 3, Repeat([1, 2, 3], 2))\n",
      "[[[ 0],\n",
      "  [ 1,  2],\n",
      "  [ 3,  4,  5]],\n",
      "\n",
      " [[ 6],\n",
      "  [ 7,  8],\n",
      "  [ 9, 10, 11]]]\n"
     ]
    }
   ],
   "source": [
    "print(\"Ragged cells within an outer frame:\")\n",
    "a = arange(2, 3, [1, 2, 3])\n",
    "print(\"Shape:\", a.shape)\n",
    "print(a)"
   ]
  },
  {
   "cell_type": "markdown",
   "id": "2ec4a8dc",
   "metadata": {},
   "source": [
    "Transposing the outer frame will also transpose the cells, resulting in a transposition of the dimension that describes the cell extents:"
   ]
  },
  {
   "cell_type": "code",
   "execution_count": 10,
   "id": "626bda7e",
   "metadata": {},
   "outputs": [
    {
     "name": "stdout",
     "output_type": "stream",
     "text": [
      "Outer frame (dimensions 0, 1) transposed, inner ragged shape also transposed:\n",
      "Shape: (3, 2, [1, 1, 2, 2, 3, 3])\n",
      "[[[ 0],\n",
      "  [ 6]],\n",
      "\n",
      " [[ 1,  2],\n",
      "  [ 7,  8]],\n",
      "\n",
      " [[ 3,  4,  5],\n",
      "  [ 9, 10, 11]]]\n"
     ]
    }
   ],
   "source": [
    "print(\"Outer frame (dimensions 0, 1) transposed, inner ragged shape also transposed:\")\n",
    "t = a.transpose(0, 1)\n",
    "print(\"Shape:\", t.shape)\n",
    "print(t)"
   ]
  },
  {
   "cell_type": "markdown",
   "id": "9f37b4fb",
   "metadata": {},
   "source": [
    "Of course, *this same reordering* occurs in rectangular arrays, but is invisible at the shape level due to the regularity of rectangular dimensions."
   ]
  },
  {
   "cell_type": "markdown",
   "id": "e7057ecb",
   "metadata": {},
   "source": [
    "### Aside: the fold `Repeat` dimension\n",
    "\n",
    "Fold provides a small set of data structures for representing ragged dimensions that exhibit different kinds of regularity. `Repeat` is one such structure: the ragged dimension `Repeat([1, 2, 3], 2)` is simply the following sequence, encoded in packed form:"
   ]
  },
  {
   "cell_type": "code",
   "execution_count": 11,
   "id": "085aa4ef",
   "metadata": {},
   "outputs": [
    {
     "name": "stdout",
     "output_type": "stream",
     "text": [
      "[1, 2, 3, 1, 2, 3]\n"
     ]
    }
   ],
   "source": [
    "repeating_dim = Repeat([1, 2, 3], 2)\n",
    "print([i for i in repeating_dim])"
   ]
  },
  {
   "cell_type": "markdown",
   "id": "2b7352c7",
   "metadata": {},
   "source": [
    "## Case 3: a ragged dimension *transposed inward*\n",
    "\n",
    "When the outer dimension of a transpose is swapped with the inner dimension, we say that the outer dimension is *transposed inward*. \n",
    "\n",
    "When the outer dimension is ragged, the transposition will \"spread\" it, in the sense that each of its extents will be repeated by an amount given by the corresponding extent of new (post-transpose) outer dimension, *multiplied* by the extents of any \"gap\" dimensions appearing between the transposed dimensions.\n",
    "\n",
    "#### Simple example (no gap dimensions)\n",
    "\n",
    "First a simple example, in which the transposed dimensions are adjacent (so there is no gap). Here we have a 3-dimensional array with a ragged middle dimension, and we want to transpose the inner dimensions:"
   ]
  },
  {
   "cell_type": "code",
   "execution_count": 12,
   "id": "6a2a509a",
   "metadata": {},
   "outputs": [
    {
     "name": "stdout",
     "output_type": "stream",
     "text": [
      "3D array with ragged dimension 1:\n",
      "Shape: (2, [2, 3], 3)\n",
      "[[[ 0,  1,  2],\n",
      "  [ 3,  4,  5]],\n",
      "\n",
      " [[ 6,  7,  8],\n",
      "  [ 9, 10, 11],\n",
      "  [12, 13, 14]]]\n"
     ]
    }
   ],
   "source": [
    "print(\"3D array with ragged dimension 1:\")\n",
    "a = arange(2, [2, 3], 3)\n",
    "print(\"Shape:\", a.shape)\n",
    "print(a)"
   ]
  },
  {
   "cell_type": "markdown",
   "id": "39807b2a",
   "metadata": {},
   "source": [
    "Intuitively, when we transpose the inner dimensions (1 and 2) of this array, we are swapping rows and columns within each sheet. In doing so, we transform the ragged shape of the rows - the different number of rows in each sheet - into a ragged shape of *sequences of columns*. \n",
    "\n",
    "That is, as the shape travels inward, the number of things each of its extents describes is multiplied:"
   ]
  },
  {
   "cell_type": "code",
   "execution_count": 13,
   "id": "46538ebc",
   "metadata": {},
   "outputs": [
    {
     "name": "stdout",
     "output_type": "stream",
     "text": [
      "Dimensions 1, 2 transposed, dimension 1 transposed outward to 2 and spread:\n",
      "Shape: (2, 3, Runs([2, 3], 3))\n",
      "[[[ 0,  3],\n",
      "  [ 1,  4],\n",
      "  [ 2,  5]],\n",
      "\n",
      " [[ 6,  9, 12],\n",
      "  [ 7, 10, 13],\n",
      "  [ 8, 11, 14]]]\n"
     ]
    }
   ],
   "source": [
    "print(\"Dimensions 1, 2 transposed, dimension 1 transposed outward to 2 and spread:\")\n",
    "t = a.transpose(1, 2)\n",
    "print(\"Shape:\", t.shape)\n",
    "print(t)"
   ]
  },
  {
   "cell_type": "markdown",
   "id": "4009b852",
   "metadata": {},
   "source": [
    "### Aside: the fold `Runs` dimension\n",
    "\n",
    "`Runs` is another of the fold data structures used to encode ragged dimensions that exhibit regularity - in this case, the regularity consists of the sequence repeating each value a certain number of times before switching to the next value, a pattern can be efficiently represented using run-length encoding. \n",
    "\n",
    "Here, the ragged dimension `Runs([2, 4], 3)` is simply the following sequence encoded in run-length encoded form:"
   ]
  },
  {
   "cell_type": "code",
   "execution_count": 14,
   "id": "2afb81df",
   "metadata": {},
   "outputs": [
    {
     "name": "stdout",
     "output_type": "stream",
     "text": [
      "[2, 2, 2, 4, 4, 4]\n"
     ]
    }
   ],
   "source": [
    "run_length_encoded_dim = Runs([2, 4], 3)\n",
    "print([i for i in run_length_encoded_dim])"
   ]
  },
  {
   "cell_type": "markdown",
   "id": "c44034c0",
   "metadata": {},
   "source": [
    "### Case 3 example with 4 dimensions (the SDPA transpose)\n",
    "\n",
    "A canonical example of transposing a ragged dimension inward is the one used in Scaled Dot Product Attention to bring the attention head dimension outward of the token sequence dimension:"
   ]
  },
  {
   "cell_type": "code",
   "execution_count": 15,
   "id": "8a634757",
   "metadata": {},
   "outputs": [
    {
     "name": "stdout",
     "output_type": "stream",
     "text": [
      "Dims: batch_size=2 seq_len=[4, 5] num_heads=2 head_dim=3\n",
      "\n",
      "Shape: (2, [4, 5], 2, 3)\n",
      "[[[[ 0,  1,  2],\n",
      "   [ 3,  4,  5]],\n",
      "\n",
      "  [[ 6,  7,  8],\n",
      "   [ 9, 10, 11]],\n",
      "\n",
      "  [[12, 13, 14],\n",
      "   [15, 16, 17]],\n",
      "\n",
      "  [[18, 19, 20],\n",
      "   [21, 22, 23]]],\n",
      "\n",
      "\n",
      " [[[24, 25, 26],\n",
      "   [27, 28, 29]],\n",
      "\n",
      "  [[30, 31, 32],\n",
      "   [33, 34, 35]],\n",
      "\n",
      "  [[36, 37, 38],\n",
      "   [39, 40, 41]],\n",
      "\n",
      "  [[42, 43, 44],\n",
      "   [45, 46, 47]],\n",
      "\n",
      "  [[48, 49, 50],\n",
      "   [51, 52, 53]]]]\n",
      "\n",
      "Transposed shape: (2, 2, Runs([4, 5], 2), 3)\n",
      "[[[[ 0,  1,  2],\n",
      "   [ 6,  7,  8],\n",
      "   [12, 13, 14],\n",
      "   [18, 19, 20]],\n",
      "\n",
      "  [[ 3,  4,  5],\n",
      "   [ 9, 10, 11],\n",
      "   [15, 16, 17],\n",
      "   [21, 22, 23]]],\n",
      "\n",
      "\n",
      " [[[24, 25, 26],\n",
      "   [30, 31, 32],\n",
      "   [36, 37, 38],\n",
      "   [42, 43, 44],\n",
      "   [48, 49, 50]],\n",
      "\n",
      "  [[27, 28, 29],\n",
      "   [33, 34, 35],\n",
      "   [39, 40, 41],\n",
      "   [45, 46, 47],\n",
      "   [51, 52, 53]]]]\n"
     ]
    }
   ],
   "source": [
    "batch_size, seq_len, num_heads, head_dim = 2, [4, 5], 2, 3\n",
    "print(f\"Dims: {batch_size=} {seq_len=} {num_heads=} {head_dim=}\")\n",
    "a = arange(batch_size, seq_len, num_heads, head_dim)\n",
    "print(\"\\nShape:\", a.shape)\n",
    "print(a)\n",
    "t = a.transpose(1, 2)\n",
    "print(\"\\nTransposed shape:\", t.shape)\n",
    "print(t)"
   ]
  },
  {
   "cell_type": "markdown",
   "id": "7da5e5af",
   "metadata": {},
   "source": [
    "\n",
    "### Case 3 example with gap dimensions\n",
    "\n",
    "Now let's look at an example involving gap dimensions, to build intuition for the multiplicative effect they have on the spreading operation.\n",
    "\n",
    "Our array for this example is 4-dimensional, with a ragged dimension 1 - we can think of this shape as \"unequal-size batches of sheets.\" We aim to transpose dimensions 1 and 3 (\"swapping sheets for columns\")."
   ]
  },
  {
   "cell_type": "code",
   "execution_count": 16,
   "id": "40b50151",
   "metadata": {},
   "outputs": [
    {
     "name": "stdout",
     "output_type": "stream",
     "text": [
      "4D array with ragged dimension 1:\n",
      "Shape: (2, [2, 3], 2, 3)\n",
      "[[[[ 0,  1,  2],\n",
      "   [ 3,  4,  5]],\n",
      "\n",
      "  [[ 6,  7,  8],\n",
      "   [ 9, 10, 11]]],\n",
      "\n",
      "\n",
      " [[[12, 13, 14],\n",
      "   [15, 16, 17]],\n",
      "\n",
      "  [[18, 19, 20],\n",
      "   [21, 22, 23]],\n",
      "\n",
      "  [[24, 25, 26],\n",
      "   [27, 28, 29]]]]\n"
     ]
    }
   ],
   "source": [
    "print(\"4D array with ragged dimension 1:\")\n",
    "a = arange(2, [2, 3], 2, 3)\n",
    "print(\"Shape:\", a.shape)\n",
    "print(a)"
   ]
  },
  {
   "cell_type": "markdown",
   "id": "35b66ca2",
   "metadata": {},
   "source": [
    "Now when we transpose dimensions 1 and 3, dimension 1 will be spread by *both* dimensions 2 and 3. By the same intuition as in our gapless example, what has happened is that the ragged batch dimension must now describe batched sequences of columns:"
   ]
  },
  {
   "cell_type": "code",
   "execution_count": 17,
   "id": "ad76ecf2",
   "metadata": {},
   "outputs": [
    {
     "name": "stdout",
     "output_type": "stream",
     "text": [
      "Dimensions 1 and 3 transposed, dimension 1 transposed outward to 3 and spread:\n",
      "Shape: (2, 3, 2, Runs([2, 3], 6))\n",
      "[[[[ 0,  6],\n",
      "   [ 3,  9]],\n",
      "\n",
      "  [[ 1,  7],\n",
      "   [ 4, 10]],\n",
      "\n",
      "  [[ 2,  8],\n",
      "   [ 5, 11]]],\n",
      "\n",
      "\n",
      " [[[12, 18, 24],\n",
      "   [15, 21, 27]],\n",
      "\n",
      "  [[13, 19, 25],\n",
      "   [16, 22, 28]],\n",
      "\n",
      "  [[14, 20, 26],\n",
      "   [17, 23, 29]]]]\n"
     ]
    }
   ],
   "source": [
    "print(\"Dimensions 1 and 3 transposed, dimension 1 transposed outward to 3 and spread:\")\n",
    "t = a.transpose(1, 3)\n",
    "print(\"Shape:\", t.shape)\n",
    "print(t)"
   ]
  },
  {
   "cell_type": "markdown",
   "id": "fab803a8",
   "metadata": {},
   "source": [
    "## Case 4: A ragged dimension being *transposed outward*"
   ]
  },
  {
   "cell_type": "markdown",
   "id": "0ce51a81",
   "metadata": {},
   "source": [
    "A ragged *inner* dimension *transposed outward* is safe from shear as long as its extents are *non-increasing* (in effect, sorted in descending order) within the cells formed by the outer dimension(s) it is being transposed across.\n",
    "\n",
    "We went through a simple example of this case earlier, when we introduced shear. Here we'll illustrate its behavior in more general situations.\n",
    "\n",
    "To start, here's an array with a slightly more involved shape - a batch of unequal-sized rectangles. Dimensions 1 and 2 are both ragged: dimension 1 tells us the (varying) height of each rectangle, and dimension 2 tells us width of each row (constant within rectangles, but varying from one rectangle to another):"
   ]
  },
  {
   "cell_type": "code",
   "execution_count": 18,
   "id": "f5df13f7",
   "metadata": {},
   "outputs": [
    {
     "name": "stdout",
     "output_type": "stream",
     "text": [
      "4D array with ragged dimensions 1 and 2 (batch of unequal-shape rectangles):\n",
      "Shape: (3, [3, 2, 3], Runs([4, 3, 4], [3, 2, 3]))\n",
      "Shape unpacked: ([3], [3, 2, 3], [4, 4, 4, 3, 3, 4, 4, 4])\n",
      "[[[ 0,  1,  2,  3],\n",
      "  [ 4,  5,  6,  7],\n",
      "  [ 8,  9, 10, 11]],\n",
      "\n",
      " [[12, 13, 14],\n",
      "  [15, 16, 17]],\n",
      "\n",
      " [[18, 19, 20, 21],\n",
      "  [22, 23, 24, 25],\n",
      "  [26, 27, 28, 29]]]\n"
     ]
    }
   ],
   "source": [
    "print(\"4D array with ragged dimensions 1 and 2 (batch of unequal-shape rectangles):\")\n",
    "a = arange(3, [3, 2, 3], Runs([4, 3, 4], [3, 2, 3]))\n",
    "print(\"Shape:\", a.shape)\n",
    "print(\"Shape unpacked:\", a.shape.unpack())\n",
    "print(a)"
   ]
  },
  {
   "cell_type": "markdown",
   "id": "58705b6e",
   "metadata": {},
   "source": [
    "Transposing dimensions 1 and 2 of this array will transpose each rectangle in place. \n",
    "\n",
    "Note that in this case *both* diemnsions being transposed are ragged: our focus here is on what happens to the inner ragged dimension as it is transposed outward, but we can also observe multiple ragged dimensions being involved in different ways in the same transposition."
   ]
  },
  {
   "cell_type": "code",
   "execution_count": 19,
   "id": "c4f490e0",
   "metadata": {},
   "outputs": [
    {
     "name": "stdout",
     "output_type": "stream",
     "text": [
      "Dimensions 1 and 2 transposed:\n",
      "Shape: (3, [4, 3, 4], Runs([3, 2, 3], [4, 3, 4]))\n",
      "[[[ 0,  4,  8],\n",
      "  [ 1,  5,  9],\n",
      "  [ 2,  6, 10],\n",
      "  [ 3,  7, 11]],\n",
      "\n",
      " [[12, 15],\n",
      "  [13, 16],\n",
      "  [14, 17]],\n",
      "\n",
      " [[18, 22, 26],\n",
      "  [19, 23, 27],\n",
      "  [20, 24, 28],\n",
      "  [21, 25, 29]]]\n"
     ]
    }
   ],
   "source": [
    "print(\"Dimensions 1 and 2 transposed:\")\n",
    "t = a.transpose(1, 2)\n",
    "print(\"Shape:\", t.shape)\n",
    "print(t)"
   ]
  },
  {
   "cell_type": "markdown",
   "id": "830da920",
   "metadata": {},
   "source": [
    "This transposition avoids shear because its ragged inner dimension is non-increasing within the cells of the outer dimension it is being transposed across (in fact, within those cells it's rectangular).\n",
    "\n",
    "For a more flagrantly ragged example, consider the following array and its transpose. Here the batch elements are no longer rectangular, but they maintain the *non-increasing* property that within each cell, no extent is greater than its predecessor."
   ]
  },
  {
   "cell_type": "code",
   "execution_count": 20,
   "id": "80b096e9",
   "metadata": {},
   "outputs": [
    {
     "name": "stdout",
     "output_type": "stream",
     "text": [
      "\n",
      "3D array with ragged dimensions 1 and 2:\n",
      "Shape: (3, [3, 2, 3], [3, 2, 1, 3, 1, 2, 1, 1])\n",
      "Shape unpacked: ([3], [3, 2, 3], [3, 2, 1, 3, 1, 2, 1, 1])\n",
      "[[[ 0,  1,  2],\n",
      "  [ 3,  4],\n",
      "  [ 5]],\n",
      "\n",
      " [[ 6,  7,  8],\n",
      "  [ 9]],\n",
      "\n",
      " [[10, 11],\n",
      "  [12],\n",
      "  [13]]]\n",
      "\n",
      "Dimensions 1 and 2 transposed:\n",
      "Shape: (3, Runs([3, 2], [2, 1]), [3, 2, 1, 2, 1, 1, 3, 1])\n",
      "[[[ 0,  3,  5],\n",
      "  [ 1,  4],\n",
      "  [ 2]],\n",
      "\n",
      " [[ 6,  9],\n",
      "  [ 7],\n",
      "  [ 8]],\n",
      "\n",
      " [[10, 12, 13],\n",
      "  [11]]]\n"
     ]
    }
   ],
   "source": [
    "print(\"\\n3D array with ragged dimensions 1 and 2:\")\n",
    "a = arange(3, [3, 2, 3], [3, 2, 1, 3, 1, 2, 1, 1])\n",
    "print(\"Shape:\", a.shape)\n",
    "print(\"Shape unpacked:\", a.shape.unpack())\n",
    "print(a)\n",
    "print(\"\\nDimensions 1 and 2 transposed:\")\n",
    "t = a.transpose(1, 2)\n",
    "print(\"Shape:\", t.shape)\n",
    "print(t)"
   ]
  },
  {
   "cell_type": "markdown",
   "id": "ba585478",
   "metadata": {},
   "source": [
    "## Case 5: A ragged dimension between two transposed dimensions\n",
    "\n",
    "A ragged \"gap\" dimension (one that lies between the two dimensions being transposed) is safe from shear as long as its extents are non-increasing within the cells formed by each of the dimensions between it and (inclusively) the outer dimension being transposed. \n",
    "\n",
    "This case is closely related to the previous one.\n",
    "\n",
    "In this example, dimension 1 defines two cells of 3 matrices each, and that dimension 2 has non-increasing extents within each of these cells (but note that the shape does *not* need to repeat identically within each cell):"
   ]
  },
  {
   "cell_type": "code",
   "execution_count": 21,
   "id": "0423a980",
   "metadata": {},
   "outputs": [
    {
     "name": "stdout",
     "output_type": "stream",
     "text": [
      "Shape: (2, 3, [6, 5, 4, 3, 2, 1], 2)\n",
      "[[[[ 0,  1],\n",
      "   [ 2,  3],\n",
      "   [ 4,  5],\n",
      "   [ 6,  7],\n",
      "   [ 8,  9],\n",
      "   [10, 11]],\n",
      "\n",
      "  [[12, 13],\n",
      "   [14, 15],\n",
      "   [16, 17],\n",
      "   [18, 19],\n",
      "   [20, 21]],\n",
      "\n",
      "  [[22, 23],\n",
      "   [24, 25],\n",
      "   [26, 27],\n",
      "   [28, 29]]],\n",
      "\n",
      "\n",
      " [[[30, 31],\n",
      "   [32, 33],\n",
      "   [34, 35]],\n",
      "\n",
      "  [[36, 37],\n",
      "   [38, 39]],\n",
      "\n",
      "  [[40, 41]]]]\n"
     ]
    }
   ],
   "source": [
    "a = arange(2, 3, [6, 5, 4, 3, 2, 1], 2)\n",
    "print(\"Shape:\", a.shape)\n",
    "print(a)"
   ]
  },
  {
   "cell_type": "markdown",
   "id": "5629240f",
   "metadata": {},
   "source": [
    "We can transpose dimensions 1 and 3 (on either side of ragged dimension 2) without shearing, because dimension 2 is non-increasing within the cells of dimension 1:"
   ]
  },
  {
   "cell_type": "code",
   "execution_count": 22,
   "id": "c47c1d9d",
   "metadata": {},
   "outputs": [
    {
     "name": "stdout",
     "output_type": "stream",
     "text": [
      "Shape: (2, 2, Runs([6, 3], [2, 2]), Runs([3, 2, 1, 3, 2, 1, 3, 2, 1, 3, 2, 1], [4, 1, 1, 4, 1, 1, 1, 1, 1, 1, 1, 1]))\n",
      "[[[[ 0, 12, 22],\n",
      "   [ 2, 14, 24],\n",
      "   [ 4, 16, 26],\n",
      "   [ 6, 18, 28],\n",
      "   [ 8, 20],\n",
      "   [10]],\n",
      "\n",
      "  [[ 1, 13, 23],\n",
      "   [ 3, 15, 25],\n",
      "   [ 5, 17, 27],\n",
      "   [ 7, 19, 29],\n",
      "   [ 9, 21],\n",
      "   [11]]],\n",
      "\n",
      "\n",
      " [[[30, 36, 40],\n",
      "   [32, 38],\n",
      "   [34]],\n",
      "\n",
      "  [[31, 37, 41],\n",
      "   [33, 39],\n",
      "   [35]]]]\n"
     ]
    }
   ],
   "source": [
    "t = a.transpose(1, 3)\n",
    "print(\"Shape:\", t.shape)\n",
    "print(t)"
   ]
  },
  {
   "cell_type": "markdown",
   "id": "3bd64646",
   "metadata": {},
   "source": [
    "The example above illustrates why the non-increasing property prevents shear: within each cell of 3 matrices, we're taking columns stacked vertically in the original array, and restacking them horizontally, left to right. For this to work without shearing, the columns need to be non-increasing in height.\n",
    "\n",
    "### `transpose_will_shear()`\n",
    "\n",
    "In fold, transpose() will raise an exception if the transposition would shear. To guard against this, `transpose_will_shear()` can be called to check for shearing. Using our original shearing example:"
   ]
  },
  {
   "cell_type": "code",
   "execution_count": 25,
   "id": "28e11920",
   "metadata": {},
   "outputs": [
    {
     "name": "stdout",
     "output_type": "stream",
     "text": [
      "Shape: (4, [1, 2, 1, 2])\n",
      "[[0],\n",
      " [1, 2],\n",
      " [3],\n",
      " [4, 5]]\n",
      "\n",
      "a.transpose_will_shear(0, 1)=True\n"
     ]
    }
   ],
   "source": [
    "a = arange(4, [1, 2, 1,2])\n",
    "print(\"Shape:\", a.shape)\n",
    "print(a)\n",
    "print(f\"\\n{a.transpose_will_shear(0, 1)=}\")"
   ]
  },
  {
   "cell_type": "markdown",
   "id": "d56fdbc5",
   "metadata": {},
   "source": [
    "## Appendix: Sparsity\n",
    "\n",
    "As noted above, ragged arrays are definitionally dense, and lack the means to express sparsity. This is essential to a properly factored array model: raggedness is a fundamentally simpler property than sparsity, and the rules for ragged arrays should be encumbered by this extra machinery. \n",
    "\n",
    "Instead, sparsity should be modeled in terms of *composition* of ragged arrays. In fold, indexes are expressive enough to model the sparse scattering of elements into a backing array, enabling sparse arrays to be neatly expressed as deferred (\"lazy\") indexed assignments.\n",
    "\n",
    "Stepping back: in fold arrays can be composed both eagerly/mutatively, via direct indexed assignment, and lazily/functionally, via what fold calls *overlays*. The observable results of an indexed assignment and its equivalent overlay are identical - the only difference is evaluation:\n",
    "\n",
    "* An indexed assignment is evaluated immediately, modifying the destination array.\n",
    "\n",
    "* An overlay is a lazy structure that holds references to both source and destination arrays, along with the index (actually a view) locating source elements within the destination. An overlay's __setitem__ and __getitem__ methods mimic the result of the corresponding indexed assignment.\n",
    "\n",
    "As should be clear, traditional sparse representations are overlays:\n",
    "\n",
    "* the destination array is a field of zero elements. In purpose-built sparse data structures this is normally implicit or denoted only by shape metadata and possibly a fill value; in fold the array is explicit (since an overlay can have any array or view as its destination, just like an indexed assignment), but use of zero striding essentially reduces any constant-value array to its shape and a fill value, in terms of storage cost.\n",
    "\n",
    "* the source array is the \"values\" structure, using standard sparse representation terminology\n",
    "\n",
    "* the view that locates source elements within the destination (fold calls this the image of the overlay) is the \"index\" structure, in sparse parlance. We can express the various traditional sparse formats using different varieties of raggedness in the image.\n",
    "\n",
    "As a quick example, let's revisit the ragged array example used above to demonstrate *shear* (replacing arange with random for readablity):"
   ]
  },
  {
   "cell_type": "code",
   "execution_count": 175,
   "id": "58e92799",
   "metadata": {},
   "outputs": [
    {
     "name": "stdout",
     "output_type": "stream",
     "text": [
      "Ragged:\n",
      "\n",
      "[[0.2724],\n",
      " [0.4400, 0.1165],\n",
      " [0.8939],\n",
      " [0.0244, 0.9330]]\n"
     ]
    }
   ],
   "source": [
    "a = rand(4, [1, 2, 1, 2])\n",
    "print(\"Ragged:\\n\")\n",
    "print(a)"
   ]
  },
  {
   "cell_type": "markdown",
   "id": "a9f7bc14",
   "metadata": {},
   "source": [
    "Before using an overlay to model a sparse structure, let's simply scatter the elements of this ragged array into a backing array filled with zeros, using ordinary indexed assignment to mutate the backing array, to get a feel for the moving parts of indexed assignments in fold.\n",
    "\n",
    "Here, `a.image()` produces a tuple of (advanced) index values, one per dimension, which together index the entire array `a`."
   ]
  },
  {
   "cell_type": "code",
   "execution_count": 187,
   "id": "d0ff44ce",
   "metadata": {},
   "outputs": [
    {
     "name": "stdout",
     "output_type": "stream",
     "text": [
      "Index image of a:\n",
      "dimension 0:\n",
      "[[0],\n",
      " [1, 1],\n",
      " [2],\n",
      " [3, 3]]\n",
      "dimension 1:\n",
      "[[0],\n",
      " [0, 1],\n",
      " [0],\n",
      " [0, 1]]\n"
     ]
    }
   ],
   "source": [
    "a_image = a.image()\n",
    "print(\"Index image of a:\")\n",
    "for i, ix in enumerate(a_image): \n",
    "  print(f\"dimension {i}:\")\n",
    "  print(ix)"
   ]
  },
  {
   "cell_type": "markdown",
   "id": "9bb55c9b",
   "metadata": {},
   "source": [
    "Using this index we can project `a` onto a rectangular backing array:"
   ]
  },
  {
   "cell_type": "code",
   "execution_count": 189,
   "id": "ae8ee152",
   "metadata": {},
   "outputs": [
    {
     "name": "stdout",
     "output_type": "stream",
     "text": [
      "[[0.2724, 0.0000],\n",
      " [0.4400, 0.1165],\n",
      " [0.8939, 0.0000],\n",
      " [0.0244, 0.9330]]\n"
     ]
    }
   ],
   "source": [
    "r = zeros(4, 2)\n",
    "r[a_image] = a\n",
    "print(r)"
   ]
  },
  {
   "cell_type": "markdown",
   "id": "21373c73",
   "metadata": {},
   "source": [
    "Calling back to our first discussion of shear, it's now easy to see why sparsity (really, zero padding) is required to express a shear-free transpose on this shape:"
   ]
  },
  {
   "cell_type": "code",
   "execution_count": 191,
   "id": "b595cef5",
   "metadata": {},
   "outputs": [
    {
     "name": "stdout",
     "output_type": "stream",
     "text": [
      "[[0.2724, 0.4400, 0.8939, 0.0244],\n",
      " [0.0000, 0.1165, 0.0000, 0.9330]]\n"
     ]
    }
   ],
   "source": [
    "t = r.transpose(0, 1)\n",
    "print(t)\n"
   ]
  },
  {
   "cell_type": "markdown",
   "id": "89b7d388",
   "metadata": {},
   "source": [
    "Now let's create a bona fide sparse structure - an overlay - to represent this array. Instead of eagerly mutating a backing array, we'll an overlay holds the components of the assignment in a lazy structure. \n",
    "\n",
    "And it will turn out that these components correspond directly to the substructures of a standard sparse representation."
   ]
  },
  {
   "cell_type": "code",
   "execution_count": 193,
   "id": "544f0941",
   "metadata": {},
   "outputs": [
    {
     "name": "stdout",
     "output_type": "stream",
     "text": [
      "Overlay is observationally equivalent to eager assignment:\n",
      "\n",
      "[[0.2724, 0.0000],\n",
      " [0.4400, 0.1165],\n",
      " [0.8939, 0.0000],\n",
      " [0.0244, 0.9330]]\n"
     ]
    }
   ],
   "source": [
    "dest = zeros().expand(4, 2)\n",
    "image = a.image()\n",
    "ov = dest.overlay[image](a)\n",
    "print(\"Overlay is observationally equivalent to eager assignment:\\n\")\n",
    "print(ov)"
   ]
  },
  {
   "cell_type": "markdown",
   "id": "29124718",
   "metadata": {},
   "source": [
    "The components of the overlay are unmodified: it simply holds references to the source array and destination array, along with a constructed indexing image.\n",
    "\n",
    "The destination and source arrays are `dest` and `a` respectively, created above:"
   ]
  },
  {
   "cell_type": "code",
   "execution_count": 194,
   "id": "649d35f2",
   "metadata": {},
   "outputs": [
    {
     "name": "stdout",
     "output_type": "stream",
     "text": [
      "ov.dest is dest=True\n",
      "ov.src is a=True\n"
     ]
    }
   ],
   "source": [
    "print(f\"{ov.dest is dest=}\")\n",
    "print(f\"{ov.src is a=}\")"
   ]
  },
  {
   "cell_type": "markdown",
   "id": "045b05b0",
   "metadata": {},
   "source": [
    "The overlay's *image* is an indexing view built at overlay creation time. The view's shape is that of the source array, and its strides specify how the source array's elements are scattered into the destination."
   ]
  },
  {
   "cell_type": "code",
   "execution_count": 195,
   "id": "edf0032a",
   "metadata": {},
   "outputs": [
    {
     "name": "stdout",
     "output_type": "stream",
     "text": [
      "View(shape=Shape(Rect(4, 1), Seq([1, 2, 1, 2])), strides=Strides(Rect(2, 4), Seq([2, 1, 1, 2, 1, 1])), offset=0)\n",
      "shape: (4, [1, 2, 1, 2])\n",
      "strides: (2, [2, 1, 1, 2, 1, 1])\n"
     ]
    }
   ],
   "source": [
    "print(ov.image)\n",
    "print(\"shape:\", ov.image.shape)\n",
    "print(\"strides:\", ov.image.strides)"
   ]
  },
  {
   "cell_type": "markdown",
   "id": "c646147e",
   "metadata": {},
   "source": [
    "For intuition, note that the overlay's image is exactly the view we would construct to *recover* our original ragged array from the padded rectangular array `r` we created earlier:"
   ]
  },
  {
   "cell_type": "code",
   "execution_count": 196,
   "id": "a5d1796c",
   "metadata": {},
   "outputs": [
    {
     "name": "stdout",
     "output_type": "stream",
     "text": [
      "a recovered from r:\n",
      "\n",
      "[[0.2724],\n",
      " [0.4400, 0.1165],\n",
      " [0.8939],\n",
      " [0.0244, 0.9330]]\n"
     ]
    }
   ],
   "source": [
    "print(\"a recovered from r:\\n\")\n",
    "print(Array(r.data, ov.image))\n"
   ]
  },
  {
   "cell_type": "markdown",
   "id": "f9164ff3",
   "metadata": {},
   "source": []
  }
 ],
 "metadata": {
  "kernelspec": {
   "display_name": "Python 3 (ipykernel)",
   "language": "python",
   "name": "python3"
  },
  "language_info": {
   "codemirror_mode": {
    "name": "ipython",
    "version": 3
   },
   "file_extension": ".py",
   "mimetype": "text/x-python",
   "name": "python",
   "nbconvert_exporter": "python",
   "pygments_lexer": "ipython3",
   "version": "3.9.12"
  }
 },
 "nbformat": 4,
 "nbformat_minor": 5
}
